{
  "nbformat": 4,
  "nbformat_minor": 0,
  "metadata": {
    "colab": {
      "provenance": [],
      "authorship_tag": "ABX9TyNM13AzMFoaB9S5MXD8DpbC",
      "include_colab_link": true
    },
    "kernelspec": {
      "name": "python3",
      "display_name": "Python 3"
    },
    "language_info": {
      "name": "python"
    }
  },
  "cells": [
    {
      "cell_type": "markdown",
      "metadata": {
        "id": "view-in-github",
        "colab_type": "text"
      },
      "source": [
        "<a href=\"https://colab.research.google.com/github/HardikPrabhu/Quick-tutorials-for-pytorch/blob/main/First_Neural_Network.ipynb\" target=\"_parent\"><img src=\"https://colab.research.google.com/assets/colab-badge.svg\" alt=\"Open In Colab\"/></a>"
      ]
    },
    {
      "cell_type": "markdown",
      "source": [
        "# Creating first Neural Net using pytorch\n",
        "\n"
      ],
      "metadata": {
        "id": "7TUzVtu3tzpx"
      }
    },
    {
      "cell_type": "markdown",
      "source": [
        "A simple linear transformation :\n",
        "\n",
        " A linear transformation is given by  $y = Ax$. Let $x \\in R^{10}$ and $y \\in R^5$. Then the shape of the matrix A should be (5,10)"
      ],
      "metadata": {
        "id": "TEwqohVqvS6f"
      }
    },
    {
      "cell_type": "code",
      "source": [
        "# y = Ax\n",
        "import torch\n",
        "A = torch.rand(5,10)\n",
        "x = torch.rand(10)\n",
        "y = A@x\n",
        "print(x.shape,y.shape)"
      ],
      "metadata": {
        "id": "XhgK4T47tywJ",
        "colab": {
          "base_uri": "https://localhost:8080/"
        },
        "outputId": "44e66108-38bd-4a31-a028-4c49d0021a88"
      },
      "execution_count": 2,
      "outputs": [
        {
          "output_type": "stream",
          "name": "stdout",
          "text": [
            "torch.Size([10]) torch.Size([5])\n"
          ]
        }
      ]
    },
    {
      "cell_type": "markdown",
      "source": [
        "Neural networks requires compution done in batches (Loss function supports batch wise, matrix multiplication supports batchwise will be able to use GPUs).\n",
        "\n",
        "Therfore, the same transformation could be written as\n",
        "\n",
        "$Y = XA^T$\n",
        "\n",
        "where X is of shape (n,10), A of shape (5,10) and Y of shape(n,5). n is the number of samples. $X = [x_1,x_2, ...x_n]^T $\n",
        "\n",
        "\n",
        "\n",
        "\n",
        "\n"
      ],
      "metadata": {
        "id": "9xQq5LOkCaJv"
      }
    },
    {
      "cell_type": "code",
      "source": [
        "n = 10\n",
        "x = x.view(1,-1)\n",
        "X = torch.concat([x]*n, axis = 0)  # batch of copies of same instance\n",
        "Y = X@A.T\n",
        "print(Y) # per row (same calculations are happening)"
      ],
      "metadata": {
        "colab": {
          "base_uri": "https://localhost:8080/"
        },
        "id": "rKOb7I4oDkJL",
        "outputId": "44914773-4363-415e-ec45-38134316c03e"
      },
      "execution_count": 3,
      "outputs": [
        {
          "output_type": "stream",
          "name": "stdout",
          "text": [
            "tensor([[2.8343, 1.9582, 2.6418, 2.3198, 2.8973],\n",
            "        [2.8343, 1.9582, 2.6418, 2.3198, 2.8973],\n",
            "        [2.8343, 1.9582, 2.6418, 2.3198, 2.8973],\n",
            "        [2.8343, 1.9582, 2.6418, 2.3198, 2.8973],\n",
            "        [2.8343, 1.9582, 2.6418, 2.3198, 2.8973],\n",
            "        [2.8343, 1.9582, 2.6418, 2.3198, 2.8973],\n",
            "        [2.8343, 1.9582, 2.6418, 2.3198, 2.8973],\n",
            "        [2.8343, 1.9582, 2.6418, 2.3198, 2.8973],\n",
            "        [2.8343, 1.9582, 2.6418, 2.3198, 2.8973],\n",
            "        [2.8343, 1.9582, 2.6418, 2.3198, 2.8973]])\n"
          ]
        }
      ]
    },
    {
      "cell_type": "code",
      "source": [
        "# Now, lets try y = Ax + b  (let broadcasting takes care of it)\n",
        "b = torch.tensor([1,2,3,4,5])\n",
        "Y= X@A.T + b  # Shapes x:[n,10] A:[5,10]  -> X@T: [n,5] and b:[5] which by brodcasting becomes [5,5] same b each row:  essentially each row is (Ax_i+b).T [which is the lienar transformation we need]\n",
        "print(Y)"
      ],
      "metadata": {
        "colab": {
          "base_uri": "https://localhost:8080/"
        },
        "id": "MjsQX7teF3k7",
        "outputId": "c0ce598b-bdd3-402f-ac43-1a585c1bdba5"
      },
      "execution_count": 4,
      "outputs": [
        {
          "output_type": "stream",
          "name": "stdout",
          "text": [
            "tensor([[3.8343, 3.9582, 5.6418, 6.3198, 7.8973],\n",
            "        [3.8343, 3.9582, 5.6418, 6.3198, 7.8973],\n",
            "        [3.8343, 3.9582, 5.6418, 6.3198, 7.8973],\n",
            "        [3.8343, 3.9582, 5.6418, 6.3198, 7.8973],\n",
            "        [3.8343, 3.9582, 5.6418, 6.3198, 7.8973],\n",
            "        [3.8343, 3.9582, 5.6418, 6.3198, 7.8973],\n",
            "        [3.8343, 3.9582, 5.6418, 6.3198, 7.8973],\n",
            "        [3.8343, 3.9582, 5.6418, 6.3198, 7.8973],\n",
            "        [3.8343, 3.9582, 5.6418, 6.3198, 7.8973],\n",
            "        [3.8343, 3.9582, 5.6418, 6.3198, 7.8973]])\n"
          ]
        }
      ]
    },
    {
      "cell_type": "code",
      "source": [
        "# A neural network Layer Transform :   Have a horizontal view (data points are row vectors)\n",
        "# Example of a soft-max operation\n",
        "\n",
        "in_dim = 10\n",
        "X = torch.rand(4,in_dim)  # 4 rows 10 features\n",
        "out_dim = 5\n",
        "W = torch.rand(in_dim,out_dim)\n",
        "b = torch.rand(out_dim)\n",
        "Z = X@W + b # broadcasting does the trick:  shape(4,5) + shape(5) ->  shape(4,5) + shape(1,5) -> shape(4,5) + shape(5,5) # creates copy of b per row and then\n",
        "Z = torch.exp(Z) # element wise exp  (4,5)\n",
        "print(Z.shape)\n",
        "s = Z.sum(axis=1).view(-1,1) # Reshaping is important otherwise in certain cases, broadcasting may result in undesired results\n",
        "print(s.shape)\n",
        "softmax_out = Z/s   # shape(4,5)/shape(4,1) -> shape(4,5)/shape(4,5) copying along 1 dim.\n",
        "print(softmax_out)\n",
        "print(\"all rows sum upto 1 (as it should be)\")\n",
        "softmax_out.sum(axis=1)\n"
      ],
      "metadata": {
        "colab": {
          "base_uri": "https://localhost:8080/"
        },
        "id": "rGX7Qs4nGmjc",
        "outputId": "81dd778a-9fea-4434-9dce-bbe8b32f7f97"
      },
      "execution_count": 5,
      "outputs": [
        {
          "output_type": "stream",
          "name": "stdout",
          "text": [
            "torch.Size([4, 5])\n",
            "torch.Size([4, 1])\n",
            "tensor([[0.1486, 0.2613, 0.1466, 0.2550, 0.1885],\n",
            "        [0.1196, 0.3810, 0.0901, 0.1674, 0.2419],\n",
            "        [0.1689, 0.2593, 0.0993, 0.0798, 0.3927],\n",
            "        [0.1686, 0.4000, 0.0877, 0.1168, 0.2268]])\n",
            "all rows sum upto 1 (as it should be)\n"
          ]
        },
        {
          "output_type": "execute_result",
          "data": {
            "text/plain": [
              "tensor([1.0000, 1.0000, 1.0000, 1.0000])"
            ]
          },
          "metadata": {},
          "execution_count": 5
        }
      ]
    },
    {
      "cell_type": "markdown",
      "source": [
        "# Basic models using pytorch"
      ],
      "metadata": {
        "id": "CO3q-uUzu5fk"
      }
    },
    {
      "cell_type": "code",
      "source": [
        "import torch\n",
        "import torch.nn as nn\n"
      ],
      "metadata": {
        "id": "xmKJBYbKvr76"
      },
      "execution_count": 6,
      "outputs": []
    },
    {
      "cell_type": "markdown",
      "source": [
        "1. Linear/logistic regression"
      ],
      "metadata": {
        "id": "-oBAshCQvHtx"
      }
    },
    {
      "cell_type": "code",
      "source": [
        "# First use randn to genetate some data\n",
        "X = torch.normal(0, 3, size=(100, 4))\n",
        "W = torch.tensor([1.0,2,4,1])\n",
        "b = torch.ones(100)\n",
        "Y =  X @ W  + b\n",
        "print(Y.shape)\n"
      ],
      "metadata": {
        "id": "qZL5ScuYj6y7",
        "colab": {
          "base_uri": "https://localhost:8080/"
        },
        "outputId": "13043a29-6042-4a42-f6d9-2e96098a6639"
      },
      "execution_count": 7,
      "outputs": [
        {
          "output_type": "stream",
          "name": "stdout",
          "text": [
            "torch.Size([100])\n"
          ]
        }
      ]
    },
    {
      "cell_type": "code",
      "source": [
        "T = torch.normal(0,1,(4,))\n",
        "c = torch.tensor(0.0)\n",
        "params = [T,c]\n",
        "for p in params:\n",
        "    p.requires_grad=True\n",
        "\n",
        "learning_rate = 1e-3\n",
        "\n",
        "# The learning critera us already available (although we can create our custom one as well, will see it later)\n",
        "criterion = nn.MSELoss()\n",
        "optimizer = torch.optim.SGD(params,lr = learning_rate)"
      ],
      "metadata": {
        "id": "PucmpkmL7Tg4"
      },
      "execution_count": 8,
      "outputs": []
    },
    {
      "cell_type": "code",
      "source": [
        "\n",
        "for steps in range(10000):\n",
        "  Y_pred = X@T + c\n",
        "  loss = criterion(Y,Y_pred)\n",
        "  optimizer.zero_grad() # optimiser accumlates grads it useful when your network is not starightforward\n",
        "  loss.backward() # we have computed the required gradients\n",
        "  optimizer.step() # according to algorithm such as SDG (where W = W - learning_rate*grad is used to update the weights)\n",
        "print(loss.item())"
      ],
      "metadata": {
        "colab": {
          "base_uri": "https://localhost:8080/"
        },
        "id": "Lx_6-CI-8YEn",
        "outputId": "d1bbf259-54a4-4a42-9f39-c370f0a5157a"
      },
      "execution_count": 9,
      "outputs": [
        {
          "output_type": "stream",
          "name": "stdout",
          "text": [
            "9.629305131042543e-10\n"
          ]
        }
      ]
    },
    {
      "cell_type": "code",
      "source": [
        "T,c"
      ],
      "metadata": {
        "colab": {
          "base_uri": "https://localhost:8080/"
        },
        "id": "K1OUkTj98qAJ",
        "outputId": "a6b47a55-cb16-4c6d-dbc5-5530191e2110"
      },
      "execution_count": 10,
      "outputs": [
        {
          "output_type": "execute_result",
          "data": {
            "text/plain": [
              "(tensor([1.0000, 2.0000, 4.0000, 1.0000], requires_grad=True),\n",
              " tensor(1.0000, requires_grad=True))"
            ]
          },
          "metadata": {},
          "execution_count": 10
        }
      ]
    },
    {
      "cell_type": "code",
      "source": [
        "# more modular apporach Use wherever possible\n",
        "criterion = nn.MSELoss()\n",
        "class Linear_Regression(nn.Module):\n",
        "   def __init__(self, in_feat):\n",
        "    super().__init__() # call\n",
        "    # define layers\n",
        "    self.out = nn.Linear(in_feat,1) # this is going to be the name\n",
        "   def forward(self,x,y=None):\n",
        "      x = self.out(x)\n",
        "      if y is None:\n",
        "        return x\n",
        "      y = y.view(-1,1)\n",
        "      return criterion(x,y) # retun the loss or return the value, depends on the use\n",
        "\n"
      ],
      "metadata": {
        "id": "CelEc4jv90nk"
      },
      "execution_count": 11,
      "outputs": []
    },
    {
      "cell_type": "code",
      "source": [
        "model = Linear_Regression(4)\n",
        "optimizer = torch.optim.SGD(model.parameters(),lr = learning_rate)\n",
        "\n",
        "for steps in range(10000):\n",
        "  optimizer.zero_grad()\n",
        "  loss = model(X,Y)\n",
        "  loss.backward()\n",
        "  optimizer.step()  # Y_pred = 100\n",
        "print(loss.item())\n",
        "\n"
      ],
      "metadata": {
        "colab": {
          "base_uri": "https://localhost:8080/"
        },
        "id": "wQ0ctm1xAHIU",
        "outputId": "0ace9035-4979-40cc-d9f4-56a8d344d0ca"
      },
      "execution_count": 12,
      "outputs": [
        {
          "output_type": "stream",
          "name": "stdout",
          "text": [
            "9.629305131042543e-10\n"
          ]
        }
      ]
    },
    {
      "cell_type": "code",
      "source": [
        "for name,i in model.named_parameters():\n",
        "  print(name, i)"
      ],
      "metadata": {
        "colab": {
          "base_uri": "https://localhost:8080/"
        },
        "id": "Fcnqxj7XBWzW",
        "outputId": "7d28b0ef-ea90-49f1-f12f-50ddaab4dd3f"
      },
      "execution_count": 13,
      "outputs": [
        {
          "output_type": "stream",
          "name": "stdout",
          "text": [
            "out.weight Parameter containing:\n",
            "tensor([[1.0000, 2.0000, 4.0000, 1.0000]], requires_grad=True)\n",
            "out.bias Parameter containing:\n",
            "tensor([1.0000], requires_grad=True)\n"
          ]
        }
      ]
    },
    {
      "cell_type": "code",
      "source": [
        "# same problem logistic regression\n",
        "Y[Y>0] = 1\n",
        "Y[Y<=0] = 0"
      ],
      "metadata": {
        "id": "dW7YmAXaELxt"
      },
      "execution_count": 14,
      "outputs": []
    },
    {
      "cell_type": "code",
      "source": [
        "criterion = nn.BCELoss()\n",
        "\n",
        "class Logistic_Regression(nn.Module):\n",
        "   def __init__(self, in_feat):\n",
        "    super().__init__()\n",
        "    # as a rule of thumb, i prefer writing a(i) here and h(i) = non_linear(a(i)) in forward definition\n",
        "    self.out = nn.Linear(in_feat,1)\n",
        "   def forward(self,x,y=None):\n",
        "      x = self.out(x)\n",
        "      x = torch.sigmoid(x)\n",
        "\n",
        "      if y is None:\n",
        "        return x\n",
        "      y = y.view(-1,1)\n",
        "      return criterion(x,y)\n"
      ],
      "metadata": {
        "id": "Kidca58VEYHC"
      },
      "execution_count": 15,
      "outputs": []
    },
    {
      "cell_type": "code",
      "source": [
        "model = Logistic_Regression(4)\n",
        "optimizer = torch.optim.Adam(model.parameters(),lr = learning_rate)\n",
        "\n"
      ],
      "metadata": {
        "id": "REQSl8A2JVXo"
      },
      "execution_count": 16,
      "outputs": []
    },
    {
      "cell_type": "code",
      "source": [
        "for steps in range(10000):\n",
        "  optimizer.zero_grad()\n",
        "  loss = model(X,Y)\n",
        "  loss.backward()\n",
        "  optimizer.step()  # Y_pred = 100\n",
        "print(loss.item())\n",
        "\n",
        "\n",
        "for name,i in model.named_parameters():\n",
        "  print(name, i)"
      ],
      "metadata": {
        "colab": {
          "base_uri": "https://localhost:8080/"
        },
        "id": "lC_fOmUBMnG7",
        "outputId": "b674199c-6444-4131-d44e-8e759dd4ad5f"
      },
      "execution_count": 17,
      "outputs": [
        {
          "output_type": "stream",
          "name": "stdout",
          "text": [
            "0.013113501481711864\n",
            "out.weight Parameter containing:\n",
            "tensor([[1.3248, 3.3477, 5.9720, 1.2209]], requires_grad=True)\n",
            "out.bias Parameter containing:\n",
            "tensor([1.2914], requires_grad=True)\n"
          ]
        }
      ]
    },
    {
      "cell_type": "markdown",
      "source": [
        "# Notes on gradient decsent"
      ],
      "metadata": {
        "id": "qBRMykI2HwaQ"
      }
    },
    {
      "cell_type": "code",
      "source": [
        "a = torch.tensor([1.0,2,3],requires_grad=True)\n",
        "y = torch.dot(a,a)\n",
        "print(y)\n",
        "# y is part of the computational graph\n",
        "y.backward()\n",
        "a.grad"
      ],
      "metadata": {
        "id": "z5Cz_N0L_fGF",
        "colab": {
          "base_uri": "https://localhost:8080/"
        },
        "outputId": "1fa585fe-d7f1-48e0-ee9f-5a318eef1e37"
      },
      "execution_count": 18,
      "outputs": [
        {
          "output_type": "stream",
          "name": "stdout",
          "text": [
            "tensor(14., grad_fn=<DotBackward0>)\n"
          ]
        },
        {
          "output_type": "execute_result",
          "data": {
            "text/plain": [
              "tensor([2., 4., 6.])"
            ]
          },
          "metadata": {},
          "execution_count": 18
        }
      ]
    },
    {
      "cell_type": "code",
      "source": [
        "# cant call it again\n",
        "y.backward()"
      ],
      "metadata": {
        "colab": {
          "base_uri": "https://localhost:8080/",
          "height": 339
        },
        "id": "SSPjNq5Ozne5",
        "outputId": "95cdc47a-d3fd-443b-a6e2-6ea571641149"
      },
      "execution_count": 20,
      "outputs": [
        {
          "output_type": "error",
          "ename": "RuntimeError",
          "evalue": "Trying to backward through the graph a second time (or directly access saved tensors after they have already been freed). Saved intermediate values of the graph are freed when you call .backward() or autograd.grad(). Specify retain_graph=True if you need to backward through the graph a second time or if you need to access saved tensors after calling backward.",
          "traceback": [
            "\u001b[0;31m---------------------------------------------------------------------------\u001b[0m",
            "\u001b[0;31mRuntimeError\u001b[0m                              Traceback (most recent call last)",
            "\u001b[0;32m<ipython-input-20-ab75bb780f4c>\u001b[0m in \u001b[0;36m<cell line: 0>\u001b[0;34m()\u001b[0m\n\u001b[0;32m----> 1\u001b[0;31m \u001b[0my\u001b[0m\u001b[0;34m.\u001b[0m\u001b[0mbackward\u001b[0m\u001b[0;34m(\u001b[0m\u001b[0;34m)\u001b[0m\u001b[0;34m\u001b[0m\u001b[0;34m\u001b[0m\u001b[0m\n\u001b[0m",
            "\u001b[0;32m/usr/local/lib/python3.11/dist-packages/torch/_tensor.py\u001b[0m in \u001b[0;36mbackward\u001b[0;34m(self, gradient, retain_graph, create_graph, inputs)\u001b[0m\n\u001b[1;32m    624\u001b[0m                 \u001b[0minputs\u001b[0m\u001b[0;34m=\u001b[0m\u001b[0minputs\u001b[0m\u001b[0;34m,\u001b[0m\u001b[0;34m\u001b[0m\u001b[0;34m\u001b[0m\u001b[0m\n\u001b[1;32m    625\u001b[0m             )\n\u001b[0;32m--> 626\u001b[0;31m         torch.autograd.backward(\n\u001b[0m\u001b[1;32m    627\u001b[0m             \u001b[0mself\u001b[0m\u001b[0;34m,\u001b[0m \u001b[0mgradient\u001b[0m\u001b[0;34m,\u001b[0m \u001b[0mretain_graph\u001b[0m\u001b[0;34m,\u001b[0m \u001b[0mcreate_graph\u001b[0m\u001b[0;34m,\u001b[0m \u001b[0minputs\u001b[0m\u001b[0;34m=\u001b[0m\u001b[0minputs\u001b[0m\u001b[0;34m\u001b[0m\u001b[0;34m\u001b[0m\u001b[0m\n\u001b[1;32m    628\u001b[0m         )\n",
            "\u001b[0;32m/usr/local/lib/python3.11/dist-packages/torch/autograd/__init__.py\u001b[0m in \u001b[0;36mbackward\u001b[0;34m(tensors, grad_tensors, retain_graph, create_graph, grad_variables, inputs)\u001b[0m\n\u001b[1;32m    345\u001b[0m     \u001b[0;31m# some Python versions print out the first line of a multi-line function\u001b[0m\u001b[0;34m\u001b[0m\u001b[0;34m\u001b[0m\u001b[0m\n\u001b[1;32m    346\u001b[0m     \u001b[0;31m# calls in the traceback and some print out the last line\u001b[0m\u001b[0;34m\u001b[0m\u001b[0;34m\u001b[0m\u001b[0m\n\u001b[0;32m--> 347\u001b[0;31m     _engine_run_backward(\n\u001b[0m\u001b[1;32m    348\u001b[0m         \u001b[0mtensors\u001b[0m\u001b[0;34m,\u001b[0m\u001b[0;34m\u001b[0m\u001b[0;34m\u001b[0m\u001b[0m\n\u001b[1;32m    349\u001b[0m         \u001b[0mgrad_tensors_\u001b[0m\u001b[0;34m,\u001b[0m\u001b[0;34m\u001b[0m\u001b[0;34m\u001b[0m\u001b[0m\n",
            "\u001b[0;32m/usr/local/lib/python3.11/dist-packages/torch/autograd/graph.py\u001b[0m in \u001b[0;36m_engine_run_backward\u001b[0;34m(t_outputs, *args, **kwargs)\u001b[0m\n\u001b[1;32m    821\u001b[0m         \u001b[0munregister_hooks\u001b[0m \u001b[0;34m=\u001b[0m \u001b[0m_register_logging_hooks_on_whole_graph\u001b[0m\u001b[0;34m(\u001b[0m\u001b[0mt_outputs\u001b[0m\u001b[0;34m)\u001b[0m\u001b[0;34m\u001b[0m\u001b[0;34m\u001b[0m\u001b[0m\n\u001b[1;32m    822\u001b[0m     \u001b[0;32mtry\u001b[0m\u001b[0;34m:\u001b[0m\u001b[0;34m\u001b[0m\u001b[0;34m\u001b[0m\u001b[0m\n\u001b[0;32m--> 823\u001b[0;31m         return Variable._execution_engine.run_backward(  # Calls into the C++ engine to run the backward pass\n\u001b[0m\u001b[1;32m    824\u001b[0m             \u001b[0mt_outputs\u001b[0m\u001b[0;34m,\u001b[0m \u001b[0;34m*\u001b[0m\u001b[0margs\u001b[0m\u001b[0;34m,\u001b[0m \u001b[0;34m**\u001b[0m\u001b[0mkwargs\u001b[0m\u001b[0;34m\u001b[0m\u001b[0;34m\u001b[0m\u001b[0m\n\u001b[1;32m    825\u001b[0m         )  # Calls into the C++ engine to run the backward pass\n",
            "\u001b[0;31mRuntimeError\u001b[0m: Trying to backward through the graph a second time (or directly access saved tensors after they have already been freed). Saved intermediate values of the graph are freed when you call .backward() or autograd.grad(). Specify retain_graph=True if you need to backward through the graph a second time or if you need to access saved tensors after calling backward."
          ]
        }
      ]
    },
    {
      "cell_type": "code",
      "source": [
        "# grad descent\n",
        "a = torch.tensor([0.3,0.2,3],requires_grad=True)\n",
        "\n",
        "def f(a):\n",
        "  return torch.matmul(a,a)\n",
        "\n",
        "for i in range(100):\n",
        "  f(a).backward() # calculate gradient\n",
        "  with torch.no_grad():\n",
        "      a -=  0.1*a.grad  # (some leaf variable error o.w)\n",
        "  print(a)\n",
        "  a.grad.zero_() # resets the gradient\n",
        "\n"
      ],
      "metadata": {
        "colab": {
          "base_uri": "https://localhost:8080/"
        },
        "id": "W01vatPrAWO0",
        "outputId": "eae70c52-3009-4d75-9530-4b16ac9b7563"
      },
      "execution_count": 22,
      "outputs": [
        {
          "output_type": "stream",
          "name": "stdout",
          "text": [
            "tensor([0.2400, 0.1600, 2.4000], requires_grad=True)\n",
            "tensor([0.1920, 0.1280, 1.9200], requires_grad=True)\n",
            "tensor([0.1536, 0.1024, 1.5360], requires_grad=True)\n",
            "tensor([0.1229, 0.0819, 1.2288], requires_grad=True)\n",
            "tensor([0.0983, 0.0655, 0.9830], requires_grad=True)\n",
            "tensor([0.0786, 0.0524, 0.7864], requires_grad=True)\n",
            "tensor([0.0629, 0.0419, 0.6291], requires_grad=True)\n",
            "tensor([0.0503, 0.0336, 0.5033], requires_grad=True)\n",
            "tensor([0.0403, 0.0268, 0.4027], requires_grad=True)\n",
            "tensor([0.0322, 0.0215, 0.3221], requires_grad=True)\n",
            "tensor([0.0258, 0.0172, 0.2577], requires_grad=True)\n",
            "tensor([0.0206, 0.0137, 0.2062], requires_grad=True)\n",
            "tensor([0.0165, 0.0110, 0.1649], requires_grad=True)\n",
            "tensor([0.0132, 0.0088, 0.1319], requires_grad=True)\n",
            "tensor([0.0106, 0.0070, 0.1056], requires_grad=True)\n",
            "tensor([0.0084, 0.0056, 0.0844], requires_grad=True)\n",
            "tensor([0.0068, 0.0045, 0.0676], requires_grad=True)\n",
            "tensor([0.0054, 0.0036, 0.0540], requires_grad=True)\n",
            "tensor([0.0043, 0.0029, 0.0432], requires_grad=True)\n",
            "tensor([0.0035, 0.0023, 0.0346], requires_grad=True)\n",
            "tensor([0.0028, 0.0018, 0.0277], requires_grad=True)\n",
            "tensor([0.0022, 0.0015, 0.0221], requires_grad=True)\n",
            "tensor([0.0018, 0.0012, 0.0177], requires_grad=True)\n",
            "tensor([0.0014, 0.0009, 0.0142], requires_grad=True)\n",
            "tensor([0.0011, 0.0008, 0.0113], requires_grad=True)\n",
            "tensor([0.0009, 0.0006, 0.0091], requires_grad=True)\n",
            "tensor([0.0007, 0.0005, 0.0073], requires_grad=True)\n",
            "tensor([0.0006, 0.0004, 0.0058], requires_grad=True)\n",
            "tensor([0.0005, 0.0003, 0.0046], requires_grad=True)\n",
            "tensor([0.0004, 0.0002, 0.0037], requires_grad=True)\n",
            "tensor([0.0003, 0.0002, 0.0030], requires_grad=True)\n",
            "tensor([0.0002, 0.0002, 0.0024], requires_grad=True)\n",
            "tensor([0.0002, 0.0001, 0.0019], requires_grad=True)\n",
            "tensor([0.0002, 0.0001, 0.0015], requires_grad=True)\n",
            "tensor([1.2169e-04, 8.1130e-05, 1.2169e-03], requires_grad=True)\n",
            "tensor([9.7356e-05, 6.4904e-05, 9.7356e-04], requires_grad=True)\n",
            "tensor([7.7884e-05, 5.1923e-05, 7.7884e-04], requires_grad=True)\n",
            "tensor([6.2308e-05, 4.1538e-05, 6.2308e-04], requires_grad=True)\n",
            "tensor([4.9846e-05, 3.3231e-05, 4.9846e-04], requires_grad=True)\n",
            "tensor([3.9877e-05, 2.6585e-05, 3.9877e-04], requires_grad=True)\n",
            "tensor([3.1901e-05, 2.1268e-05, 3.1901e-04], requires_grad=True)\n",
            "tensor([2.5521e-05, 1.7014e-05, 2.5521e-04], requires_grad=True)\n",
            "tensor([2.0417e-05, 1.3611e-05, 2.0417e-04], requires_grad=True)\n",
            "tensor([1.6334e-05, 1.0889e-05, 1.6334e-04], requires_grad=True)\n",
            "tensor([1.3067e-05, 8.7112e-06, 1.3067e-04], requires_grad=True)\n",
            "tensor([1.0453e-05, 6.9690e-06, 1.0453e-04], requires_grad=True)\n",
            "tensor([8.3628e-06, 5.5752e-06, 8.3628e-05], requires_grad=True)\n",
            "tensor([6.6902e-06, 4.4601e-06, 6.6902e-05], requires_grad=True)\n",
            "tensor([5.3522e-06, 3.5681e-06, 5.3522e-05], requires_grad=True)\n",
            "tensor([4.2817e-06, 2.8545e-06, 4.2817e-05], requires_grad=True)\n",
            "tensor([3.4254e-06, 2.2836e-06, 3.4254e-05], requires_grad=True)\n",
            "tensor([2.7403e-06, 1.8269e-06, 2.7403e-05], requires_grad=True)\n",
            "tensor([2.1923e-06, 1.4615e-06, 2.1923e-05], requires_grad=True)\n",
            "tensor([1.7538e-06, 1.1692e-06, 1.7538e-05], requires_grad=True)\n",
            "tensor([1.4030e-06, 9.3536e-07, 1.4030e-05], requires_grad=True)\n",
            "tensor([1.1224e-06, 7.4829e-07, 1.1224e-05], requires_grad=True)\n",
            "tensor([8.9795e-07, 5.9863e-07, 8.9795e-06], requires_grad=True)\n",
            "tensor([7.1836e-07, 4.7891e-07, 7.1836e-06], requires_grad=True)\n",
            "tensor([5.7469e-07, 3.8312e-07, 5.7469e-06], requires_grad=True)\n",
            "tensor([4.5975e-07, 3.0650e-07, 4.5975e-06], requires_grad=True)\n",
            "tensor([3.6780e-07, 2.4520e-07, 3.6780e-06], requires_grad=True)\n",
            "tensor([2.9424e-07, 1.9616e-07, 2.9424e-06], requires_grad=True)\n",
            "tensor([2.3539e-07, 1.5693e-07, 2.3539e-06], requires_grad=True)\n",
            "tensor([1.8831e-07, 1.2554e-07, 1.8831e-06], requires_grad=True)\n",
            "tensor([1.5065e-07, 1.0043e-07, 1.5065e-06], requires_grad=True)\n",
            "tensor([1.2052e-07, 8.0347e-08, 1.2052e-06], requires_grad=True)\n",
            "tensor([9.6416e-08, 6.4278e-08, 9.6416e-07], requires_grad=True)\n",
            "tensor([7.7133e-08, 5.1422e-08, 7.7133e-07], requires_grad=True)\n",
            "tensor([6.1706e-08, 4.1138e-08, 6.1706e-07], requires_grad=True)\n",
            "tensor([4.9365e-08, 3.2910e-08, 4.9365e-07], requires_grad=True)\n",
            "tensor([3.9492e-08, 2.6328e-08, 3.9492e-07], requires_grad=True)\n",
            "tensor([3.1594e-08, 2.1062e-08, 3.1594e-07], requires_grad=True)\n",
            "tensor([2.5275e-08, 1.6850e-08, 2.5275e-07], requires_grad=True)\n",
            "tensor([2.0220e-08, 1.3480e-08, 2.0220e-07], requires_grad=True)\n",
            "tensor([1.6176e-08, 1.0784e-08, 1.6176e-07], requires_grad=True)\n",
            "tensor([1.2941e-08, 8.6272e-09, 1.2941e-07], requires_grad=True)\n",
            "tensor([1.0353e-08, 6.9017e-09, 1.0353e-07], requires_grad=True)\n",
            "tensor([8.2821e-09, 5.5214e-09, 8.2821e-08], requires_grad=True)\n",
            "tensor([6.6257e-09, 4.4171e-09, 6.6257e-08], requires_grad=True)\n",
            "tensor([5.3005e-09, 3.5337e-09, 5.3005e-08], requires_grad=True)\n",
            "tensor([4.2404e-09, 2.8270e-09, 4.2404e-08], requires_grad=True)\n",
            "tensor([3.3923e-09, 2.2616e-09, 3.3923e-08], requires_grad=True)\n",
            "tensor([2.7139e-09, 1.8093e-09, 2.7139e-08], requires_grad=True)\n",
            "tensor([2.1711e-09, 1.4474e-09, 2.1711e-08], requires_grad=True)\n",
            "tensor([1.7369e-09, 1.1579e-09, 1.7369e-08], requires_grad=True)\n",
            "tensor([1.3895e-09, 9.2634e-10, 1.3895e-08], requires_grad=True)\n",
            "tensor([1.1116e-09, 7.4107e-10, 1.1116e-08], requires_grad=True)\n",
            "tensor([8.8928e-10, 5.9286e-10, 8.8928e-09], requires_grad=True)\n",
            "tensor([7.1143e-10, 4.7428e-10, 7.1143e-09], requires_grad=True)\n",
            "tensor([5.6914e-10, 3.7943e-10, 5.6914e-09], requires_grad=True)\n",
            "tensor([4.5531e-10, 3.0354e-10, 4.5531e-09], requires_grad=True)\n",
            "tensor([3.6425e-10, 2.4283e-10, 3.6425e-09], requires_grad=True)\n",
            "tensor([2.9140e-10, 1.9427e-10, 2.9140e-09], requires_grad=True)\n",
            "tensor([2.3312e-10, 1.5541e-10, 2.3312e-09], requires_grad=True)\n",
            "tensor([1.8650e-10, 1.2433e-10, 1.8650e-09], requires_grad=True)\n",
            "tensor([1.4920e-10, 9.9465e-11, 1.4920e-09], requires_grad=True)\n",
            "tensor([1.1936e-10, 7.9572e-11, 1.1936e-09], requires_grad=True)\n",
            "tensor([9.5486e-11, 6.3657e-11, 9.5486e-10], requires_grad=True)\n",
            "tensor([7.6389e-11, 5.0926e-11, 7.6389e-10], requires_grad=True)\n",
            "tensor([6.1111e-11, 4.0741e-11, 6.1111e-10], requires_grad=True)\n"
          ]
        }
      ]
    },
    {
      "cell_type": "markdown",
      "source": [
        "Using optimizer instead"
      ],
      "metadata": {
        "id": "MYDaHkvzHLTN"
      }
    },
    {
      "cell_type": "code",
      "source": [
        "from torch.optim import SGD\n",
        "# grad descent\n",
        "a = torch.tensor([0.3,0.2,3],requires_grad=True)\n",
        "\n",
        "def f(a):\n",
        "  return torch.matmul(a,a)\n",
        "\n",
        "optimizer = SGD([a],0.1)\n",
        "for i in range(100):\n",
        "  f(a).backward() # calculate gradient\n",
        "  \"\"\"with torch.no_grad():\n",
        "      a -=  0.1*a.grad\n",
        "  \"\"\"\n",
        "  optimizer.step()\n",
        "  optimizer.zero_grad() # resets the gradients of tensors involved\n",
        "  print(a)\n",
        "\n"
      ],
      "metadata": {
        "colab": {
          "base_uri": "https://localhost:8080/"
        },
        "id": "n9448eUpHN9x",
        "outputId": "3c9a0066-d28c-4bb3-e284-4725ae048b69"
      },
      "execution_count": 23,
      "outputs": [
        {
          "output_type": "stream",
          "name": "stdout",
          "text": [
            "tensor([0.2400, 0.1600, 2.4000], requires_grad=True)\n",
            "tensor([0.1920, 0.1280, 1.9200], requires_grad=True)\n",
            "tensor([0.1536, 0.1024, 1.5360], requires_grad=True)\n",
            "tensor([0.1229, 0.0819, 1.2288], requires_grad=True)\n",
            "tensor([0.0983, 0.0655, 0.9830], requires_grad=True)\n",
            "tensor([0.0786, 0.0524, 0.7864], requires_grad=True)\n",
            "tensor([0.0629, 0.0419, 0.6291], requires_grad=True)\n",
            "tensor([0.0503, 0.0336, 0.5033], requires_grad=True)\n",
            "tensor([0.0403, 0.0268, 0.4027], requires_grad=True)\n",
            "tensor([0.0322, 0.0215, 0.3221], requires_grad=True)\n",
            "tensor([0.0258, 0.0172, 0.2577], requires_grad=True)\n",
            "tensor([0.0206, 0.0137, 0.2062], requires_grad=True)\n",
            "tensor([0.0165, 0.0110, 0.1649], requires_grad=True)\n",
            "tensor([0.0132, 0.0088, 0.1319], requires_grad=True)\n",
            "tensor([0.0106, 0.0070, 0.1056], requires_grad=True)\n",
            "tensor([0.0084, 0.0056, 0.0844], requires_grad=True)\n",
            "tensor([0.0068, 0.0045, 0.0676], requires_grad=True)\n",
            "tensor([0.0054, 0.0036, 0.0540], requires_grad=True)\n",
            "tensor([0.0043, 0.0029, 0.0432], requires_grad=True)\n",
            "tensor([0.0035, 0.0023, 0.0346], requires_grad=True)\n",
            "tensor([0.0028, 0.0018, 0.0277], requires_grad=True)\n",
            "tensor([0.0022, 0.0015, 0.0221], requires_grad=True)\n",
            "tensor([0.0018, 0.0012, 0.0177], requires_grad=True)\n",
            "tensor([0.0014, 0.0009, 0.0142], requires_grad=True)\n",
            "tensor([0.0011, 0.0008, 0.0113], requires_grad=True)\n",
            "tensor([0.0009, 0.0006, 0.0091], requires_grad=True)\n",
            "tensor([0.0007, 0.0005, 0.0073], requires_grad=True)\n",
            "tensor([0.0006, 0.0004, 0.0058], requires_grad=True)\n",
            "tensor([0.0005, 0.0003, 0.0046], requires_grad=True)\n",
            "tensor([0.0004, 0.0002, 0.0037], requires_grad=True)\n",
            "tensor([0.0003, 0.0002, 0.0030], requires_grad=True)\n",
            "tensor([0.0002, 0.0002, 0.0024], requires_grad=True)\n",
            "tensor([0.0002, 0.0001, 0.0019], requires_grad=True)\n",
            "tensor([0.0002, 0.0001, 0.0015], requires_grad=True)\n",
            "tensor([1.2169e-04, 8.1130e-05, 1.2169e-03], requires_grad=True)\n",
            "tensor([9.7356e-05, 6.4904e-05, 9.7356e-04], requires_grad=True)\n",
            "tensor([7.7884e-05, 5.1923e-05, 7.7884e-04], requires_grad=True)\n",
            "tensor([6.2308e-05, 4.1538e-05, 6.2308e-04], requires_grad=True)\n",
            "tensor([4.9846e-05, 3.3231e-05, 4.9846e-04], requires_grad=True)\n",
            "tensor([3.9877e-05, 2.6585e-05, 3.9877e-04], requires_grad=True)\n",
            "tensor([3.1901e-05, 2.1268e-05, 3.1901e-04], requires_grad=True)\n",
            "tensor([2.5521e-05, 1.7014e-05, 2.5521e-04], requires_grad=True)\n",
            "tensor([2.0417e-05, 1.3611e-05, 2.0417e-04], requires_grad=True)\n",
            "tensor([1.6334e-05, 1.0889e-05, 1.6334e-04], requires_grad=True)\n",
            "tensor([1.3067e-05, 8.7112e-06, 1.3067e-04], requires_grad=True)\n",
            "tensor([1.0453e-05, 6.9690e-06, 1.0453e-04], requires_grad=True)\n",
            "tensor([8.3628e-06, 5.5752e-06, 8.3628e-05], requires_grad=True)\n",
            "tensor([6.6902e-06, 4.4601e-06, 6.6902e-05], requires_grad=True)\n",
            "tensor([5.3522e-06, 3.5681e-06, 5.3522e-05], requires_grad=True)\n",
            "tensor([4.2817e-06, 2.8545e-06, 4.2817e-05], requires_grad=True)\n",
            "tensor([3.4254e-06, 2.2836e-06, 3.4254e-05], requires_grad=True)\n",
            "tensor([2.7403e-06, 1.8269e-06, 2.7403e-05], requires_grad=True)\n",
            "tensor([2.1923e-06, 1.4615e-06, 2.1923e-05], requires_grad=True)\n",
            "tensor([1.7538e-06, 1.1692e-06, 1.7538e-05], requires_grad=True)\n",
            "tensor([1.4030e-06, 9.3536e-07, 1.4030e-05], requires_grad=True)\n",
            "tensor([1.1224e-06, 7.4829e-07, 1.1224e-05], requires_grad=True)\n",
            "tensor([8.9795e-07, 5.9863e-07, 8.9795e-06], requires_grad=True)\n",
            "tensor([7.1836e-07, 4.7891e-07, 7.1836e-06], requires_grad=True)\n",
            "tensor([5.7469e-07, 3.8312e-07, 5.7469e-06], requires_grad=True)\n",
            "tensor([4.5975e-07, 3.0650e-07, 4.5975e-06], requires_grad=True)\n",
            "tensor([3.6780e-07, 2.4520e-07, 3.6780e-06], requires_grad=True)\n",
            "tensor([2.9424e-07, 1.9616e-07, 2.9424e-06], requires_grad=True)\n",
            "tensor([2.3539e-07, 1.5693e-07, 2.3539e-06], requires_grad=True)\n",
            "tensor([1.8831e-07, 1.2554e-07, 1.8831e-06], requires_grad=True)\n",
            "tensor([1.5065e-07, 1.0043e-07, 1.5065e-06], requires_grad=True)\n",
            "tensor([1.2052e-07, 8.0347e-08, 1.2052e-06], requires_grad=True)\n",
            "tensor([9.6416e-08, 6.4278e-08, 9.6416e-07], requires_grad=True)\n",
            "tensor([7.7133e-08, 5.1422e-08, 7.7133e-07], requires_grad=True)\n",
            "tensor([6.1706e-08, 4.1138e-08, 6.1706e-07], requires_grad=True)\n",
            "tensor([4.9365e-08, 3.2910e-08, 4.9365e-07], requires_grad=True)\n",
            "tensor([3.9492e-08, 2.6328e-08, 3.9492e-07], requires_grad=True)\n",
            "tensor([3.1594e-08, 2.1062e-08, 3.1594e-07], requires_grad=True)\n",
            "tensor([2.5275e-08, 1.6850e-08, 2.5275e-07], requires_grad=True)\n",
            "tensor([2.0220e-08, 1.3480e-08, 2.0220e-07], requires_grad=True)\n",
            "tensor([1.6176e-08, 1.0784e-08, 1.6176e-07], requires_grad=True)\n",
            "tensor([1.2941e-08, 8.6272e-09, 1.2941e-07], requires_grad=True)\n",
            "tensor([1.0353e-08, 6.9017e-09, 1.0353e-07], requires_grad=True)\n",
            "tensor([8.2821e-09, 5.5214e-09, 8.2821e-08], requires_grad=True)\n",
            "tensor([6.6257e-09, 4.4171e-09, 6.6257e-08], requires_grad=True)\n",
            "tensor([5.3005e-09, 3.5337e-09, 5.3005e-08], requires_grad=True)\n",
            "tensor([4.2404e-09, 2.8270e-09, 4.2404e-08], requires_grad=True)\n",
            "tensor([3.3923e-09, 2.2616e-09, 3.3923e-08], requires_grad=True)\n",
            "tensor([2.7139e-09, 1.8093e-09, 2.7139e-08], requires_grad=True)\n",
            "tensor([2.1711e-09, 1.4474e-09, 2.1711e-08], requires_grad=True)\n",
            "tensor([1.7369e-09, 1.1579e-09, 1.7369e-08], requires_grad=True)\n",
            "tensor([1.3895e-09, 9.2634e-10, 1.3895e-08], requires_grad=True)\n",
            "tensor([1.1116e-09, 7.4107e-10, 1.1116e-08], requires_grad=True)\n",
            "tensor([8.8928e-10, 5.9286e-10, 8.8928e-09], requires_grad=True)\n",
            "tensor([7.1143e-10, 4.7428e-10, 7.1143e-09], requires_grad=True)\n",
            "tensor([5.6914e-10, 3.7943e-10, 5.6914e-09], requires_grad=True)\n",
            "tensor([4.5531e-10, 3.0354e-10, 4.5531e-09], requires_grad=True)\n",
            "tensor([3.6425e-10, 2.4283e-10, 3.6425e-09], requires_grad=True)\n",
            "tensor([2.9140e-10, 1.9427e-10, 2.9140e-09], requires_grad=True)\n",
            "tensor([2.3312e-10, 1.5541e-10, 2.3312e-09], requires_grad=True)\n",
            "tensor([1.8650e-10, 1.2433e-10, 1.8650e-09], requires_grad=True)\n",
            "tensor([1.4920e-10, 9.9465e-11, 1.4920e-09], requires_grad=True)\n",
            "tensor([1.1936e-10, 7.9572e-11, 1.1936e-09], requires_grad=True)\n",
            "tensor([9.5486e-11, 6.3657e-11, 9.5486e-10], requires_grad=True)\n",
            "tensor([7.6389e-11, 5.0926e-11, 7.6389e-10], requires_grad=True)\n",
            "tensor([6.1111e-11, 4.0741e-11, 6.1111e-10], requires_grad=True)\n"
          ]
        }
      ]
    },
    {
      "cell_type": "code",
      "source": [
        "# use autograd instead if you want the gradient of intermidiate node (not the leaf node)\n",
        "x = torch.tensor([2,2.0],requires_grad=True)\n",
        "y = 3*x\n",
        "z = torch.dot(y,y)\n",
        "torch.autograd.grad(z, y)"
      ],
      "metadata": {
        "colab": {
          "base_uri": "https://localhost:8080/"
        },
        "id": "jv2cJ9x_JwIN",
        "outputId": "61982f9a-88e3-49af-f995-65bd14319155"
      },
      "execution_count": 24,
      "outputs": [
        {
          "output_type": "execute_result",
          "data": {
            "text/plain": [
              "(tensor([12., 12.]),)"
            ]
          },
          "metadata": {},
          "execution_count": 24
        }
      ]
    },
    {
      "cell_type": "code",
      "source": [
        "# Another example\n",
        "x = torch.tensor([2,2.0],requires_grad=True)\n",
        "y = 3*x\n",
        "u = y + x\n",
        "z = torch.dot(u,y)\n",
        "torch.autograd.grad(z, y)\n"
      ],
      "metadata": {
        "colab": {
          "base_uri": "https://localhost:8080/"
        },
        "id": "OeJeeQGJNaek",
        "outputId": "7f9d1040-6142-45dc-84fe-6450eeee2ec5"
      },
      "execution_count": 25,
      "outputs": [
        {
          "output_type": "execute_result",
          "data": {
            "text/plain": [
              "(tensor([14., 14.]),)"
            ]
          },
          "metadata": {},
          "execution_count": 25
        }
      ]
    },
    {
      "cell_type": "markdown",
      "source": [
        "Note: Weights for atleast the simple architectures are leaf nodes so may not have to worry that much"
      ],
      "metadata": {
        "id": "ldqiaV191r2j"
      }
    },
    {
      "cell_type": "markdown",
      "source": [
        "Basic neural networks in pytorch ..."
      ],
      "metadata": {
        "id": "J186LQopOtmQ"
      }
    },
    {
      "cell_type": "code",
      "source": [
        "# Dataset\n",
        "import numpy as np\n",
        "X = np.random.normal(0,2,1000)\n",
        "Y = X**2  + 2"
      ],
      "metadata": {
        "id": "nPo_2jCHOF7T"
      },
      "execution_count": 30,
      "outputs": []
    },
    {
      "cell_type": "code",
      "source": [
        "import matplotlib.pyplot as plt\n",
        "plt.plot(X,Y,\"ro\")"
      ],
      "metadata": {
        "colab": {
          "base_uri": "https://localhost:8080/",
          "height": 447
        },
        "id": "7_yVlj2BPPcZ",
        "outputId": "ad9f11fb-b852-4ebc-f222-804c651d778e"
      },
      "execution_count": 31,
      "outputs": [
        {
          "output_type": "execute_result",
          "data": {
            "text/plain": [
              "[<matplotlib.lines.Line2D at 0x7bc8ad4d6590>]"
            ]
          },
          "metadata": {},
          "execution_count": 31
        },
        {
          "output_type": "display_data",
          "data": {
            "text/plain": [
              "<Figure size 640x480 with 1 Axes>"
            ],
            "image/png": "[encoded data removed]"
          },
          "metadata": {}
        }
      ]
    },
    {
      "cell_type": "code",
      "source": [
        "import torch.nn as nn\n",
        "import torch.nn.functional as F\n",
        "\n",
        "class MyNet(nn.Module):\n",
        "    def __init__(self):\n",
        "        super(MyNet, self).__init__()\n",
        "        # Define blocks of computation here\n",
        "        self.fc1 = nn.Linear(1, 64)\n",
        "        self.fc2 = nn.Linear(64, 32)\n",
        "        self.fc3 = nn.Linear(32,1)\n",
        "\n",
        "    def forward(self, x):\n",
        "        x = self.fc1(x)\n",
        "        x = F.relu(x)\n",
        "        x = self.fc2(x)\n",
        "        x = F.relu(x)\n",
        "        x = self.fc3(x)\n",
        "        return x\n",
        "\n",
        "model = MyNet()\n",
        "optimizer = torch.optim.Adam(model.parameters(), lr=0.1)\n",
        "loss = nn.MSELoss()\n",
        "num_epochs = 500\n",
        "\n"
      ],
      "metadata": {
        "id": "E4zv80E_PUjm"
      },
      "execution_count": 32,
      "outputs": []
    },
    {
      "cell_type": "code",
      "source": [
        "X_train = torch.tensor(X,dtype=torch.float).view(-1,1)\n",
        "Y_train = torch.tensor(Y,dtype=torch.float).view(-1,1)"
      ],
      "metadata": {
        "id": "NCKAsgDFSlgh"
      },
      "execution_count": 33,
      "outputs": []
    },
    {
      "cell_type": "code",
      "source": [
        "for epoch in range(num_epochs):\n",
        "        # Zero the gradients\n",
        "        optimizer.zero_grad()\n",
        "\n",
        "        # Forward pass\n",
        "        outputs = model(X_train)\n",
        "\n",
        "        # Compute the loss\n",
        "        l = loss(outputs, Y_train)\n",
        "\n",
        "        # Backward pass\n",
        "        l.backward()\n",
        "\n",
        "        # Update the parameters\n",
        "        optimizer.step()\n",
        "        print(f\"epoch: {epoch}\", l)"
      ],
      "metadata": {
        "colab": {
          "base_uri": "https://localhost:8080/"
        },
        "id": "A9jKpf9PRlz-",
        "outputId": "d573ca9d-5b1c-4be0-a618-444638ecc239"
      },
      "execution_count": 34,
      "outputs": [
        {
          "output_type": "stream",
          "name": "stdout",
          "text": [
            "epoch: 0 tensor(71.9247, grad_fn=<MseLossBackward0>)\n",
            "epoch: 1 tensor(9.1064, grad_fn=<MseLossBackward0>)\n",
            "epoch: 2 tensor(19.8191, grad_fn=<MseLossBackward0>)\n",
            "epoch: 3 tensor(7.5111, grad_fn=<MseLossBackward0>)\n",
            "epoch: 4 tensor(8.9137, grad_fn=<MseLossBackward0>)\n",
            "epoch: 5 tensor(12.7799, grad_fn=<MseLossBackward0>)\n",
            "epoch: 6 tensor(5.1139, grad_fn=<MseLossBackward0>)\n",
            "epoch: 7 tensor(3.2152, grad_fn=<MseLossBackward0>)\n",
            "epoch: 8 tensor(6.8209, grad_fn=<MseLossBackward0>)\n",
            "epoch: 9 tensor(5.6674, grad_fn=<MseLossBackward0>)\n",
            "epoch: 10 tensor(1.8952, grad_fn=<MseLossBackward0>)\n",
            "epoch: 11 tensor(2.1440, grad_fn=<MseLossBackward0>)\n",
            "epoch: 12 tensor(3.6282, grad_fn=<MseLossBackward0>)\n",
            "epoch: 13 tensor(3.4370, grad_fn=<MseLossBackward0>)\n",
            "epoch: 14 tensor(2.1295, grad_fn=<MseLossBackward0>)\n",
            "epoch: 15 tensor(1.1711, grad_fn=<MseLossBackward0>)\n",
            "epoch: 16 tensor(2.6905, grad_fn=<MseLossBackward0>)\n",
            "epoch: 17 tensor(2.1408, grad_fn=<MseLossBackward0>)\n",
            "epoch: 18 tensor(1.1382, grad_fn=<MseLossBackward0>)\n",
            "epoch: 19 tensor(1.1032, grad_fn=<MseLossBackward0>)\n",
            "epoch: 20 tensor(1.5258, grad_fn=<MseLossBackward0>)\n",
            "epoch: 21 tensor(1.2280, grad_fn=<MseLossBackward0>)\n",
            "epoch: 22 tensor(0.7142, grad_fn=<MseLossBackward0>)\n",
            "epoch: 23 tensor(0.4733, grad_fn=<MseLossBackward0>)\n",
            "epoch: 24 tensor(0.7220, grad_fn=<MseLossBackward0>)\n",
            "epoch: 25 tensor(0.8646, grad_fn=<MseLossBackward0>)\n",
            "epoch: 26 tensor(0.5730, grad_fn=<MseLossBackward0>)\n",
            "epoch: 27 tensor(0.3348, grad_fn=<MseLossBackward0>)\n",
            "epoch: 28 tensor(0.4511, grad_fn=<MseLossBackward0>)\n",
            "epoch: 29 tensor(0.5887, grad_fn=<MseLossBackward0>)\n",
            "epoch: 30 tensor(0.4772, grad_fn=<MseLossBackward0>)\n",
            "epoch: 31 tensor(0.2759, grad_fn=<MseLossBackward0>)\n",
            "epoch: 32 tensor(0.2548, grad_fn=<MseLossBackward0>)\n",
            "epoch: 33 tensor(0.3782, grad_fn=<MseLossBackward0>)\n",
            "epoch: 34 tensor(0.3164, grad_fn=<MseLossBackward0>)\n",
            "epoch: 35 tensor(0.1499, grad_fn=<MseLossBackward0>)\n",
            "epoch: 36 tensor(0.1622, grad_fn=<MseLossBackward0>)\n",
            "epoch: 37 tensor(0.2500, grad_fn=<MseLossBackward0>)\n",
            "epoch: 38 tensor(0.2118, grad_fn=<MseLossBackward0>)\n",
            "epoch: 39 tensor(0.1132, grad_fn=<MseLossBackward0>)\n",
            "epoch: 40 tensor(0.1373, grad_fn=<MseLossBackward0>)\n",
            "epoch: 41 tensor(0.1934, grad_fn=<MseLossBackward0>)\n",
            "epoch: 42 tensor(0.1288, grad_fn=<MseLossBackward0>)\n",
            "epoch: 43 tensor(0.0723, grad_fn=<MseLossBackward0>)\n",
            "epoch: 44 tensor(0.1114, grad_fn=<MseLossBackward0>)\n",
            "epoch: 45 tensor(0.1188, grad_fn=<MseLossBackward0>)\n",
            "epoch: 46 tensor(0.0617, grad_fn=<MseLossBackward0>)\n",
            "epoch: 47 tensor(0.0520, grad_fn=<MseLossBackward0>)\n",
            "epoch: 48 tensor(0.0894, grad_fn=<MseLossBackward0>)\n",
            "epoch: 49 tensor(0.0733, grad_fn=<MseLossBackward0>)\n",
            "epoch: 50 tensor(0.0376, grad_fn=<MseLossBackward0>)\n",
            "epoch: 51 tensor(0.0540, grad_fn=<MseLossBackward0>)\n",
            "epoch: 52 tensor(0.0663, grad_fn=<MseLossBackward0>)\n",
            "epoch: 53 tensor(0.0376, grad_fn=<MseLossBackward0>)\n",
            "epoch: 54 tensor(0.0279, grad_fn=<MseLossBackward0>)\n",
            "epoch: 55 tensor(0.0467, grad_fn=<MseLossBackward0>)\n",
            "epoch: 56 tensor(0.0367, grad_fn=<MseLossBackward0>)\n",
            "epoch: 57 tensor(0.0199, grad_fn=<MseLossBackward0>)\n",
            "epoch: 58 tensor(0.0319, grad_fn=<MseLossBackward0>)\n",
            "epoch: 59 tensor(0.0358, grad_fn=<MseLossBackward0>)\n",
            "epoch: 60 tensor(0.0204, grad_fn=<MseLossBackward0>)\n",
            "epoch: 61 tensor(0.0223, grad_fn=<MseLossBackward0>)\n",
            "epoch: 62 tensor(0.0297, grad_fn=<MseLossBackward0>)\n",
            "epoch: 63 tensor(0.0185, grad_fn=<MseLossBackward0>)\n",
            "epoch: 64 tensor(0.0149, grad_fn=<MseLossBackward0>)\n",
            "epoch: 65 tensor(0.0219, grad_fn=<MseLossBackward0>)\n",
            "epoch: 66 tensor(0.0170, grad_fn=<MseLossBackward0>)\n",
            "epoch: 67 tensor(0.0121, grad_fn=<MseLossBackward0>)\n",
            "epoch: 68 tensor(0.0176, grad_fn=<MseLossBackward0>)\n",
            "epoch: 69 tensor(0.0162, grad_fn=<MseLossBackward0>)\n",
            "epoch: 70 tensor(0.0107, grad_fn=<MseLossBackward0>)\n",
            "epoch: 71 tensor(0.0136, grad_fn=<MseLossBackward0>)\n",
            "epoch: 72 tensor(0.0134, grad_fn=<MseLossBackward0>)\n",
            "epoch: 73 tensor(0.0088, grad_fn=<MseLossBackward0>)\n",
            "epoch: 74 tensor(0.0106, grad_fn=<MseLossBackward0>)\n",
            "epoch: 75 tensor(0.0115, grad_fn=<MseLossBackward0>)\n",
            "epoch: 76 tensor(0.0082, grad_fn=<MseLossBackward0>)\n",
            "epoch: 77 tensor(0.0091, grad_fn=<MseLossBackward0>)\n",
            "epoch: 78 tensor(0.0099, grad_fn=<MseLossBackward0>)\n",
            "epoch: 79 tensor(0.0072, grad_fn=<MseLossBackward0>)\n",
            "epoch: 80 tensor(0.0075, grad_fn=<MseLossBackward0>)\n",
            "epoch: 81 tensor(0.0083, grad_fn=<MseLossBackward0>)\n",
            "epoch: 82 tensor(0.0064, grad_fn=<MseLossBackward0>)\n",
            "epoch: 83 tensor(0.0068, grad_fn=<MseLossBackward0>)\n",
            "epoch: 84 tensor(0.0074, grad_fn=<MseLossBackward0>)\n",
            "epoch: 85 tensor(0.0059, grad_fn=<MseLossBackward0>)\n",
            "epoch: 86 tensor(0.0060, grad_fn=<MseLossBackward0>)\n",
            "epoch: 87 tensor(0.0063, grad_fn=<MseLossBackward0>)\n",
            "epoch: 88 tensor(0.0052, grad_fn=<MseLossBackward0>)\n",
            "epoch: 89 tensor(0.0054, grad_fn=<MseLossBackward0>)\n",
            "epoch: 90 tensor(0.0056, grad_fn=<MseLossBackward0>)\n",
            "epoch: 91 tensor(0.0048, grad_fn=<MseLossBackward0>)\n",
            "epoch: 92 tensor(0.0050, grad_fn=<MseLossBackward0>)\n",
            "epoch: 93 tensor(0.0050, grad_fn=<MseLossBackward0>)\n",
            "epoch: 94 tensor(0.0044, grad_fn=<MseLossBackward0>)\n",
            "epoch: 95 tensor(0.0046, grad_fn=<MseLossBackward0>)\n",
            "epoch: 96 tensor(0.0045, grad_fn=<MseLossBackward0>)\n",
            "epoch: 97 tensor(0.0040, grad_fn=<MseLossBackward0>)\n",
            "epoch: 98 tensor(0.0042, grad_fn=<MseLossBackward0>)\n",
            "epoch: 99 tensor(0.0040, grad_fn=<MseLossBackward0>)\n",
            "epoch: 100 tensor(0.0037, grad_fn=<MseLossBackward0>)\n",
            "epoch: 101 tensor(0.0039, grad_fn=<MseLossBackward0>)\n",
            "epoch: 102 tensor(0.0036, grad_fn=<MseLossBackward0>)\n",
            "epoch: 103 tensor(0.0035, grad_fn=<MseLossBackward0>)\n",
            "epoch: 104 tensor(0.0036, grad_fn=<MseLossBackward0>)\n",
            "epoch: 105 tensor(0.0033, grad_fn=<MseLossBackward0>)\n",
            "epoch: 106 tensor(0.0033, grad_fn=<MseLossBackward0>)\n",
            "epoch: 107 tensor(0.0033, grad_fn=<MseLossBackward0>)\n",
            "epoch: 108 tensor(0.0031, grad_fn=<MseLossBackward0>)\n",
            "epoch: 109 tensor(0.0031, grad_fn=<MseLossBackward0>)\n",
            "epoch: 110 tensor(0.0031, grad_fn=<MseLossBackward0>)\n",
            "epoch: 111 tensor(0.0029, grad_fn=<MseLossBackward0>)\n",
            "epoch: 112 tensor(0.0029, grad_fn=<MseLossBackward0>)\n",
            "epoch: 113 tensor(0.0028, grad_fn=<MseLossBackward0>)\n",
            "epoch: 114 tensor(0.0028, grad_fn=<MseLossBackward0>)\n",
            "epoch: 115 tensor(0.0028, grad_fn=<MseLossBackward0>)\n",
            "epoch: 116 tensor(0.0027, grad_fn=<MseLossBackward0>)\n",
            "epoch: 117 tensor(0.0026, grad_fn=<MseLossBackward0>)\n",
            "epoch: 118 tensor(0.0026, grad_fn=<MseLossBackward0>)\n",
            "epoch: 119 tensor(0.0025, grad_fn=<MseLossBackward0>)\n",
            "epoch: 120 tensor(0.0025, grad_fn=<MseLossBackward0>)\n",
            "epoch: 121 tensor(0.0025, grad_fn=<MseLossBackward0>)\n",
            "epoch: 122 tensor(0.0024, grad_fn=<MseLossBackward0>)\n",
            "epoch: 123 tensor(0.0024, grad_fn=<MseLossBackward0>)\n",
            "epoch: 124 tensor(0.0023, grad_fn=<MseLossBackward0>)\n",
            "epoch: 125 tensor(0.0023, grad_fn=<MseLossBackward0>)\n",
            "epoch: 126 tensor(0.0023, grad_fn=<MseLossBackward0>)\n",
            "epoch: 127 tensor(0.0022, grad_fn=<MseLossBackward0>)\n",
            "epoch: 128 tensor(0.0022, grad_fn=<MseLossBackward0>)\n",
            "epoch: 129 tensor(0.0022, grad_fn=<MseLossBackward0>)\n",
            "epoch: 130 tensor(0.0021, grad_fn=<MseLossBackward0>)\n",
            "epoch: 131 tensor(0.0021, grad_fn=<MseLossBackward0>)\n",
            "epoch: 132 tensor(0.0021, grad_fn=<MseLossBackward0>)\n",
            "epoch: 133 tensor(0.0020, grad_fn=<MseLossBackward0>)\n",
            "epoch: 134 tensor(0.0020, grad_fn=<MseLossBackward0>)\n",
            "epoch: 135 tensor(0.0020, grad_fn=<MseLossBackward0>)\n",
            "epoch: 136 tensor(0.0019, grad_fn=<MseLossBackward0>)\n",
            "epoch: 137 tensor(0.0019, grad_fn=<MseLossBackward0>)\n",
            "epoch: 138 tensor(0.0019, grad_fn=<MseLossBackward0>)\n",
            "epoch: 139 tensor(0.0018, grad_fn=<MseLossBackward0>)\n",
            "epoch: 140 tensor(0.0018, grad_fn=<MseLossBackward0>)\n",
            "epoch: 141 tensor(0.0018, grad_fn=<MseLossBackward0>)\n",
            "epoch: 142 tensor(0.0018, grad_fn=<MseLossBackward0>)\n",
            "epoch: 143 tensor(0.0017, grad_fn=<MseLossBackward0>)\n",
            "epoch: 144 tensor(0.0017, grad_fn=<MseLossBackward0>)\n",
            "epoch: 145 tensor(0.0017, grad_fn=<MseLossBackward0>)\n",
            "epoch: 146 tensor(0.0017, grad_fn=<MseLossBackward0>)\n",
            "epoch: 147 tensor(0.0016, grad_fn=<MseLossBackward0>)\n",
            "epoch: 148 tensor(0.0016, grad_fn=<MseLossBackward0>)\n",
            "epoch: 149 tensor(0.0016, grad_fn=<MseLossBackward0>)\n",
            "epoch: 150 tensor(0.0016, grad_fn=<MseLossBackward0>)\n",
            "epoch: 151 tensor(0.0015, grad_fn=<MseLossBackward0>)\n",
            "epoch: 152 tensor(0.0015, grad_fn=<MseLossBackward0>)\n",
            "epoch: 153 tensor(0.0015, grad_fn=<MseLossBackward0>)\n",
            "epoch: 154 tensor(0.0015, grad_fn=<MseLossBackward0>)\n",
            "epoch: 155 tensor(0.0014, grad_fn=<MseLossBackward0>)\n",
            "epoch: 156 tensor(0.0014, grad_fn=<MseLossBackward0>)\n",
            "epoch: 157 tensor(0.0014, grad_fn=<MseLossBackward0>)\n",
            "epoch: 158 tensor(0.0014, grad_fn=<MseLossBackward0>)\n",
            "epoch: 159 tensor(0.0014, grad_fn=<MseLossBackward0>)\n",
            "epoch: 160 tensor(0.0013, grad_fn=<MseLossBackward0>)\n",
            "epoch: 161 tensor(0.0013, grad_fn=<MseLossBackward0>)\n",
            "epoch: 162 tensor(0.0013, grad_fn=<MseLossBackward0>)\n",
            "epoch: 163 tensor(0.0013, grad_fn=<MseLossBackward0>)\n",
            "epoch: 164 tensor(0.0013, grad_fn=<MseLossBackward0>)\n",
            "epoch: 165 tensor(0.0012, grad_fn=<MseLossBackward0>)\n",
            "epoch: 166 tensor(0.0012, grad_fn=<MseLossBackward0>)\n",
            "epoch: 167 tensor(0.0012, grad_fn=<MseLossBackward0>)\n",
            "epoch: 168 tensor(0.0012, grad_fn=<MseLossBackward0>)\n",
            "epoch: 169 tensor(0.0012, grad_fn=<MseLossBackward0>)\n",
            "epoch: 170 tensor(0.0012, grad_fn=<MseLossBackward0>)\n",
            "epoch: 171 tensor(0.0011, grad_fn=<MseLossBackward0>)\n",
            "epoch: 172 tensor(0.0011, grad_fn=<MseLossBackward0>)\n",
            "epoch: 173 tensor(0.0011, grad_fn=<MseLossBackward0>)\n",
            "epoch: 174 tensor(0.0011, grad_fn=<MseLossBackward0>)\n",
            "epoch: 175 tensor(0.0011, grad_fn=<MseLossBackward0>)\n",
            "epoch: 176 tensor(0.0011, grad_fn=<MseLossBackward0>)\n",
            "epoch: 177 tensor(0.0011, grad_fn=<MseLossBackward0>)\n",
            "epoch: 178 tensor(0.0010, grad_fn=<MseLossBackward0>)\n",
            "epoch: 179 tensor(0.0010, grad_fn=<MseLossBackward0>)\n",
            "epoch: 180 tensor(0.0010, grad_fn=<MseLossBackward0>)\n",
            "epoch: 181 tensor(0.0010, grad_fn=<MseLossBackward0>)\n",
            "epoch: 182 tensor(0.0010, grad_fn=<MseLossBackward0>)\n",
            "epoch: 183 tensor(0.0010, grad_fn=<MseLossBackward0>)\n",
            "epoch: 184 tensor(0.0010, grad_fn=<MseLossBackward0>)\n",
            "epoch: 185 tensor(0.0010, grad_fn=<MseLossBackward0>)\n",
            "epoch: 186 tensor(0.0009, grad_fn=<MseLossBackward0>)\n",
            "epoch: 187 tensor(0.0009, grad_fn=<MseLossBackward0>)\n",
            "epoch: 188 tensor(0.0009, grad_fn=<MseLossBackward0>)\n",
            "epoch: 189 tensor(0.0009, grad_fn=<MseLossBackward0>)\n",
            "epoch: 190 tensor(0.0009, grad_fn=<MseLossBackward0>)\n",
            "epoch: 191 tensor(0.0009, grad_fn=<MseLossBackward0>)\n",
            "epoch: 192 tensor(0.0009, grad_fn=<MseLossBackward0>)\n",
            "epoch: 193 tensor(0.0009, grad_fn=<MseLossBackward0>)\n",
            "epoch: 194 tensor(0.0008, grad_fn=<MseLossBackward0>)\n",
            "epoch: 195 tensor(0.0008, grad_fn=<MseLossBackward0>)\n",
            "epoch: 196 tensor(0.0008, grad_fn=<MseLossBackward0>)\n",
            "epoch: 197 tensor(0.0008, grad_fn=<MseLossBackward0>)\n",
            "epoch: 198 tensor(0.0008, grad_fn=<MseLossBackward0>)\n",
            "epoch: 199 tensor(0.0008, grad_fn=<MseLossBackward0>)\n",
            "epoch: 200 tensor(0.0008, grad_fn=<MseLossBackward0>)\n",
            "epoch: 201 tensor(0.0008, grad_fn=<MseLossBackward0>)\n",
            "epoch: 202 tensor(0.0008, grad_fn=<MseLossBackward0>)\n",
            "epoch: 203 tensor(0.0008, grad_fn=<MseLossBackward0>)\n",
            "epoch: 204 tensor(0.0008, grad_fn=<MseLossBackward0>)\n",
            "epoch: 205 tensor(0.0007, grad_fn=<MseLossBackward0>)\n",
            "epoch: 206 tensor(0.0007, grad_fn=<MseLossBackward0>)\n",
            "epoch: 207 tensor(0.0007, grad_fn=<MseLossBackward0>)\n",
            "epoch: 208 tensor(0.0007, grad_fn=<MseLossBackward0>)\n",
            "epoch: 209 tensor(0.0007, grad_fn=<MseLossBackward0>)\n",
            "epoch: 210 tensor(0.0007, grad_fn=<MseLossBackward0>)\n",
            "epoch: 211 tensor(0.0007, grad_fn=<MseLossBackward0>)\n",
            "epoch: 212 tensor(0.0007, grad_fn=<MseLossBackward0>)\n",
            "epoch: 213 tensor(0.0007, grad_fn=<MseLossBackward0>)\n",
            "epoch: 214 tensor(0.0007, grad_fn=<MseLossBackward0>)\n",
            "epoch: 215 tensor(0.0007, grad_fn=<MseLossBackward0>)\n",
            "epoch: 216 tensor(0.0007, grad_fn=<MseLossBackward0>)\n",
            "epoch: 217 tensor(0.0007, grad_fn=<MseLossBackward0>)\n",
            "epoch: 218 tensor(0.0006, grad_fn=<MseLossBackward0>)\n",
            "epoch: 219 tensor(0.0006, grad_fn=<MseLossBackward0>)\n",
            "epoch: 220 tensor(0.0006, grad_fn=<MseLossBackward0>)\n",
            "epoch: 221 tensor(0.0006, grad_fn=<MseLossBackward0>)\n",
            "epoch: 222 tensor(0.0006, grad_fn=<MseLossBackward0>)\n",
            "epoch: 223 tensor(0.0006, grad_fn=<MseLossBackward0>)\n",
            "epoch: 224 tensor(0.0006, grad_fn=<MseLossBackward0>)\n",
            "epoch: 225 tensor(0.0006, grad_fn=<MseLossBackward0>)\n",
            "epoch: 226 tensor(0.0006, grad_fn=<MseLossBackward0>)\n",
            "epoch: 227 tensor(0.0006, grad_fn=<MseLossBackward0>)\n",
            "epoch: 228 tensor(0.0006, grad_fn=<MseLossBackward0>)\n",
            "epoch: 229 tensor(0.0006, grad_fn=<MseLossBackward0>)\n",
            "epoch: 230 tensor(0.0006, grad_fn=<MseLossBackward0>)\n",
            "epoch: 231 tensor(0.0006, grad_fn=<MseLossBackward0>)\n",
            "epoch: 232 tensor(0.0006, grad_fn=<MseLossBackward0>)\n",
            "epoch: 233 tensor(0.0006, grad_fn=<MseLossBackward0>)\n",
            "epoch: 234 tensor(0.0006, grad_fn=<MseLossBackward0>)\n",
            "epoch: 235 tensor(0.0005, grad_fn=<MseLossBackward0>)\n",
            "epoch: 236 tensor(0.0005, grad_fn=<MseLossBackward0>)\n",
            "epoch: 237 tensor(0.0005, grad_fn=<MseLossBackward0>)\n",
            "epoch: 238 tensor(0.0005, grad_fn=<MseLossBackward0>)\n",
            "epoch: 239 tensor(0.0005, grad_fn=<MseLossBackward0>)\n",
            "epoch: 240 tensor(0.0005, grad_fn=<MseLossBackward0>)\n",
            "epoch: 241 tensor(0.0005, grad_fn=<MseLossBackward0>)\n",
            "epoch: 242 tensor(0.0005, grad_fn=<MseLossBackward0>)\n",
            "epoch: 243 tensor(0.0005, grad_fn=<MseLossBackward0>)\n",
            "epoch: 244 tensor(0.0005, grad_fn=<MseLossBackward0>)\n",
            "epoch: 245 tensor(0.0005, grad_fn=<MseLossBackward0>)\n",
            "epoch: 246 tensor(0.0005, grad_fn=<MseLossBackward0>)\n",
            "epoch: 247 tensor(0.0005, grad_fn=<MseLossBackward0>)\n",
            "epoch: 248 tensor(0.0005, grad_fn=<MseLossBackward0>)\n",
            "epoch: 249 tensor(0.0005, grad_fn=<MseLossBackward0>)\n",
            "epoch: 250 tensor(0.0005, grad_fn=<MseLossBackward0>)\n",
            "epoch: 251 tensor(0.0005, grad_fn=<MseLossBackward0>)\n",
            "epoch: 252 tensor(0.0005, grad_fn=<MseLossBackward0>)\n",
            "epoch: 253 tensor(0.0005, grad_fn=<MseLossBackward0>)\n",
            "epoch: 254 tensor(0.0005, grad_fn=<MseLossBackward0>)\n",
            "epoch: 255 tensor(0.0005, grad_fn=<MseLossBackward0>)\n",
            "epoch: 256 tensor(0.0005, grad_fn=<MseLossBackward0>)\n",
            "epoch: 257 tensor(0.0005, grad_fn=<MseLossBackward0>)\n",
            "epoch: 258 tensor(0.0005, grad_fn=<MseLossBackward0>)\n",
            "epoch: 259 tensor(0.0005, grad_fn=<MseLossBackward0>)\n",
            "epoch: 260 tensor(0.0005, grad_fn=<MseLossBackward0>)\n",
            "epoch: 261 tensor(0.0004, grad_fn=<MseLossBackward0>)\n",
            "epoch: 262 tensor(0.0004, grad_fn=<MseLossBackward0>)\n",
            "epoch: 263 tensor(0.0004, grad_fn=<MseLossBackward0>)\n",
            "epoch: 264 tensor(0.0004, grad_fn=<MseLossBackward0>)\n",
            "epoch: 265 tensor(0.0004, grad_fn=<MseLossBackward0>)\n",
            "epoch: 266 tensor(0.0004, grad_fn=<MseLossBackward0>)\n",
            "epoch: 267 tensor(0.0004, grad_fn=<MseLossBackward0>)\n",
            "epoch: 268 tensor(0.0004, grad_fn=<MseLossBackward0>)\n",
            "epoch: 269 tensor(0.0004, grad_fn=<MseLossBackward0>)\n",
            "epoch: 270 tensor(0.0004, grad_fn=<MseLossBackward0>)\n",
            "epoch: 271 tensor(0.0004, grad_fn=<MseLossBackward0>)\n",
            "epoch: 272 tensor(0.0004, grad_fn=<MseLossBackward0>)\n",
            "epoch: 273 tensor(0.0004, grad_fn=<MseLossBackward0>)\n",
            "epoch: 274 tensor(0.0004, grad_fn=<MseLossBackward0>)\n",
            "epoch: 275 tensor(0.0004, grad_fn=<MseLossBackward0>)\n",
            "epoch: 276 tensor(0.0004, grad_fn=<MseLossBackward0>)\n",
            "epoch: 277 tensor(0.0004, grad_fn=<MseLossBackward0>)\n",
            "epoch: 278 tensor(0.0004, grad_fn=<MseLossBackward0>)\n",
            "epoch: 279 tensor(0.0004, grad_fn=<MseLossBackward0>)\n",
            "epoch: 280 tensor(0.0004, grad_fn=<MseLossBackward0>)\n",
            "epoch: 281 tensor(0.0004, grad_fn=<MseLossBackward0>)\n",
            "epoch: 282 tensor(0.0004, grad_fn=<MseLossBackward0>)\n",
            "epoch: 283 tensor(0.0004, grad_fn=<MseLossBackward0>)\n",
            "epoch: 284 tensor(0.0004, grad_fn=<MseLossBackward0>)\n",
            "epoch: 285 tensor(0.0004, grad_fn=<MseLossBackward0>)\n",
            "epoch: 286 tensor(0.0004, grad_fn=<MseLossBackward0>)\n",
            "epoch: 287 tensor(0.0004, grad_fn=<MseLossBackward0>)\n",
            "epoch: 288 tensor(0.0004, grad_fn=<MseLossBackward0>)\n",
            "epoch: 289 tensor(0.0004, grad_fn=<MseLossBackward0>)\n",
            "epoch: 290 tensor(0.0004, grad_fn=<MseLossBackward0>)\n",
            "epoch: 291 tensor(0.0004, grad_fn=<MseLossBackward0>)\n",
            "epoch: 292 tensor(0.0004, grad_fn=<MseLossBackward0>)\n",
            "epoch: 293 tensor(0.0004, grad_fn=<MseLossBackward0>)\n",
            "epoch: 294 tensor(0.0004, grad_fn=<MseLossBackward0>)\n",
            "epoch: 295 tensor(0.0004, grad_fn=<MseLossBackward0>)\n",
            "epoch: 296 tensor(0.0004, grad_fn=<MseLossBackward0>)\n",
            "epoch: 297 tensor(0.0004, grad_fn=<MseLossBackward0>)\n",
            "epoch: 298 tensor(0.0004, grad_fn=<MseLossBackward0>)\n",
            "epoch: 299 tensor(0.0004, grad_fn=<MseLossBackward0>)\n",
            "epoch: 300 tensor(0.0004, grad_fn=<MseLossBackward0>)\n",
            "epoch: 301 tensor(0.0004, grad_fn=<MseLossBackward0>)\n",
            "epoch: 302 tensor(0.0004, grad_fn=<MseLossBackward0>)\n",
            "epoch: 303 tensor(0.0003, grad_fn=<MseLossBackward0>)\n",
            "epoch: 304 tensor(0.0003, grad_fn=<MseLossBackward0>)\n",
            "epoch: 305 tensor(0.0003, grad_fn=<MseLossBackward0>)\n",
            "epoch: 306 tensor(0.0003, grad_fn=<MseLossBackward0>)\n",
            "epoch: 307 tensor(0.0003, grad_fn=<MseLossBackward0>)\n",
            "epoch: 308 tensor(0.0003, grad_fn=<MseLossBackward0>)\n",
            "epoch: 309 tensor(0.0003, grad_fn=<MseLossBackward0>)\n",
            "epoch: 310 tensor(0.0003, grad_fn=<MseLossBackward0>)\n",
            "epoch: 311 tensor(0.0003, grad_fn=<MseLossBackward0>)\n",
            "epoch: 312 tensor(0.0003, grad_fn=<MseLossBackward0>)\n",
            "epoch: 313 tensor(0.0003, grad_fn=<MseLossBackward0>)\n",
            "epoch: 314 tensor(0.0003, grad_fn=<MseLossBackward0>)\n",
            "epoch: 315 tensor(0.0003, grad_fn=<MseLossBackward0>)\n",
            "epoch: 316 tensor(0.0003, grad_fn=<MseLossBackward0>)\n",
            "epoch: 317 tensor(0.0003, grad_fn=<MseLossBackward0>)\n",
            "epoch: 318 tensor(0.0003, grad_fn=<MseLossBackward0>)\n",
            "epoch: 319 tensor(0.0003, grad_fn=<MseLossBackward0>)\n",
            "epoch: 320 tensor(0.0003, grad_fn=<MseLossBackward0>)\n",
            "epoch: 321 tensor(0.0003, grad_fn=<MseLossBackward0>)\n",
            "epoch: 322 tensor(0.0003, grad_fn=<MseLossBackward0>)\n",
            "epoch: 323 tensor(0.0003, grad_fn=<MseLossBackward0>)\n",
            "epoch: 324 tensor(0.0003, grad_fn=<MseLossBackward0>)\n",
            "epoch: 325 tensor(0.0003, grad_fn=<MseLossBackward0>)\n",
            "epoch: 326 tensor(0.0003, grad_fn=<MseLossBackward0>)\n",
            "epoch: 327 tensor(0.0003, grad_fn=<MseLossBackward0>)\n",
            "epoch: 328 tensor(0.0003, grad_fn=<MseLossBackward0>)\n",
            "epoch: 329 tensor(0.0003, grad_fn=<MseLossBackward0>)\n",
            "epoch: 330 tensor(0.0003, grad_fn=<MseLossBackward0>)\n",
            "epoch: 331 tensor(0.0003, grad_fn=<MseLossBackward0>)\n",
            "epoch: 332 tensor(0.0003, grad_fn=<MseLossBackward0>)\n",
            "epoch: 333 tensor(0.0003, grad_fn=<MseLossBackward0>)\n",
            "epoch: 334 tensor(0.0003, grad_fn=<MseLossBackward0>)\n",
            "epoch: 335 tensor(0.0003, grad_fn=<MseLossBackward0>)\n",
            "epoch: 336 tensor(0.0003, grad_fn=<MseLossBackward0>)\n",
            "epoch: 337 tensor(0.0003, grad_fn=<MseLossBackward0>)\n",
            "epoch: 338 tensor(0.0003, grad_fn=<MseLossBackward0>)\n",
            "epoch: 339 tensor(0.0003, grad_fn=<MseLossBackward0>)\n",
            "epoch: 340 tensor(0.0003, grad_fn=<MseLossBackward0>)\n",
            "epoch: 341 tensor(0.0003, grad_fn=<MseLossBackward0>)\n",
            "epoch: 342 tensor(0.0003, grad_fn=<MseLossBackward0>)\n",
            "epoch: 343 tensor(0.0003, grad_fn=<MseLossBackward0>)\n",
            "epoch: 344 tensor(0.0003, grad_fn=<MseLossBackward0>)\n",
            "epoch: 345 tensor(0.0003, grad_fn=<MseLossBackward0>)\n",
            "epoch: 346 tensor(0.0003, grad_fn=<MseLossBackward0>)\n",
            "epoch: 347 tensor(0.0003, grad_fn=<MseLossBackward0>)\n",
            "epoch: 348 tensor(0.0003, grad_fn=<MseLossBackward0>)\n",
            "epoch: 349 tensor(0.0003, grad_fn=<MseLossBackward0>)\n",
            "epoch: 350 tensor(0.0003, grad_fn=<MseLossBackward0>)\n",
            "epoch: 351 tensor(0.0003, grad_fn=<MseLossBackward0>)\n",
            "epoch: 352 tensor(0.0003, grad_fn=<MseLossBackward0>)\n",
            "epoch: 353 tensor(0.0003, grad_fn=<MseLossBackward0>)\n",
            "epoch: 354 tensor(0.0003, grad_fn=<MseLossBackward0>)\n",
            "epoch: 355 tensor(0.0003, grad_fn=<MseLossBackward0>)\n",
            "epoch: 356 tensor(0.0003, grad_fn=<MseLossBackward0>)\n",
            "epoch: 357 tensor(0.0003, grad_fn=<MseLossBackward0>)\n",
            "epoch: 358 tensor(0.0003, grad_fn=<MseLossBackward0>)\n",
            "epoch: 359 tensor(0.0003, grad_fn=<MseLossBackward0>)\n",
            "epoch: 360 tensor(0.0003, grad_fn=<MseLossBackward0>)\n",
            "epoch: 361 tensor(0.0003, grad_fn=<MseLossBackward0>)\n",
            "epoch: 362 tensor(0.0003, grad_fn=<MseLossBackward0>)\n",
            "epoch: 363 tensor(0.0003, grad_fn=<MseLossBackward0>)\n",
            "epoch: 364 tensor(0.0003, grad_fn=<MseLossBackward0>)\n",
            "epoch: 365 tensor(0.0003, grad_fn=<MseLossBackward0>)\n",
            "epoch: 366 tensor(0.0003, grad_fn=<MseLossBackward0>)\n",
            "epoch: 367 tensor(0.0003, grad_fn=<MseLossBackward0>)\n",
            "epoch: 368 tensor(0.0003, grad_fn=<MseLossBackward0>)\n",
            "epoch: 369 tensor(0.0003, grad_fn=<MseLossBackward0>)\n",
            "epoch: 370 tensor(0.0004, grad_fn=<MseLossBackward0>)\n",
            "epoch: 371 tensor(0.0006, grad_fn=<MseLossBackward0>)\n",
            "epoch: 372 tensor(0.0009, grad_fn=<MseLossBackward0>)\n",
            "epoch: 373 tensor(0.0017, grad_fn=<MseLossBackward0>)\n",
            "epoch: 374 tensor(0.0034, grad_fn=<MseLossBackward0>)\n",
            "epoch: 375 tensor(0.0073, grad_fn=<MseLossBackward0>)\n",
            "epoch: 376 tensor(0.0154, grad_fn=<MseLossBackward0>)\n",
            "epoch: 377 tensor(0.0355, grad_fn=<MseLossBackward0>)\n",
            "epoch: 378 tensor(0.0694, grad_fn=<MseLossBackward0>)\n",
            "epoch: 379 tensor(0.1582, grad_fn=<MseLossBackward0>)\n",
            "epoch: 380 tensor(0.2352, grad_fn=<MseLossBackward0>)\n",
            "epoch: 381 tensor(0.4246, grad_fn=<MseLossBackward0>)\n",
            "epoch: 382 tensor(0.2907, grad_fn=<MseLossBackward0>)\n",
            "epoch: 383 tensor(0.1714, grad_fn=<MseLossBackward0>)\n",
            "epoch: 384 tensor(0.0143, grad_fn=<MseLossBackward0>)\n",
            "epoch: 385 tensor(0.0424, grad_fn=<MseLossBackward0>)\n",
            "epoch: 386 tensor(0.1792, grad_fn=<MseLossBackward0>)\n",
            "epoch: 387 tensor(0.1599, grad_fn=<MseLossBackward0>)\n",
            "epoch: 388 tensor(0.0786, grad_fn=<MseLossBackward0>)\n",
            "epoch: 389 tensor(0.0018, grad_fn=<MseLossBackward0>)\n",
            "epoch: 390 tensor(0.0496, grad_fn=<MseLossBackward0>)\n",
            "epoch: 391 tensor(0.1231, grad_fn=<MseLossBackward0>)\n",
            "epoch: 392 tensor(0.0643, grad_fn=<MseLossBackward0>)\n",
            "epoch: 393 tensor(0.0043, grad_fn=<MseLossBackward0>)\n",
            "epoch: 394 tensor(0.0215, grad_fn=<MseLossBackward0>)\n",
            "epoch: 395 tensor(0.0624, grad_fn=<MseLossBackward0>)\n",
            "epoch: 396 tensor(0.0575, grad_fn=<MseLossBackward0>)\n",
            "epoch: 397 tensor(0.0087, grad_fn=<MseLossBackward0>)\n",
            "epoch: 398 tensor(0.0091, grad_fn=<MseLossBackward0>)\n",
            "epoch: 399 tensor(0.0435, grad_fn=<MseLossBackward0>)\n",
            "epoch: 400 tensor(0.0338, grad_fn=<MseLossBackward0>)\n",
            "epoch: 401 tensor(0.0063, grad_fn=<MseLossBackward0>)\n",
            "epoch: 402 tensor(0.0046, grad_fn=<MseLossBackward0>)\n",
            "epoch: 403 tensor(0.0242, grad_fn=<MseLossBackward0>)\n",
            "epoch: 404 tensor(0.0269, grad_fn=<MseLossBackward0>)\n",
            "epoch: 405 tensor(0.0060, grad_fn=<MseLossBackward0>)\n",
            "epoch: 406 tensor(0.0025, grad_fn=<MseLossBackward0>)\n",
            "epoch: 407 tensor(0.0163, grad_fn=<MseLossBackward0>)\n",
            "epoch: 408 tensor(0.0164, grad_fn=<MseLossBackward0>)\n",
            "epoch: 409 tensor(0.0046, grad_fn=<MseLossBackward0>)\n",
            "epoch: 410 tensor(0.0013, grad_fn=<MseLossBackward0>)\n",
            "epoch: 411 tensor(0.0096, grad_fn=<MseLossBackward0>)\n",
            "epoch: 412 tensor(0.0124, grad_fn=<MseLossBackward0>)\n",
            "epoch: 413 tensor(0.0040, grad_fn=<MseLossBackward0>)\n",
            "epoch: 414 tensor(0.0007, grad_fn=<MseLossBackward0>)\n",
            "epoch: 415 tensor(0.0060, grad_fn=<MseLossBackward0>)\n",
            "epoch: 416 tensor(0.0080, grad_fn=<MseLossBackward0>)\n",
            "epoch: 417 tensor(0.0035, grad_fn=<MseLossBackward0>)\n",
            "epoch: 418 tensor(0.0004, grad_fn=<MseLossBackward0>)\n",
            "epoch: 419 tensor(0.0033, grad_fn=<MseLossBackward0>)\n",
            "epoch: 420 tensor(0.0059, grad_fn=<MseLossBackward0>)\n",
            "epoch: 421 tensor(0.0032, grad_fn=<MseLossBackward0>)\n",
            "epoch: 422 tensor(0.0005, grad_fn=<MseLossBackward0>)\n",
            "epoch: 423 tensor(0.0016, grad_fn=<MseLossBackward0>)\n",
            "epoch: 424 tensor(0.0036, grad_fn=<MseLossBackward0>)\n",
            "epoch: 425 tensor(0.0028, grad_fn=<MseLossBackward0>)\n",
            "epoch: 426 tensor(0.0007, grad_fn=<MseLossBackward0>)\n",
            "epoch: 427 tensor(0.0007, grad_fn=<MseLossBackward0>)\n",
            "epoch: 428 tensor(0.0022, grad_fn=<MseLossBackward0>)\n",
            "epoch: 429 tensor(0.0024, grad_fn=<MseLossBackward0>)\n",
            "epoch: 430 tensor(0.0011, grad_fn=<MseLossBackward0>)\n",
            "epoch: 431 tensor(0.0003, grad_fn=<MseLossBackward0>)\n",
            "epoch: 432 tensor(0.0010, grad_fn=<MseLossBackward0>)\n",
            "epoch: 433 tensor(0.0018, grad_fn=<MseLossBackward0>)\n",
            "epoch: 434 tensor(0.0013, grad_fn=<MseLossBackward0>)\n",
            "epoch: 435 tensor(0.0004, grad_fn=<MseLossBackward0>)\n",
            "epoch: 436 tensor(0.0004, grad_fn=<MseLossBackward0>)\n",
            "epoch: 437 tensor(0.0010, grad_fn=<MseLossBackward0>)\n",
            "epoch: 438 tensor(0.0012, grad_fn=<MseLossBackward0>)\n",
            "epoch: 439 tensor(0.0007, grad_fn=<MseLossBackward0>)\n",
            "epoch: 440 tensor(0.0003, grad_fn=<MseLossBackward0>)\n",
            "epoch: 441 tensor(0.0004, grad_fn=<MseLossBackward0>)\n",
            "epoch: 442 tensor(0.0008, grad_fn=<MseLossBackward0>)\n",
            "epoch: 443 tensor(0.0008, grad_fn=<MseLossBackward0>)\n",
            "epoch: 444 tensor(0.0005, grad_fn=<MseLossBackward0>)\n",
            "epoch: 445 tensor(0.0003, grad_fn=<MseLossBackward0>)\n",
            "epoch: 446 tensor(0.0004, grad_fn=<MseLossBackward0>)\n",
            "epoch: 447 tensor(0.0006, grad_fn=<MseLossBackward0>)\n",
            "epoch: 448 tensor(0.0006, grad_fn=<MseLossBackward0>)\n",
            "epoch: 449 tensor(0.0004, grad_fn=<MseLossBackward0>)\n",
            "epoch: 450 tensor(0.0003, grad_fn=<MseLossBackward0>)\n",
            "epoch: 451 tensor(0.0003, grad_fn=<MseLossBackward0>)\n",
            "epoch: 452 tensor(0.0004, grad_fn=<MseLossBackward0>)\n",
            "epoch: 453 tensor(0.0004, grad_fn=<MseLossBackward0>)\n",
            "epoch: 454 tensor(0.0003, grad_fn=<MseLossBackward0>)\n",
            "epoch: 455 tensor(0.0003, grad_fn=<MseLossBackward0>)\n",
            "epoch: 456 tensor(0.0003, grad_fn=<MseLossBackward0>)\n",
            "epoch: 457 tensor(0.0003, grad_fn=<MseLossBackward0>)\n",
            "epoch: 458 tensor(0.0004, grad_fn=<MseLossBackward0>)\n",
            "epoch: 459 tensor(0.0003, grad_fn=<MseLossBackward0>)\n",
            "epoch: 460 tensor(0.0003, grad_fn=<MseLossBackward0>)\n",
            "epoch: 461 tensor(0.0002, grad_fn=<MseLossBackward0>)\n",
            "epoch: 462 tensor(0.0003, grad_fn=<MseLossBackward0>)\n",
            "epoch: 463 tensor(0.0003, grad_fn=<MseLossBackward0>)\n",
            "epoch: 464 tensor(0.0003, grad_fn=<MseLossBackward0>)\n",
            "epoch: 465 tensor(0.0003, grad_fn=<MseLossBackward0>)\n",
            "epoch: 466 tensor(0.0002, grad_fn=<MseLossBackward0>)\n",
            "epoch: 467 tensor(0.0002, grad_fn=<MseLossBackward0>)\n",
            "epoch: 468 tensor(0.0003, grad_fn=<MseLossBackward0>)\n",
            "epoch: 469 tensor(0.0003, grad_fn=<MseLossBackward0>)\n",
            "epoch: 470 tensor(0.0003, grad_fn=<MseLossBackward0>)\n",
            "epoch: 471 tensor(0.0002, grad_fn=<MseLossBackward0>)\n",
            "epoch: 472 tensor(0.0002, grad_fn=<MseLossBackward0>)\n",
            "epoch: 473 tensor(0.0002, grad_fn=<MseLossBackward0>)\n",
            "epoch: 474 tensor(0.0002, grad_fn=<MseLossBackward0>)\n",
            "epoch: 475 tensor(0.0002, grad_fn=<MseLossBackward0>)\n",
            "epoch: 476 tensor(0.0002, grad_fn=<MseLossBackward0>)\n",
            "epoch: 477 tensor(0.0002, grad_fn=<MseLossBackward0>)\n",
            "epoch: 478 tensor(0.0002, grad_fn=<MseLossBackward0>)\n",
            "epoch: 479 tensor(0.0002, grad_fn=<MseLossBackward0>)\n",
            "epoch: 480 tensor(0.0002, grad_fn=<MseLossBackward0>)\n",
            "epoch: 481 tensor(0.0002, grad_fn=<MseLossBackward0>)\n",
            "epoch: 482 tensor(0.0002, grad_fn=<MseLossBackward0>)\n",
            "epoch: 483 tensor(0.0002, grad_fn=<MseLossBackward0>)\n",
            "epoch: 484 tensor(0.0002, grad_fn=<MseLossBackward0>)\n",
            "epoch: 485 tensor(0.0002, grad_fn=<MseLossBackward0>)\n",
            "epoch: 486 tensor(0.0002, grad_fn=<MseLossBackward0>)\n",
            "epoch: 487 tensor(0.0002, grad_fn=<MseLossBackward0>)\n",
            "epoch: 488 tensor(0.0002, grad_fn=<MseLossBackward0>)\n",
            "epoch: 489 tensor(0.0002, grad_fn=<MseLossBackward0>)\n",
            "epoch: 490 tensor(0.0002, grad_fn=<MseLossBackward0>)\n",
            "epoch: 491 tensor(0.0002, grad_fn=<MseLossBackward0>)\n",
            "epoch: 492 tensor(0.0002, grad_fn=<MseLossBackward0>)\n",
            "epoch: 493 tensor(0.0002, grad_fn=<MseLossBackward0>)\n",
            "epoch: 494 tensor(0.0002, grad_fn=<MseLossBackward0>)\n",
            "epoch: 495 tensor(0.0002, grad_fn=<MseLossBackward0>)\n",
            "epoch: 496 tensor(0.0002, grad_fn=<MseLossBackward0>)\n",
            "epoch: 497 tensor(0.0002, grad_fn=<MseLossBackward0>)\n",
            "epoch: 498 tensor(0.0002, grad_fn=<MseLossBackward0>)\n",
            "epoch: 499 tensor(0.0002, grad_fn=<MseLossBackward0>)\n"
          ]
        }
      ]
    },
    {
      "cell_type": "code",
      "source": [
        "pred = model(X_train).detach().numpy()\n",
        "plt.plot(X,pred,\"ro\")"
      ],
      "metadata": {
        "colab": {
          "base_uri": "https://localhost:8080/",
          "height": 447
        },
        "id": "5wEkigogTGJl",
        "outputId": "b319f0a8-a51e-4c57-808d-f27b01301651"
      },
      "execution_count": 35,
      "outputs": [
        {
          "output_type": "execute_result",
          "data": {
            "text/plain": [
              "[<matplotlib.lines.Line2D at 0x7bc8ad465610>]"
            ]
          },
          "metadata": {},
          "execution_count": 35
        },
        {
          "output_type": "display_data",
          "data": {
            "text/plain": [
              "<Figure size 640x480 with 1 Axes>"
            ],
            "image/png": "[encoded data removed]"
          },
          "metadata": {}
        }
      ]
    },
    {
      "cell_type": "code",
      "source": [
        "# can I do gradient descent on the model itself, i.e update input based on model output?\n",
        "\n",
        "x = torch.tensor([-10.0],requires_grad = True)\n",
        "\n",
        "optimizer = torch.optim.Adam([x], lr=0.1)\n",
        "\n",
        "for i in range(1000):\n",
        "  out = model(x)\n",
        "  out.backward()\n",
        "  optimizer.step()\n",
        "  optimizer.zero_grad()\n",
        "\n",
        "print(x,model(x))  # close enough"
      ],
      "metadata": {
        "colab": {
          "base_uri": "https://localhost:8080/"
        },
        "id": "KIY7SPvaVr8h",
        "outputId": "4d786a2a-ca73-4ee5-fa4e-31c92e5b2a6e"
      },
      "execution_count": 36,
      "outputs": [
        {
          "output_type": "stream",
          "name": "stdout",
          "text": [
            "tensor([-0.0265], requires_grad=True) tensor([2.0056], grad_fn=<ViewBackward0>)\n"
          ]
        }
      ]
    },
    {
      "cell_type": "markdown",
      "source": [
        "# Rnns: The pytorch way"
      ],
      "metadata": {
        "id": "1OzsMaU5ghSV"
      }
    },
    {
      "cell_type": "code",
      "source": [
        "!wget https://raw.githubusercontent.com/jbrownlee/Datasets/master/airline-passengers.csv\n",
        "import pandas as pd\n",
        "data = pd.read_csv(\"airline-passengers.csv\")"
      ],
      "metadata": {
        "colab": {
          "base_uri": "https://localhost:8080/"
        },
        "id": "oUakZj20Opq0",
        "outputId": "7310628f-a651-4c5b-90df-ae76bfd3d471"
      },
      "execution_count": null,
      "outputs": [
        {
          "output_type": "stream",
          "name": "stdout",
          "text": [
            "--2024-03-05 19:42:49--  https://raw.githubusercontent.com/jbrownlee/Datasets/master/airline-passengers.csv\n",
            "Resolving raw.githubusercontent.com (raw.githubusercontent.com)... 185.199.108.133, 185.199.109.133, 185.199.110.133, ...\n",
            "Connecting to raw.githubusercontent.com (raw.githubusercontent.com)|185.199.108.133|:443... connected.\n",
            "HTTP request sent, awaiting response... 200 OK\n",
            "Length: 2180 (2.1K) [text/plain]\n",
            "Saving to: ‘airline-passengers.csv’\n",
            "\n",
            "airline-passengers. 100%[===================>]   2.13K  --.-KB/s    in 0s      \n",
            "\n",
            "2024-03-05 19:42:50 (19.6 MB/s) - ‘airline-passengers.csv’ saved [2180/2180]\n",
            "\n"
          ]
        }
      ]
    },
    {
      "cell_type": "code",
      "source": [
        "import matplotlib.pyplot as plt\n",
        "plt.plot(data[\"Passengers\"])\n",
        "split = int(len(data)*0.7)\n",
        "timeseries = data[\"Passengers\"]\n",
        "train,test = data[\"Passengers\"][:split], data[\"Passengers\"][split:]\n",
        "train.shape,test.shape"
      ],
      "metadata": {
        "colab": {
          "base_uri": "https://localhost:8080/",
          "height": 448
        },
        "id": "VjKY8svIqJ_h",
        "outputId": "b21224c9-69ce-4f8b-9936-971b5e335e35"
      },
      "execution_count": null,
      "outputs": [
        {
          "output_type": "execute_result",
          "data": {
            "text/plain": [
              "((100,), (44,))"
            ]
          },
          "metadata": {},
          "execution_count": 35
        },
        {
          "output_type": "display_data",
          "data": {
            "text/plain": [
              "<Figure size 640x480 with 1 Axes>"
            ],
            "image/png": "[encoded data removed]"
          },
          "metadata": {}
        }
      ]
    },
    {
      "cell_type": "code",
      "source": [
        "def create_seq(data,stepsize=5,type=\"train\",m=0,s=1):\n",
        "  X,y = [],[]\n",
        "\n",
        "  if type==\"train\":\n",
        "    m = data.mean()\n",
        "    s = data.std()\n",
        "\n",
        "  data = (data - m)/s\n",
        "\n",
        "  data = list(data)\n",
        "  for i in range(len(data)-stepsize): # [0,1,2,3,4]\n",
        "    feature = data[i:i+stepsize]\n",
        "    target = data[i+stepsize]\n",
        "    X.append(feature)\n",
        "    y.append(target)\n",
        "  return torch.tensor(X).float().view(-1,5,1), torch.tensor(y).float().view(-1,1),m,s"
      ],
      "metadata": {
        "id": "f6ooSwfbyXbW"
      },
      "execution_count": null,
      "outputs": []
    },
    {
      "cell_type": "code",
      "source": [
        "X_train,Y_train,m,s = create_seq(train)\n",
        "X_test,Y_test,m_,s_ = create_seq(test,m=m,s=s,type=\"test\")"
      ],
      "metadata": {
        "id": "NBnVo-X44kTm"
      },
      "execution_count": null,
      "outputs": []
    },
    {
      "cell_type": "code",
      "source": [
        "X_train = X_train\n",
        "Y_train = Y_train\n",
        "X_train.shape, X_test.shape"
      ],
      "metadata": {
        "colab": {
          "base_uri": "https://localhost:8080/"
        },
        "id": "oz_x99yZ5KCO",
        "outputId": "a854feb2-4a41-4bc8-ebae-7096616c5397"
      },
      "execution_count": null,
      "outputs": [
        {
          "output_type": "execute_result",
          "data": {
            "text/plain": [
              "(torch.Size([95, 5, 1]), torch.Size([39, 5, 1]))"
            ]
          },
          "metadata": {},
          "execution_count": 38
        }
      ]
    },
    {
      "cell_type": "code",
      "source": [
        "class Airmodel(nn.Module):\n",
        "  def __init__(self):\n",
        "    super().__init__()\n",
        "    self.lstm = nn.LSTM(input_size =1,hidden_size = 50,num_layers = 1,batch_first=True)\n",
        "    self.linear = nn.Linear(50,1)\n",
        "  def forward(self,x):\n",
        "    x,_ = self.lstm(x)\n",
        "    x = x[:,-1,:] # only the last\n",
        "    x = self.linear(x)\n",
        "    return x"
      ],
      "metadata": {
        "id": "RYh-1-tP5ltt"
      },
      "execution_count": null,
      "outputs": []
    },
    {
      "cell_type": "code",
      "source": [
        "import numpy as np\n",
        "import torch.utils.data as data\n",
        "model = Airmodel()\n",
        "optimizer = torch.optim.Adam(model.parameters())\n",
        "loss_fn = nn.MSELoss()\n",
        "loader = data.DataLoader(data.TensorDataset(X_train, Y_train), shuffle=True, batch_size=32)\n",
        "\n"
      ],
      "metadata": {
        "id": "c_J4Ve1u6Bm1"
      },
      "execution_count": null,
      "outputs": []
    },
    {
      "cell_type": "code",
      "source": [
        "n_epochs = 2000\n",
        "for epoch in range(n_epochs):\n",
        "    model.train()\n",
        "    for X_batch, y_batch in loader:\n",
        "        y_pred = model(X_batch)\n",
        "        loss = loss_fn(y_pred, y_batch)\n",
        "        optimizer.zero_grad()\n",
        "        loss.backward()\n",
        "        optimizer.step()\n",
        "    # Validation\n",
        "    if epoch % 100 != 0:\n",
        "        continue\n",
        "    model.eval()\n",
        "    with torch.no_grad():\n",
        "        y_pred = model(X_train)\n",
        "        train_rmse = np.sqrt(loss_fn(y_pred, Y_train))\n",
        "        y_pred = model(X_test)\n",
        "        test_rmse = np.sqrt(loss_fn(y_pred, Y_test))\n",
        "    print(\"Epoch %d: train RMSE %.4f, test RMSE %.4f\" % (epoch, train_rmse, test_rmse))"
      ],
      "metadata": {
        "colab": {
          "base_uri": "https://localhost:8080/"
        },
        "id": "4JoOm_MtJVb5",
        "outputId": "6af34441-afa1-4fe2-e770-098f1d517d21"
      },
      "execution_count": null,
      "outputs": [
        {
          "output_type": "stream",
          "name": "stdout",
          "text": [
            "Epoch 0: train RMSE 0.0256, test RMSE 0.9445\n",
            "Epoch 100: train RMSE 0.0211, test RMSE 0.9505\n",
            "Epoch 200: train RMSE 0.0133, test RMSE 0.9478\n",
            "Epoch 300: train RMSE 0.0105, test RMSE 0.9502\n",
            "Epoch 400: train RMSE 0.0183, test RMSE 0.9496\n",
            "Epoch 500: train RMSE 0.0106, test RMSE 0.9481\n",
            "Epoch 600: train RMSE 0.0370, test RMSE 0.9610\n",
            "Epoch 700: train RMSE 0.0019, test RMSE 0.9445\n",
            "Epoch 800: train RMSE 0.0153, test RMSE 0.9402\n",
            "Epoch 900: train RMSE 0.0142, test RMSE 0.9456\n",
            "Epoch 1000: train RMSE 0.0109, test RMSE 0.9466\n",
            "Epoch 1100: train RMSE 0.0045, test RMSE 0.9445\n",
            "Epoch 1200: train RMSE 0.0089, test RMSE 0.9444\n",
            "Epoch 1300: train RMSE 0.0115, test RMSE 0.9379\n",
            "Epoch 1400: train RMSE 0.0082, test RMSE 0.9373\n",
            "Epoch 1500: train RMSE 0.0017, test RMSE 0.9386\n",
            "Epoch 1600: train RMSE 0.0012, test RMSE 0.9386\n",
            "Epoch 1700: train RMSE 0.0173, test RMSE 0.9320\n",
            "Epoch 1800: train RMSE 0.0024, test RMSE 0.9430\n",
            "Epoch 1900: train RMSE 0.0007, test RMSE 0.9426\n"
          ]
        }
      ]
    },
    {
      "cell_type": "code",
      "source": [
        "train_size = len(train)\n",
        "lookback = 5\n",
        "with torch.no_grad():\n",
        "    # shift train predictions for plotting\n",
        "    train_plot = np.ones_like(timeseries) * np.nan\n",
        "    y_pred = model(X_train)\n",
        "\n",
        "    train_plot[lookback:train_size] = model(X_train).view(-1)*s +m\n",
        "    # shift test predictions for plotting\n",
        "    test_plot = np.ones_like(timeseries) * np.nan\n",
        "    test_plot[train_size+lookback:len(timeseries)] = model(X_test).view(-1)*s +m\n",
        "# plot\n",
        "plt.plot(timeseries, c='b')\n",
        "plt.plot(train_plot, c='r')\n",
        "plt.plot(test_plot, c='g')\n",
        "plt.show()"
      ],
      "metadata": {
        "colab": {
          "base_uri": "https://localhost:8080/",
          "height": 430
        },
        "id": "Q5f7slcs8lqA",
        "outputId": "be27f950-2535-4a18-9b10-c2af35f7ef79"
      },
      "execution_count": null,
      "outputs": [
        {
          "output_type": "display_data",
          "data": {
            "text/plain": [
              "<Figure size 640x480 with 1 Axes>"
            ],
            "image/png": "[encoded data removed]"
          },
          "metadata": {}
        }
      ]
    },
    {
      "cell_type": "markdown",
      "source": [],
      "metadata": {
        "id": "AKuKC3BzCWbs"
      }
    }
  ]
}