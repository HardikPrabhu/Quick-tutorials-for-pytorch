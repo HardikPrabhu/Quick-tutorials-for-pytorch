{
  "nbformat": 4,
  "nbformat_minor": 0,
  "metadata": {
    "colab": {
      "provenance": [],
      "authorship_tag": "ABX9TyM9wRf0mv+GTZS71cJnZVUW",
      "include_colab_link": true
    },
    "kernelspec": {
      "name": "python3",
      "display_name": "Python 3"
    },
    "language_info": {
      "name": "python"
    }
  },
  "cells": [
    {
      "cell_type": "markdown",
      "metadata": {
        "id": "view-in-github",
        "colab_type": "text"
      },
      "source": [
        "<a href=\"https://colab.research.google.com/github/HardikPrabhu/Quick-tutorials-for-pytorch/blob/main/A_notebook_for_pytorch_tensor_exercises.ipynb\" target=\"_parent\"><img src=\"https://colab.research.google.com/assets/colab-badge.svg\" alt=\"Open In Colab\"/></a>"
      ]
    },
    {
      "cell_type": "code",
      "source": [
        "import torch"
      ],
      "metadata": {
        "id": "dNQOwGNQZv2j"
      },
      "execution_count": 2,
      "outputs": []
    },
    {
      "cell_type": "markdown",
      "source": [
        "## Basics"
      ],
      "metadata": {
        "id": "R6IkPldsYAqK"
      }
    },
    {
      "cell_type": "markdown",
      "source": [
        "Tensors are essentially numpy arrays with ability to store gradients and \"connect\" in a computational graph . (Not to be confused with mathematical notion of a tensor)"
      ],
      "metadata": {
        "id": "kumqVt93YQQD"
      }
    },
    {
      "cell_type": "code",
      "execution_count": 3,
      "metadata": {
        "colab": {
          "base_uri": "https://localhost:8080/"
        },
        "id": "SkzxMBjhX7mj",
        "outputId": "06848006-1dbc-4717-dcc5-800c77b8564e"
      },
      "outputs": [
        {
          "output_type": "stream",
          "name": "stdout",
          "text": [
            "tensor([[1, 2, 3],\n",
            "        [4, 5, 6]])\n",
            "Shape of tensor: torch.Size([2, 3])\n",
            "Datatype of tensor: torch.int64\n",
            "Device tensor is stored on: cpu\n",
            "Dimensions : 2\n"
          ]
        }
      ],
      "source": [
        "#Tensors just like numpy arrays store information in nested arrays.\n",
        "x = torch.tensor([[1,2,3],[4,5,6]])\n",
        "print(x)\n",
        "# some attributes\n",
        "print(f\"Shape of tensor: {x.shape}\")\n",
        "print(f\"Datatype of tensor: {x.dtype}\")\n",
        "print(f\"Device tensor is stored on: {x.device}\")\n",
        "print(f\"Dimensions : {x.ndim}\" )"
      ]
    },
    {
      "cell_type": "code",
      "source": [
        "# Dimensions represents the \"nested nature\" of arrays.\n",
        "# Dimensions or \"x.ndim\"  denotes the length of the \"x.shape\" array. Known as the dimension of a tensor (again not the Mathematical notion of dimenisions)\n",
        "x = torch.tensor(2.3)\n",
        "print(x,x.ndim,x.shape)  # A scaler value has a dimension 0. (unlike the vector space notion)\n",
        "\n",
        "# 1-d with 1 element is not scaler\n",
        "x = torch.tensor([3])\n",
        "print(x,x.ndim,x.shape)"
      ],
      "metadata": {
        "colab": {
          "base_uri": "https://localhost:8080/"
        },
        "id": "Hb0F6U8waEVO",
        "outputId": "1565cd2a-a2f4-4597-b265-18af7ecb7c40"
      },
      "execution_count": 4,
      "outputs": [
        {
          "output_type": "stream",
          "name": "stdout",
          "text": [
            "tensor(2.3000) 0 torch.Size([])\n",
            "tensor([3]) 1 torch.Size([1])\n"
          ]
        }
      ]
    },
    {
      "cell_type": "markdown",
      "source": [
        "Accesing elements in a tensor"
      ],
      "metadata": {
        "id": "wHWCRrHxzdNz"
      }
    },
    {
      "cell_type": "code",
      "source": [
        "x = torch.tensor([[1,2,3],[4,5,6],[7,8,9]])\n",
        "# first row:\n",
        "print(\"first row :\", x[0])\n",
        "# first column\n",
        "print(\"first col :\", x[:,0])\n",
        "# first row first column\n",
        "x[0,0] # returns a scaler\n",
        "\n",
        "# changing an element (it happens in place)\n",
        "x[1,1] = 10\n",
        "print(x)"
      ],
      "metadata": {
        "colab": {
          "base_uri": "https://localhost:8080/"
        },
        "id": "Ha4W-LPTbWKr",
        "outputId": "63e20efa-34f9-4cf9-b4a6-5676653871c3"
      },
      "execution_count": 5,
      "outputs": [
        {
          "output_type": "stream",
          "name": "stdout",
          "text": [
            "first row : tensor([1, 2, 3])\n",
            "first col : tensor([1, 4, 7])\n",
            "tensor([[ 1,  2,  3],\n",
            "        [ 4, 10,  6],\n",
            "        [ 7,  8,  9]])\n"
          ]
        }
      ]
    },
    {
      "cell_type": "code",
      "source": [
        "# 3D example\n",
        "x = torch.arange(1,28)\n",
        "x = x.view(3,3,3)\n",
        "print(x)\n",
        "\n",
        "# first block\n",
        "print(\"first block: \", x[0])\n",
        "# first row of each block\n",
        "print(\"first row of each block: \",x[:,0])\n",
        "# first column of each block\n",
        "print(\"first column of each block: \",x[:,:,0].T)   # [c1|c2|c3]"
      ],
      "metadata": {
        "colab": {
          "base_uri": "https://localhost:8080/"
        },
        "id": "5nNn2C48U-tg",
        "outputId": "4699c087-caac-4e9e-e9c0-3bc4c3833fe3"
      },
      "execution_count": 6,
      "outputs": [
        {
          "output_type": "stream",
          "name": "stdout",
          "text": [
            "tensor([[[ 1,  2,  3],\n",
            "         [ 4,  5,  6],\n",
            "         [ 7,  8,  9]],\n",
            "\n",
            "        [[10, 11, 12],\n",
            "         [13, 14, 15],\n",
            "         [16, 17, 18]],\n",
            "\n",
            "        [[19, 20, 21],\n",
            "         [22, 23, 24],\n",
            "         [25, 26, 27]]])\n",
            "first block:  tensor([[1, 2, 3],\n",
            "        [4, 5, 6],\n",
            "        [7, 8, 9]])\n",
            "first row of each block:  tensor([[ 1,  2,  3],\n",
            "        [10, 11, 12],\n",
            "        [19, 20, 21]])\n",
            "first column of each block:  tensor([[ 1, 10, 19],\n",
            "        [ 4, 13, 22],\n",
            "        [ 7, 16, 25]])\n"
          ]
        }
      ]
    },
    {
      "cell_type": "code",
      "source": [
        "# value based masking (with boolean)\n",
        "x > 5\n",
        "# creates a tensor of same size. Each element is checked with the condition \"value > 5\""
      ],
      "metadata": {
        "colab": {
          "base_uri": "https://localhost:8080/"
        },
        "id": "rm64GqNpd1Rs",
        "outputId": "1c3773a6-de19-4b89-bd71-9b9405198da0"
      },
      "execution_count": 7,
      "outputs": [
        {
          "output_type": "execute_result",
          "data": {
            "text/plain": [
              "tensor([[[False, False, False],\n",
              "         [False, False,  True],\n",
              "         [ True,  True,  True]],\n",
              "\n",
              "        [[ True,  True,  True],\n",
              "         [ True,  True,  True],\n",
              "         [ True,  True,  True]],\n",
              "\n",
              "        [[ True,  True,  True],\n",
              "         [ True,  True,  True],\n",
              "         [ True,  True,  True]]])"
            ]
          },
          "metadata": {},
          "execution_count": 7
        }
      ]
    },
    {
      "cell_type": "code",
      "source": [
        "# fetch only the elements based on a boolean mask.\n",
        "b_mask = x > 5\n",
        "x[b_mask]  # Note that the output is of dimnsion 1. (useful to perform some arithmetic, like sum of all positive numbers etc.)"
      ],
      "metadata": {
        "colab": {
          "base_uri": "https://localhost:8080/"
        },
        "id": "t8_eP7_okhCD",
        "outputId": "c0a4654b-717d-40fe-b5df-fed9734cb465"
      },
      "execution_count": 8,
      "outputs": [
        {
          "output_type": "execute_result",
          "data": {
            "text/plain": [
              "tensor([ 6,  7,  8,  9, 10, 11, 12, 13, 14, 15, 16, 17, 18, 19, 20, 21, 22, 23,\n",
              "        24, 25, 26, 27])"
            ]
          },
          "metadata": {},
          "execution_count": 8
        }
      ]
    },
    {
      "cell_type": "code",
      "source": [
        "# change the fetched elements.\n",
        "x[b_mask] = 0\n",
        "# Again it is an inplace operation (simple example: convert all negative numbers to zero)\n",
        "x"
      ],
      "metadata": {
        "colab": {
          "base_uri": "https://localhost:8080/"
        },
        "id": "Ipi4TyDYktf1",
        "outputId": "9a43dadb-2463-48a2-9aff-c63b0147cd97"
      },
      "execution_count": 9,
      "outputs": [
        {
          "output_type": "execute_result",
          "data": {
            "text/plain": [
              "tensor([[[1, 2, 3],\n",
              "         [4, 5, 0],\n",
              "         [0, 0, 0]],\n",
              "\n",
              "        [[0, 0, 0],\n",
              "         [0, 0, 0],\n",
              "         [0, 0, 0]],\n",
              "\n",
              "        [[0, 0, 0],\n",
              "         [0, 0, 0],\n",
              "         [0, 0, 0]]])"
            ]
          },
          "metadata": {},
          "execution_count": 9
        }
      ]
    },
    {
      "cell_type": "code",
      "source": [
        "# Slicing  var[lower:upper:step] # return a slice of the tensor\n",
        "\n",
        "a = torch.arange(1,21)\n",
        "# only get the odd numbers in order\n",
        "print(a[::2])\n",
        "# print get even numbers in order\n",
        "print(a[1::2])\n",
        "\n",
        "# multiples of n:\n",
        "n = 4\n",
        "print(a[n-1::n])\n",
        "\n",
        "n = 5\n",
        "print(a[n-1::n])\n",
        "\n",
        "# an alternative way to do it (masking)\n",
        "print(a[a%n==0])\n",
        "\n",
        "# end of the array (negative index)\n",
        "print(a[:-1], a[-1]) # excluding the last term, last term\n",
        "print(a[:-3], a[-3:]) # excluding the  last 3 terms, last 3 terms\n",
        "\n",
        "# Same method could be generalized along multiple dimensions (See exercise 1.)\n"
      ],
      "metadata": {
        "colab": {
          "base_uri": "https://localhost:8080/"
        },
        "id": "nzoObAVVpmIb",
        "outputId": "053556f9-5649-47c6-e3cb-e1d9c969620c"
      },
      "execution_count": null,
      "outputs": [
        {
          "output_type": "stream",
          "name": "stdout",
          "text": [
            "tensor([ 1,  3,  5,  7,  9, 11, 13, 15, 17, 19])\n",
            "tensor([ 2,  4,  6,  8, 10, 12, 14, 16, 18, 20])\n",
            "tensor([ 4,  8, 12, 16, 20])\n",
            "tensor([ 5, 10, 15, 20])\n",
            "tensor([ 5, 10, 15, 20])\n",
            "tensor([ 1,  2,  3,  4,  5,  6,  7,  8,  9, 10, 11, 12, 13, 14, 15, 16, 17, 18,\n",
            "        19]) tensor(20)\n",
            "tensor([ 1,  2,  3,  4,  5,  6,  7,  8,  9, 10, 11, 12, 13, 14, 15, 16, 17]) tensor([18, 19, 20])\n"
          ]
        }
      ]
    },
    {
      "cell_type": "markdown",
      "source": [
        "Element wise operations"
      ],
      "metadata": {
        "id": "1nlMpg2bvEaO"
      }
    },
    {
      "cell_type": "code",
      "source": [
        "# Elementwise operations between tensors of same shape:\n",
        "a = torch.tensor([[1,2,3],[4,5,6]])\n",
        "b = torch.tensor([[1,2,3],[1,1,1]])\n",
        "print(\"add:\",a+b)\n",
        "print(\"sub:\", a-b)\n",
        "print(\"div:\", a/b )\n",
        "print(\"mult:\", a*b)\n",
        "\n",
        "# element wise power: a_i**b_i for all i\n",
        "print(\"pow:\", a**b)\n",
        "\n",
        "# elementwise (ufunc)\n",
        "print(torch.sin(a))  # sin(a) - element wise\n",
        "print(torch.exp(a))  # exponential(a) - element wise\n",
        "\n",
        "# clipping the values (between a given range)\n",
        "print(torch.clip(a, 3, 5))"
      ],
      "metadata": {
        "colab": {
          "base_uri": "https://localhost:8080/"
        },
        "id": "cQi1OgdClq46",
        "outputId": "9ad8daa2-f8a6-4039-98f3-84bf32879e1f"
      },
      "execution_count": 10,
      "outputs": [
        {
          "output_type": "stream",
          "name": "stdout",
          "text": [
            "add: tensor([[2, 4, 6],\n",
            "        [5, 6, 7]])\n",
            "sub: tensor([[0, 0, 0],\n",
            "        [3, 4, 5]])\n",
            "div: tensor([[1., 1., 1.],\n",
            "        [4., 5., 6.]])\n",
            "mult: tensor([[1, 4, 9],\n",
            "        [4, 5, 6]])\n",
            "pow: tensor([[ 1,  4, 27],\n",
            "        [ 4,  5,  6]])\n",
            "tensor([[ 0.8415,  0.9093,  0.1411],\n",
            "        [-0.7568, -0.9589, -0.2794]])\n",
            "tensor([[  2.7183,   7.3891,  20.0855],\n",
            "        [ 54.5981, 148.4132, 403.4288]])\n",
            "tensor([[3, 3, 3],\n",
            "        [4, 5, 5]])\n"
          ]
        }
      ]
    },
    {
      "cell_type": "markdown",
      "source": [
        "Along axis operations"
      ],
      "metadata": {
        "id": "MaXXGMKDu_F4"
      }
    },
    {
      "cell_type": "markdown",
      "source": [
        "* These includes operations such as reduction (taking sum, mean etc). These operations reduce the dimensions of the tensor\n",
        "* Concatination, Reshaping etc.\n"
      ],
      "metadata": {
        "id": "oOiO8wBGzmL6"
      }
    },
    {
      "cell_type": "code",
      "source": [
        "# sum\n",
        "a = torch.tensor([[1,2,3],[4,5,6],[7,8,9],[10,11,12]])\n",
        "print(a.shape) # 2 dimensions. dim = 0 or 1\n",
        "# all values added, if no axis is passed\n",
        "print(a.sum())\n"
      ],
      "metadata": {
        "id": "TZuiWL4Rvj7N",
        "colab": {
          "base_uri": "https://localhost:8080/"
        },
        "outputId": "314d11db-0480-4fe0-eba8-20aa85b0a8ac"
      },
      "execution_count": 11,
      "outputs": [
        {
          "output_type": "stream",
          "name": "stdout",
          "text": [
            "torch.Size([4, 3])\n",
            "tensor(78)\n"
          ]
        }
      ]
    },
    {
      "cell_type": "markdown",
      "source": [
        "The reduction operations (mean,sum etc.) will reduce the dimension passed as axis.\n",
        "\n",
        "shape(2,3) -> shape(3) ; if axis=0\n",
        "\n",
        "shape(2,3) -> shape(2) ; if axis=1\n",
        "\n",
        "Example:\n",
        "\n",
        "For a 2-d array\n",
        "\n",
        "Sum on axis 0 :\n",
        "\n",
        "Sum([[a,b,c],\n",
        "[d,e,f]]) = [a+d,b+e,c+f]"
      ],
      "metadata": {
        "id": "_gLC37CFvI-Q"
      }
    },
    {
      "cell_type": "markdown",
      "source": [
        "Sum on axis 1 :\n",
        "\n",
        "Sum([[a,b,c],\n",
        "[d,e,f]]) = [a+b+c,d+e+f]"
      ],
      "metadata": {
        "id": "-444n8SSvvpY"
      }
    },
    {
      "cell_type": "code",
      "source": [
        "a = torch.tensor([[1,2,3],[4,5,6],[7,8,9],[10,11,12]])\n",
        "print(a.shape) # 2 dimensions. dim = 0 or 1\n",
        "\n",
        "\n",
        "print(\"size along axis 0 :\",a.size(axis = 0))\n",
        "x = a.sum(axis=0)\n",
        "print(x)\n",
        "print(x.shape)\n",
        "\n",
        "# O axis had 4 length (outer array size)\n",
        "# Operation is performed on the elements of outer array\n",
        "# Elements of the outer array are \"summed\" together.\n",
        "# If the elements themselves are of equal dimension, elemntwise operation is performed\n"
      ],
      "metadata": {
        "colab": {
          "base_uri": "https://localhost:8080/"
        },
        "id": "Vw0KrMh2sAf5",
        "outputId": "76ba802b-fea8-42e7-8eab-36e5ab2e0354"
      },
      "execution_count": 12,
      "outputs": [
        {
          "output_type": "stream",
          "name": "stdout",
          "text": [
            "torch.Size([4, 3])\n",
            "size along axis 0 : 4\n",
            "tensor([22, 26, 30])\n",
            "torch.Size([3])\n"
          ]
        }
      ]
    },
    {
      "cell_type": "code",
      "source": [
        "print(\"size along axis 1 :\", a.size(axis = 1))\n",
        "x = a.sum(axis=1)\n",
        "print(x)\n",
        "print(x.shape)\n",
        "\n",
        "# 1 axis had 3 length (inner array size)\n",
        "# Operation is performed on the elements of the inner array.\n",
        "\n"
      ],
      "metadata": {
        "colab": {
          "base_uri": "https://localhost:8080/"
        },
        "id": "7bwuRZ3Vsusz",
        "outputId": "ddb4f64a-95c8-4f8f-e49f-6d45e22e19ea"
      },
      "execution_count": 13,
      "outputs": [
        {
          "output_type": "stream",
          "name": "stdout",
          "text": [
            "size along axis 1 : 3\n",
            "tensor([ 6, 15, 24, 33])\n",
            "torch.Size([4])\n"
          ]
        }
      ]
    },
    {
      "cell_type": "code",
      "source": [
        "a = torch.tensor([[[1,2,3],[1,2,1]],[[1,1,1],[3,4,0]]])\n",
        "a.shape\n",
        "\n",
        "# sum of elements within a 1-d tensor is scaler\n",
        "# sum of two tensors is tensor of same size (elementwise)\n"
      ],
      "metadata": {
        "colab": {
          "base_uri": "https://localhost:8080/"
        },
        "id": "-1fdgc0YwO4p",
        "outputId": "6dc0412b-bebc-49e6-d75f-e2f5c82a0c5a"
      },
      "execution_count": 14,
      "outputs": [
        {
          "output_type": "execute_result",
          "data": {
            "text/plain": [
              "torch.Size([2, 2, 3])"
            ]
          },
          "metadata": {},
          "execution_count": 14
        }
      ]
    },
    {
      "cell_type": "markdown",
      "source": [
        "sum axis 0 :\n",
        "[[1,2,3] + [1,1,1], [1,2,1] +[3,4,0]] shape (2,3)\n",
        "\n"
      ],
      "metadata": {
        "id": "YcR74N56xDAD"
      }
    },
    {
      "cell_type": "code",
      "source": [
        "a.sum(axis = 0)"
      ],
      "metadata": {
        "colab": {
          "base_uri": "https://localhost:8080/"
        },
        "id": "lVHeRbZDxjTH",
        "outputId": "f925020a-1a1d-4c07-ed73-9f1d33b26e42"
      },
      "execution_count": 15,
      "outputs": [
        {
          "output_type": "execute_result",
          "data": {
            "text/plain": [
              "tensor([[2, 3, 4],\n",
              "        [4, 6, 1]])"
            ]
          },
          "metadata": {},
          "execution_count": 15
        }
      ]
    },
    {
      "cell_type": "markdown",
      "source": [
        "sum axis 1 :  [[1,2,3] + [1,2,1],[[1,1,1]+[3,4,0]] shape(2,3)"
      ],
      "metadata": {
        "id": "jfXvX3BkxuaN"
      }
    },
    {
      "cell_type": "code",
      "source": [
        "a.sum(axis = 1)"
      ],
      "metadata": {
        "colab": {
          "base_uri": "https://localhost:8080/"
        },
        "id": "wWQzizC-xt4h",
        "outputId": "4fcd7218-8ff9-4d00-8dc9-2433a197a021"
      },
      "execution_count": null,
      "outputs": [
        {
          "output_type": "execute_result",
          "data": {
            "text/plain": [
              "tensor([[2, 4, 4],\n",
              "        [4, 5, 1]])"
            ]
          },
          "metadata": {},
          "execution_count": 26
        }
      ]
    },
    {
      "cell_type": "markdown",
      "source": [
        "sum axis 2 : [[1+2+3,1+2+1],[1+1+1,3+4+0]] shape (2,2)"
      ],
      "metadata": {
        "id": "Tiott-LYyaKQ"
      }
    },
    {
      "cell_type": "code",
      "source": [
        "a.sum(axis = 2)"
      ],
      "metadata": {
        "colab": {
          "base_uri": "https://localhost:8080/"
        },
        "id": "z8NB_UD7yZG9",
        "outputId": "20ceafd2-5db0-4914-b14f-f2da7d88f788"
      },
      "execution_count": null,
      "outputs": [
        {
          "output_type": "execute_result",
          "data": {
            "text/plain": [
              "tensor([[6, 4],\n",
              "        [3, 7]])"
            ]
          },
          "metadata": {},
          "execution_count": 27
        }
      ]
    },
    {
      "cell_type": "code",
      "source": [
        "# concatnation is done along axis as well\n",
        "print(a.shape)\n",
        "b = torch.concat([a,a],dim = 0)\n",
        "print(b.shape)\n",
        "c = torch.concat([a,a],dim = 1)\n",
        "print(c.shape)\n",
        "d = torch.concat([a,a],dim = 2)\n",
        "print(d.shape)\n",
        "\n",
        "\n",
        "\n",
        "print(a.shape)\n",
        "b = torch.concat([a,a,a],dim = 0)\n",
        "print(b.shape)\n",
        "c = torch.concat([a,a,a,a,a,a],dim = 1)\n",
        "print(c.shape)\n",
        "d = torch.concat([a,a,a,a],dim = 2)\n",
        "print(d.shape)"
      ],
      "metadata": {
        "colab": {
          "base_uri": "https://localhost:8080/"
        },
        "id": "Jq8P0xILzsTq",
        "outputId": "d5391653-6dac-4a90-8907-2ef7a9614974"
      },
      "execution_count": 16,
      "outputs": [
        {
          "output_type": "stream",
          "name": "stdout",
          "text": [
            "torch.Size([2, 2, 3])\n",
            "torch.Size([4, 2, 3])\n",
            "torch.Size([2, 4, 3])\n",
            "torch.Size([2, 2, 6])\n",
            "torch.Size([2, 2, 3])\n",
            "torch.Size([6, 2, 3])\n",
            "torch.Size([2, 12, 3])\n",
            "torch.Size([2, 2, 12])\n"
          ]
        }
      ]
    },
    {
      "cell_type": "code",
      "source": [
        "print(c)"
      ],
      "metadata": {
        "colab": {
          "base_uri": "https://localhost:8080/"
        },
        "id": "jH8O_RS1mOE6",
        "outputId": "7606d69d-e0b6-4be3-a2e7-147ddbe2f661"
      },
      "execution_count": 17,
      "outputs": [
        {
          "output_type": "stream",
          "name": "stdout",
          "text": [
            "tensor([[[1, 2, 3],\n",
            "         [1, 2, 1],\n",
            "         [1, 2, 3],\n",
            "         [1, 2, 1],\n",
            "         [1, 2, 3],\n",
            "         [1, 2, 1],\n",
            "         [1, 2, 3],\n",
            "         [1, 2, 1],\n",
            "         [1, 2, 3],\n",
            "         [1, 2, 1],\n",
            "         [1, 2, 3],\n",
            "         [1, 2, 1]],\n",
            "\n",
            "        [[1, 1, 1],\n",
            "         [3, 4, 0],\n",
            "         [1, 1, 1],\n",
            "         [3, 4, 0],\n",
            "         [1, 1, 1],\n",
            "         [3, 4, 0],\n",
            "         [1, 1, 1],\n",
            "         [3, 4, 0],\n",
            "         [1, 1, 1],\n",
            "         [3, 4, 0],\n",
            "         [1, 1, 1],\n",
            "         [3, 4, 0]]])\n"
          ]
        }
      ]
    },
    {
      "cell_type": "code",
      "source": [
        "# the rest of the dims should match in order to concat\n",
        "\n",
        "a = torch.tensor([[1,2,3],[4,5,6]])\n",
        "b = torch.tensor([[1,2,3]])\n",
        "print(torch.concat([a,b],dim = 0))\n",
        "\n",
        "# error # size should match expect in dim 1\n",
        "#print(torch.concat([a,b],dim = 1))"
      ],
      "metadata": {
        "colab": {
          "base_uri": "https://localhost:8080/"
        },
        "id": "3eOfcgLs4yLO",
        "outputId": "13611431-af59-4130-9f66-2fa231d8ba16"
      },
      "execution_count": 18,
      "outputs": [
        {
          "output_type": "stream",
          "name": "stdout",
          "text": [
            "tensor([[1, 2, 3],\n",
            "        [4, 5, 6],\n",
            "        [1, 2, 3]])\n"
          ]
        }
      ]
    },
    {
      "cell_type": "markdown",
      "source": [
        "# Exercise 1."
      ],
      "metadata": {
        "id": "k3vxrWgRvmZS"
      }
    },
    {
      "cell_type": "markdown",
      "source": [
        "Create the following 2-d tensor and provide code for obtaining 4 diffrerent  slices"
      ],
      "metadata": {
        "id": "UTwE2sEHs1xm"
      }
    },
    {
      "cell_type": "markdown",
      "source": [
        "![image.png](data:image/png;base64,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)"
      ],
      "metadata": {
        "id": "c2eSwaECsxBb"
      }
    },
    {
      "cell_type": "code",
      "source": [
        "# create the array by using previous knoweledge (no broadcasting yet!)\n",
        "x = torch.arange(6)\n",
        "x = x.view(-1,1)\n",
        "y = torch.concat([x for i in range(6)],axis=1)\n",
        "print(10*y)\n",
        "\n",
        "x = x.view(1,-1)\n",
        "z = torch.concat([x for i in range(6)],axis=0)\n",
        "print(z)\n",
        "\n",
        "a = z+10*y\n",
        "print(a)"
      ],
      "metadata": {
        "colab": {
          "base_uri": "https://localhost:8080/"
        },
        "id": "qKcwBiv072L7",
        "outputId": "7521a219-5653-4e73-fee2-8a06b7f9571f"
      },
      "execution_count": null,
      "outputs": [
        {
          "output_type": "stream",
          "name": "stdout",
          "text": [
            "tensor([[ 0,  0,  0,  0,  0,  0],\n",
            "        [10, 10, 10, 10, 10, 10],\n",
            "        [20, 20, 20, 20, 20, 20],\n",
            "        [30, 30, 30, 30, 30, 30],\n",
            "        [40, 40, 40, 40, 40, 40],\n",
            "        [50, 50, 50, 50, 50, 50]])\n",
            "tensor([[0, 1, 2, 3, 4, 5],\n",
            "        [0, 1, 2, 3, 4, 5],\n",
            "        [0, 1, 2, 3, 4, 5],\n",
            "        [0, 1, 2, 3, 4, 5],\n",
            "        [0, 1, 2, 3, 4, 5],\n",
            "        [0, 1, 2, 3, 4, 5]])\n",
            "tensor([[ 0,  1,  2,  3,  4,  5],\n",
            "        [10, 11, 12, 13, 14, 15],\n",
            "        [20, 21, 22, 23, 24, 25],\n",
            "        [30, 31, 32, 33, 34, 35],\n",
            "        [40, 41, 42, 43, 44, 45],\n",
            "        [50, 51, 52, 53, 54, 55]])\n"
          ]
        }
      ]
    },
    {
      "cell_type": "markdown",
      "source": [
        "![image.png](data:image/png;base64,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)"
      ],
      "metadata": {
        "id": "vqyy1u8GBU_h"
      }
    },
    {
      "cell_type": "code",
      "source": [
        "# red\n",
        "a[:,2].view(-1,1)"
      ],
      "metadata": {
        "colab": {
          "base_uri": "https://localhost:8080/"
        },
        "id": "xyVEP4ix-GgK",
        "outputId": "787f8e4f-7c18-46a5-b5af-1ed5ede0fbbc"
      },
      "execution_count": null,
      "outputs": [
        {
          "output_type": "execute_result",
          "data": {
            "text/plain": [
              "tensor([[ 2],\n",
              "        [12],\n",
              "        [22],\n",
              "        [32],\n",
              "        [42],\n",
              "        [52]])"
            ]
          },
          "metadata": {},
          "execution_count": 34
        }
      ]
    },
    {
      "cell_type": "code",
      "source": [
        "# yellow\n",
        "a[0,3:5]"
      ],
      "metadata": {
        "colab": {
          "base_uri": "https://localhost:8080/"
        },
        "id": "eLYDX5GP_5mx",
        "outputId": "5ad904aa-d970-4fbe-809c-5e77be2024fd"
      },
      "execution_count": null,
      "outputs": [
        {
          "output_type": "execute_result",
          "data": {
            "text/plain": [
              "tensor([3, 4])"
            ]
          },
          "metadata": {},
          "execution_count": 30
        }
      ]
    },
    {
      "cell_type": "code",
      "source": [
        "# blue\n",
        "a[-2:,-2:]"
      ],
      "metadata": {
        "colab": {
          "base_uri": "https://localhost:8080/"
        },
        "id": "SiT3wUSFAGoI",
        "outputId": "790f065d-42df-45e9-b26f-a661a7d09c94"
      },
      "execution_count": null,
      "outputs": [
        {
          "output_type": "execute_result",
          "data": {
            "text/plain": [
              "tensor([[44, 45],\n",
              "        [54, 55]])"
            ]
          },
          "metadata": {},
          "execution_count": 31
        }
      ]
    },
    {
      "cell_type": "markdown",
      "source": [
        "![image.png](data:image/png;base64,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)"
      ],
      "metadata": {
        "id": "466-R5drBZpq"
      }
    },
    {
      "cell_type": "code",
      "source": [
        "#blue-border\n",
        "a[2::2,::2]"
      ],
      "metadata": {
        "colab": {
          "base_uri": "https://localhost:8080/"
        },
        "id": "nvAMCjgaAjDA",
        "outputId": "4f7293ad-4fd6-4e5b-f649-a84663f9c22d"
      },
      "execution_count": null,
      "outputs": [
        {
          "output_type": "execute_result",
          "data": {
            "text/plain": [
              "tensor([[20, 22, 24],\n",
              "        [40, 42, 44]])"
            ]
          },
          "metadata": {},
          "execution_count": 32
        }
      ]
    },
    {
      "cell_type": "code",
      "source": [
        "# fancy indexing, to get diagonal\n",
        "# cordinates (indices) could be passed as lists as well.\n",
        "\n",
        "# To get the 2nd, 5th and 6th rows\n",
        "print(a[[1,4,5]])\n",
        "# To get 3rd columns\n",
        "print(a[:,[2]])\n",
        "# Note the difference\n",
        "print(a[:,2])\n",
        "# getting diagonal terms\n",
        "ind = [i for i in range(0,6)]\n",
        "print(ind)\n",
        "a[ind,ind]\n",
        "# Note : Make a habit of reshaping if you are not sure about the output shape."
      ],
      "metadata": {
        "colab": {
          "base_uri": "https://localhost:8080/"
        },
        "id": "DFD2ThncRkFE",
        "outputId": "142d4c6b-a35f-43b7-d8cb-586812e7f28f"
      },
      "execution_count": null,
      "outputs": [
        {
          "output_type": "stream",
          "name": "stdout",
          "text": [
            "tensor([[10, 11, 12, 13, 14, 15],\n",
            "        [40, 41, 42, 43, 44, 45],\n",
            "        [50, 51, 52, 53, 54, 55]])\n",
            "tensor([[ 2],\n",
            "        [12],\n",
            "        [22],\n",
            "        [32],\n",
            "        [42],\n",
            "        [52]])\n",
            "tensor([ 2, 12, 22, 32, 42, 52])\n",
            "[0, 1, 2, 3, 4, 5]\n"
          ]
        },
        {
          "output_type": "execute_result",
          "data": {
            "text/plain": [
              "tensor([ 0, 11, 22, 33, 44, 55])"
            ]
          },
          "metadata": {},
          "execution_count": 40
        }
      ]
    },
    {
      "cell_type": "markdown",
      "source": [
        "# Advanced --- Broadcasting!"
      ],
      "metadata": {
        "id": "ejmRjPtLWMM2"
      }
    },
    {
      "cell_type": "markdown",
      "source": [
        "The simplest broadcasting example occurs when an array and a scalar value are combined in an operation:\n",
        "\n"
      ],
      "metadata": {
        "id": "gN0dSUrZs6ri"
      }
    },
    {
      "cell_type": "markdown",
      "source": [
        "![image.png](data:image/png;base64,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)"
      ],
      "metadata": {
        "id": "b2QWngFAtLOM"
      }
    },
    {
      "cell_type": "code",
      "source": [
        "a = torch.tensor([1.0, 2.0, 3.0])\n",
        "b = 2.0\n",
        "print(a * b)\n",
        "\n",
        "# same as\n",
        "b = torch.tensor(b)\n",
        "print(b.shape,a.shape)\n",
        "b*a # remember the operations are elementwise, so shape should match! (done by copying - not in memory tho)"
      ],
      "metadata": {
        "colab": {
          "base_uri": "https://localhost:8080/"
        },
        "id": "n4WuI8WPWScT",
        "outputId": "dc99c5a1-c951-488b-9bea-b8e61931c1ff"
      },
      "execution_count": null,
      "outputs": [
        {
          "output_type": "stream",
          "name": "stdout",
          "text": [
            "tensor([2., 4., 6.])\n",
            "torch.Size([]) torch.Size([3])\n"
          ]
        },
        {
          "output_type": "execute_result",
          "data": {
            "text/plain": [
              "tensor([2., 4., 6.])"
            ]
          },
          "metadata": {},
          "execution_count": 44
        }
      ]
    },
    {
      "cell_type": "markdown",
      "source": [
        "When operating on two arrays, NumPy compares their shapes element-wise. It starts with the trailing (i.e. rightmost) dimension and works its way left. Two dimensions are compatible when\n",
        "\n",
        "* they are equal, or\n",
        "\n",
        "* one of them is 1\n",
        "\n",
        "Note that missing dimensions are assumed to have size one. The resulting array will have the same number of dimensions as the input array with the greatest number of dimensions, where the size of each dimension is the largest size of the corresponding dimension among the input arrays\n"
      ],
      "metadata": {
        "id": "jyRTQed7uuOQ"
      }
    },
    {
      "cell_type": "code",
      "source": [
        "a = torch.tensor([[1,2,3],[4,5,6]])\n",
        "b = torch.tensor([[[1],[2]],[[3],[4]]])\n",
        "print(a.shape)\n",
        "print(b.shape)"
      ],
      "metadata": {
        "colab": {
          "base_uri": "https://localhost:8080/"
        },
        "id": "6acMBhjnttE3",
        "outputId": "abecab0c-d655-42c1-e570-07af04597e8d"
      },
      "execution_count": null,
      "outputs": [
        {
          "output_type": "stream",
          "name": "stdout",
          "text": [
            "torch.Size([2, 3])\n",
            "torch.Size([2, 2, 1])\n"
          ]
        }
      ]
    },
    {
      "cell_type": "code",
      "source": [
        "# We can perfrom the \"+\" operation\n",
        "\n",
        "# a shape : [1,2,3]\n",
        "# b shape : [2,2,1]\n",
        "\n",
        "# both satisfy the broadcasting criteria\n",
        "\n",
        "# first, reshape a by adding extra dimension\n",
        "\n",
        "print(\"changes made to a ...\")\n",
        "print(a)\n",
        "x = a.view(1,2,3)\n",
        "print(\"...\")\n",
        "print(x)\n",
        "print(\"...\")\n",
        "x = torch.concat([x,x],axis = 0)\n",
        "print(x)\n",
        "\n",
        "print(\"changes made to b ...\")\n",
        "print(b)\n",
        "print(\"...\")\n",
        "y = torch.concat([b,b,b],axis = 2)\n",
        "print(y)\n",
        "print(\"...\")\n",
        "\n"
      ],
      "metadata": {
        "colab": {
          "base_uri": "https://localhost:8080/"
        },
        "id": "zAqqPYnNvXtw",
        "outputId": "ed8e8ed5-c191-4c29-cbd5-b70a7b7038c8"
      },
      "execution_count": null,
      "outputs": [
        {
          "output_type": "stream",
          "name": "stdout",
          "text": [
            "changes made to a ...\n",
            "tensor([[1, 2, 3],\n",
            "        [4, 5, 6]])\n",
            "...\n",
            "tensor([[[1, 2, 3],\n",
            "         [4, 5, 6]]])\n",
            "...\n",
            "tensor([[[1, 2, 3],\n",
            "         [4, 5, 6]],\n",
            "\n",
            "        [[1, 2, 3],\n",
            "         [4, 5, 6]]])\n",
            "changes made to b ...\n",
            "tensor([[[1],\n",
            "         [2]],\n",
            "\n",
            "        [[3],\n",
            "         [4]]])\n",
            "...\n",
            "tensor([[[1, 1, 1],\n",
            "         [2, 2, 2]],\n",
            "\n",
            "        [[3, 3, 3],\n",
            "         [4, 4, 4]]])\n",
            "...\n"
          ]
        }
      ]
    },
    {
      "cell_type": "code",
      "source": [
        "print(x + y)\n",
        "print(a+b)\n",
        "(x+y == a+b).all() # same matrices\n",
        "\n",
        "print(a*b) # element-wise"
      ],
      "metadata": {
        "colab": {
          "base_uri": "https://localhost:8080/"
        },
        "id": "IRHbOJliw3xY",
        "outputId": "4a6a1c2a-1b26-4ac9-d6c9-667ac5e389c9"
      },
      "execution_count": null,
      "outputs": [
        {
          "output_type": "stream",
          "name": "stdout",
          "text": [
            "tensor([[[ 2,  3,  4],\n",
            "         [ 6,  7,  8]],\n",
            "\n",
            "        [[ 4,  5,  6],\n",
            "         [ 8,  9, 10]]])\n",
            "tensor([[[ 2,  3,  4],\n",
            "         [ 6,  7,  8]],\n",
            "\n",
            "        [[ 4,  5,  6],\n",
            "         [ 8,  9, 10]]])\n",
            "tensor([[[ 1,  2,  3],\n",
            "         [ 8, 10, 12]],\n",
            "\n",
            "        [[ 3,  6,  9],\n",
            "         [16, 20, 24]]])\n"
          ]
        }
      ]
    },
    {
      "cell_type": "markdown",
      "source": [
        "## Exercise 2."
      ],
      "metadata": {
        "id": "uUQfJKEsxz9g"
      }
    },
    {
      "cell_type": "markdown",
      "source": [
        "1. Do min-max scaling using broadcasting"
      ],
      "metadata": {
        "id": "W69FwiY01Tmt"
      }
    },
    {
      "cell_type": "code",
      "source": [
        "X = torch.tensor([[1,2,3],[4,3,5],[12,12,3],[2,4,1],[1,2,4],[4,12,5]])\n",
        "print(X)\n",
        "m = X.min(axis=0).values\n",
        "print(m)\n",
        "M = X.max(axis=0).values\n",
        "print(M)\n",
        "(X-m)/(M-m)\n",
        "# So simple!"
      ],
      "metadata": {
        "colab": {
          "base_uri": "https://localhost:8080/"
        },
        "id": "gPsk8IHYxUQ9",
        "outputId": "15e6e9de-1cc1-4340-bbc2-f00e426cb290"
      },
      "execution_count": null,
      "outputs": [
        {
          "output_type": "stream",
          "name": "stdout",
          "text": [
            "tensor([[ 1,  2,  3],\n",
            "        [ 4,  3,  5],\n",
            "        [12, 12,  3],\n",
            "        [ 2,  4,  1],\n",
            "        [ 1,  2,  4],\n",
            "        [ 4, 12,  5]])\n",
            "tensor([1, 2, 1])\n",
            "tensor([12, 12,  5])\n"
          ]
        },
        {
          "output_type": "execute_result",
          "data": {
            "text/plain": [
              "tensor([[0.0000, 0.0000, 0.5000],\n",
              "        [0.2727, 0.1000, 1.0000],\n",
              "        [1.0000, 1.0000, 0.5000],\n",
              "        [0.0909, 0.2000, 0.0000],\n",
              "        [0.0000, 0.0000, 0.7500],\n",
              "        [0.2727, 1.0000, 1.0000]])"
            ]
          },
          "metadata": {},
          "execution_count": 3
        }
      ]
    },
    {
      "cell_type": "markdown",
      "source": [
        "2. Create the same array using broadcasting"
      ],
      "metadata": {
        "id": "kUYPKhvUzyjw"
      }
    },
    {
      "cell_type": "markdown",
      "source": [
        "![image.png](data:image/png;base64,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)"
      ],
      "metadata": {
        "id": "7dZo4j8dzrE2"
      }
    },
    {
      "cell_type": "code",
      "source": [
        "x = torch.arange(0,6) # shape is (6)\n",
        "a = x.view(1,-1)# shape is (1,6)\n",
        "b = 10*x.view(-1,1) # shape is (6,1)\n",
        "a + b"
      ],
      "metadata": {
        "colab": {
          "base_uri": "https://localhost:8080/"
        },
        "id": "GDvR4Vq6zlS_",
        "outputId": "6210e5f4-004c-46dc-e35a-e1b4af7542af"
      },
      "execution_count": null,
      "outputs": [
        {
          "output_type": "execute_result",
          "data": {
            "text/plain": [
              "tensor([[ 0,  1,  2,  3,  4,  5],\n",
              "        [10, 11, 12, 13, 14, 15],\n",
              "        [20, 21, 22, 23, 24, 25],\n",
              "        [30, 31, 32, 33, 34, 35],\n",
              "        [40, 41, 42, 43, 44, 45],\n",
              "        [50, 51, 52, 53, 54, 55]])"
            ]
          },
          "metadata": {},
          "execution_count": 4
        }
      ]
    },
    {
      "cell_type": "code",
      "source": [
        "a = torch.ones(5)\n",
        "b = a.view(-1,1)\n",
        "print((a+ b)/2)\n",
        "# same as\n",
        "torch.ones((5,5))"
      ],
      "metadata": {
        "colab": {
          "base_uri": "https://localhost:8080/"
        },
        "id": "w_aYvIvrplv8",
        "outputId": "d5827a30-3e4a-46d4-efed-4027ea191662"
      },
      "execution_count": null,
      "outputs": [
        {
          "output_type": "stream",
          "name": "stdout",
          "text": [
            "tensor([[1., 1., 1., 1., 1.],\n",
            "        [1., 1., 1., 1., 1.],\n",
            "        [1., 1., 1., 1., 1.],\n",
            "        [1., 1., 1., 1., 1.],\n",
            "        [1., 1., 1., 1., 1.]])\n"
          ]
        },
        {
          "output_type": "execute_result",
          "data": {
            "text/plain": [
              "tensor([[1., 1., 1., 1., 1.],\n",
              "        [1., 1., 1., 1., 1.],\n",
              "        [1., 1., 1., 1., 1.],\n",
              "        [1., 1., 1., 1., 1.],\n",
              "        [1., 1., 1., 1., 1.]])"
            ]
          },
          "metadata": {},
          "execution_count": 55
        }
      ]
    },
    {
      "cell_type": "markdown",
      "source": [
        "# Some more stuff"
      ],
      "metadata": {
        "id": "Zc9xRYQJvTVt"
      }
    },
    {
      "cell_type": "code",
      "source": [
        "# Matrix multiplication\n",
        "A = torch.tensor([[1,2,3],[4,5,6]]) #2x3\n",
        "B = torch.tensor([[1],[0],[3]])  # 3x1\n",
        "A@B # 2x1"
      ],
      "metadata": {
        "colab": {
          "base_uri": "https://localhost:8080/"
        },
        "id": "OuvTc24aD5Hz",
        "outputId": "89d3cd5a-747d-46c8-82df-e476e311664f"
      },
      "execution_count": null,
      "outputs": [
        {
          "output_type": "execute_result",
          "data": {
            "text/plain": [
              "tensor([[10],\n",
              "        [22]])"
            ]
          },
          "metadata": {},
          "execution_count": 5
        }
      ]
    },
    {
      "cell_type": "code",
      "source": [
        "# 2d with 1d will do the operation but will return 1d (row, column vector wont be distinct in shape)\n",
        "A = torch.tensor([[1,2,3],[4,5,6]]) #2x3\n",
        "B = torch.tensor([1,0,3]) # 3\n",
        "C = torch.tensor([1,2]) # 2\n",
        "print(A@B)\n",
        "print(C@A)\n",
        "# same as\n",
        "C.view(1,-1)@A # but this is in 2d"
      ],
      "metadata": {
        "colab": {
          "base_uri": "https://localhost:8080/"
        },
        "id": "BrLzfiu6Eqt4",
        "outputId": "8c911641-4a31-4887-fdaa-1956fedc2eb8"
      },
      "execution_count": null,
      "outputs": [
        {
          "output_type": "stream",
          "name": "stdout",
          "text": [
            "tensor([10, 22])\n",
            "tensor([ 9, 12, 15])\n"
          ]
        },
        {
          "output_type": "execute_result",
          "data": {
            "text/plain": [
              "tensor([[ 9, 12, 15]])"
            ]
          },
          "metadata": {},
          "execution_count": 6
        }
      ]
    },
    {
      "cell_type": "code",
      "source": [
        "# determinant\n",
        "A = torch.tensor([[1.,3,5],[2,2,1],[1,0,3]])\n",
        "print(torch.linalg.det(A)) # returns only the value (in built method)\n",
        "\n",
        "\n",
        "# A Good exercise would be to do it manually!\n",
        "# det(A) = sum (-1)^(j) det(M0j)\n",
        "\n",
        "def det(A):\n",
        "  if list(A.shape) == [1,1]:\n",
        "    return A\n",
        "  else:\n",
        "    d = 0\n",
        "    for j in range(A.shape[-1]):\n",
        "           M = torch.concat([A[1:,:j],A[1:,j+1:]],dim=1)\n",
        "           d = d + ((-1)**j)*A[0,j]*det(M)\n",
        "\n",
        "  return d\n",
        "\n",
        "print(det(A))\n",
        "\n"
      ],
      "metadata": {
        "colab": {
          "base_uri": "https://localhost:8080/"
        },
        "id": "v0WAjP0UFklT",
        "outputId": "f289b433-1720-4d6c-ab2a-3675cdc6aa23"
      },
      "execution_count": null,
      "outputs": [
        {
          "output_type": "stream",
          "name": "stdout",
          "text": [
            "tensor(-19.)\n",
            "tensor([[-19.]])\n"
          ]
        }
      ]
    },
    {
      "cell_type": "markdown",
      "source": [
        "# Deep learning Tutorial\n",
        "\n",
        "* We should have some understanding of how the neural net functions operate under the hood.\n",
        "\n",
        "* First we will do  all the computations just using tensors for simple networks.\n",
        "\n",
        "* Then we should be able to implement more clever ideas using our nets.\n",
        "\n",
        "\n",
        "\n"
      ],
      "metadata": {
        "id": "7TUzVtu3tzpx"
      }
    },
    {
      "cell_type": "markdown",
      "source": [
        "\n"
      ],
      "metadata": {
        "id": "FMPewaPD0MEE"
      }
    },
    {
      "cell_type": "markdown",
      "source": [
        "A simple linear transformation :\n",
        "\n",
        " A linear transformation is given by  $y = Ax$. Let $x \\in R^{10}$ and $y \\in R^5$. Then the shape of the matrix A should be (5,10)"
      ],
      "metadata": {
        "id": "TEwqohVqvS6f"
      }
    },
    {
      "cell_type": "code",
      "source": [
        "# y = Ax\n",
        "x = torch.tensor([1,2,3,4,5,6,7,8,9,10]).view(-1,1) # as  a column\n",
        "A = torch.randint(0,2,(5,10))\n",
        "y = A@x\n",
        "print(x, A, y)"
      ],
      "metadata": {
        "id": "XhgK4T47tywJ",
        "colab": {
          "base_uri": "https://localhost:8080/"
        },
        "outputId": "c497a37b-196a-41b4-d917-8bbd6f4ccdc5"
      },
      "execution_count": null,
      "outputs": [
        {
          "output_type": "stream",
          "name": "stdout",
          "text": [
            "tensor([[ 1],\n",
            "        [ 2],\n",
            "        [ 3],\n",
            "        [ 4],\n",
            "        [ 5],\n",
            "        [ 6],\n",
            "        [ 7],\n",
            "        [ 8],\n",
            "        [ 9],\n",
            "        [10]]) tensor([[0, 1, 1, 0, 0, 0, 0, 1, 1, 1],\n",
            "        [1, 0, 1, 1, 1, 0, 0, 1, 0, 1],\n",
            "        [1, 0, 1, 1, 1, 0, 0, 1, 0, 0],\n",
            "        [0, 0, 0, 0, 0, 0, 1, 1, 0, 0],\n",
            "        [0, 1, 0, 0, 1, 1, 0, 0, 0, 0]]) tensor([[32],\n",
            "        [31],\n",
            "        [21],\n",
            "        [15],\n",
            "        [13]])\n"
          ]
        }
      ]
    },
    {
      "cell_type": "markdown",
      "source": [
        "Neural networks requires compution done in batches (Not one input at a time).\n",
        "\n",
        "Therfore, the same transformation could be written as\n",
        "\n",
        "$Y = XA^T$\n",
        "\n",
        "where X is of shape (n,10), A of shape (5,10) and Y of shape(n,5). n is the number of samples. $X = [x_1,x_2, ...x_n]^T $\n",
        "\n",
        "\n",
        "\n",
        "\n",
        "\n"
      ],
      "metadata": {
        "id": "9xQq5LOkCaJv"
      }
    },
    {
      "cell_type": "code",
      "source": [
        "n = 10\n",
        "x = x.view(1,-1)\n",
        "X = torch.concat([x]*n, axis = 0)  # batch of copies of same instance\n",
        "Y = X@A.T\n",
        "print(Y) # per row\n",
        "\n",
        "\n"
      ],
      "metadata": {
        "colab": {
          "base_uri": "https://localhost:8080/"
        },
        "id": "rKOb7I4oDkJL",
        "outputId": "734ce0b1-e830-4c6a-aaa3-666de21826f1"
      },
      "execution_count": null,
      "outputs": [
        {
          "output_type": "stream",
          "name": "stdout",
          "text": [
            "tensor([[32, 31, 21, 15, 13],\n",
            "        [32, 31, 21, 15, 13],\n",
            "        [32, 31, 21, 15, 13],\n",
            "        [32, 31, 21, 15, 13],\n",
            "        [32, 31, 21, 15, 13],\n",
            "        [32, 31, 21, 15, 13],\n",
            "        [32, 31, 21, 15, 13],\n",
            "        [32, 31, 21, 15, 13],\n",
            "        [32, 31, 21, 15, 13],\n",
            "        [32, 31, 21, 15, 13]])\n"
          ]
        }
      ]
    },
    {
      "cell_type": "code",
      "source": [
        "# Now, lets try y = Ax + b  (let broadcasting takes care of it)\n",
        "b = torch.tensor([1,2,3,4,5])\n",
        "Y= X@A.T + b\n",
        "print(Y)"
      ],
      "metadata": {
        "colab": {
          "base_uri": "https://localhost:8080/"
        },
        "id": "MjsQX7teF3k7",
        "outputId": "3acbc5c3-e019-445b-dd96-a4e785f88492"
      },
      "execution_count": null,
      "outputs": [
        {
          "output_type": "stream",
          "name": "stdout",
          "text": [
            "tensor([[33, 33, 24, 19, 18],\n",
            "        [33, 33, 24, 19, 18],\n",
            "        [33, 33, 24, 19, 18],\n",
            "        [33, 33, 24, 19, 18],\n",
            "        [33, 33, 24, 19, 18],\n",
            "        [33, 33, 24, 19, 18],\n",
            "        [33, 33, 24, 19, 18],\n",
            "        [33, 33, 24, 19, 18],\n",
            "        [33, 33, 24, 19, 18],\n",
            "        [33, 33, 24, 19, 18]])\n"
          ]
        }
      ]
    },
    {
      "cell_type": "code",
      "source": [
        "# A neural network Layer Transform :   Have a horizontal view (data points are row vectors)\n",
        "# Example of a soft-max operation\n",
        "\n",
        "in_dim = 10\n",
        "X = torch.rand(4,in_dim)  # 4 rows 10 features\n",
        "out_dim = 5\n",
        "W = torch.rand(in_dim,out_dim)\n",
        "b = torch.rand(out_dim)\n",
        "Z = X@W + b # broadcasting does the trick:  shape(4,5) + shape(5) ->  shape(4,5) + shape(1,5) -> shape(4,5) + shape(5,5) # creates copy of b per row and then\n",
        "Z = torch.exp(Z) # element wise exp  (4,5)\n",
        "print(Z.shape)\n",
        "s = Z.sum(axis=1).view(-1,1) # Reshaping is important otherwise in certain cases, broadcasting may result in undesired results\n",
        "print(s.shape)\n",
        "softmax_out = Z/s   # shape(4,5)/shape(4,1) -> shape(4,5)/shape(4,5) copying along 1 dim.\n",
        "print(softmax_out)\n",
        "print(\"all rows sum upto 1 (as it should be)\")\n",
        "softmax_out.sum(axis=1)\n"
      ],
      "metadata": {
        "colab": {
          "base_uri": "https://localhost:8080/"
        },
        "id": "rGX7Qs4nGmjc",
        "outputId": "dc7ca047-9ddf-4cb2-a64a-e18d9e040550"
      },
      "execution_count": null,
      "outputs": [
        {
          "output_type": "stream",
          "name": "stdout",
          "text": [
            "torch.Size([4, 5])\n",
            "torch.Size([4, 1])\n",
            "tensor([[0.0703, 0.2162, 0.1158, 0.1660, 0.4317],\n",
            "        [0.0694, 0.1889, 0.1751, 0.1509, 0.4156],\n",
            "        [0.0590, 0.2528, 0.1850, 0.0962, 0.4070],\n",
            "        [0.0397, 0.3259, 0.1256, 0.1421, 0.3667]])\n",
            "all rows sum upto 1 (as it should be)\n"
          ]
        },
        {
          "output_type": "execute_result",
          "data": {
            "text/plain": [
              "tensor([1.0000, 1.0000, 1.0000, 1.0000])"
            ]
          },
          "metadata": {},
          "execution_count": 32
        }
      ]
    },
    {
      "cell_type": "markdown",
      "source": [
        "# Basic models using pytorch"
      ],
      "metadata": {
        "id": "CO3q-uUzu5fk"
      }
    },
    {
      "cell_type": "code",
      "source": [
        "import torch\n",
        "import torch.nn as nn\n"
      ],
      "metadata": {
        "id": "xmKJBYbKvr76"
      },
      "execution_count": null,
      "outputs": []
    },
    {
      "cell_type": "markdown",
      "source": [
        "1. Linear/logistic regression"
      ],
      "metadata": {
        "id": "-oBAshCQvHtx"
      }
    },
    {
      "cell_type": "code",
      "source": [
        "# First use randn to genetate some data\n",
        "X = torch.normal(0, 3, size=(100, 4))\n",
        "W = torch.tensor([1.0,2,4,1])\n",
        "b = torch.ones(100)\n",
        "Y =  X @ W  + b\n",
        "print(Y.shape)\n"
      ],
      "metadata": {
        "id": "qZL5ScuYj6y7",
        "colab": {
          "base_uri": "https://localhost:8080/"
        },
        "outputId": "6673f8d7-c3f1-4c4f-9187-03cf55c54290"
      },
      "execution_count": null,
      "outputs": [
        {
          "output_type": "stream",
          "name": "stdout",
          "text": [
            "torch.Size([100])\n"
          ]
        }
      ]
    },
    {
      "cell_type": "code",
      "source": [
        "T = torch.normal(0,1,(4,))\n",
        "c = torch.tensor(0.0)\n",
        "params = [T,c]\n",
        "for p in params:\n",
        "    p.requires_grad=True\n",
        "\n",
        "learning_rate = 1e-3\n",
        "\n",
        "criterion = nn.MSELoss()\n",
        "optimizer = torch.optim.SGD(params,lr = learning_rate)"
      ],
      "metadata": {
        "id": "PucmpkmL7Tg4"
      },
      "execution_count": null,
      "outputs": []
    },
    {
      "cell_type": "code",
      "source": [
        "\n",
        "for steps in range(10000):\n",
        "  Y_pred = X@T + c\n",
        "  loss = criterion(Y,Y_pred)\n",
        "  optimizer.zero_grad()\n",
        "  loss.backward()\n",
        "  optimizer.step()\n",
        "print(loss.item())\n",
        "\n",
        "\n",
        "\n",
        "\n"
      ],
      "metadata": {
        "colab": {
          "base_uri": "https://localhost:8080/"
        },
        "id": "Lx_6-CI-8YEn",
        "outputId": "01e6329f-4c37-43ce-edd0-542e85a037ac"
      },
      "execution_count": null,
      "outputs": [
        {
          "output_type": "stream",
          "name": "stdout",
          "text": [
            "1.8584244143582396e-09\n"
          ]
        }
      ]
    },
    {
      "cell_type": "code",
      "source": [
        "T,c"
      ],
      "metadata": {
        "colab": {
          "base_uri": "https://localhost:8080/"
        },
        "id": "K1OUkTj98qAJ",
        "outputId": "c1b1520c-a4cb-4ae7-a2c9-f9d5158e582f"
      },
      "execution_count": null,
      "outputs": [
        {
          "output_type": "execute_result",
          "data": {
            "text/plain": [
              "(tensor([1.0000, 2.0000, 4.0000, 1.0000], requires_grad=True),\n",
              " tensor(1.0000, requires_grad=True))"
            ]
          },
          "metadata": {},
          "execution_count": 39
        }
      ]
    },
    {
      "cell_type": "code",
      "source": [
        "# more modular apporach\n",
        "criterion = nn.MSELoss()\n",
        "class Linear_Regression(nn.Module):\n",
        "   def __init__(self, in_feat):\n",
        "    super().__init__() # call\n",
        "    self.out = nn.Linear(in_feat,1) # this is going to be the name\n",
        "   def forward(self,x,y=None):\n",
        "      x = self.out(x)\n",
        "      if y is None:\n",
        "        return x\n",
        "      y = y.view(-1,1)\n",
        "      return criterion(x,y) # retun the loss or return the value, depends on the use\n",
        "\n"
      ],
      "metadata": {
        "id": "CelEc4jv90nk"
      },
      "execution_count": null,
      "outputs": []
    },
    {
      "cell_type": "code",
      "source": [
        "model = Linear_Regression(4)\n",
        "optimizer = torch.optim.SGD(model.parameters(),lr = learning_rate)\n",
        "\n",
        "for steps in range(10000):\n",
        "  optimizer.zero_grad()\n",
        "  loss = model(X,Y)\n",
        "  loss.backward()\n",
        "  optimizer.step()  # Y_pred = 100\n",
        "print(loss.item())\n",
        "\n"
      ],
      "metadata": {
        "colab": {
          "base_uri": "https://localhost:8080/"
        },
        "id": "wQ0ctm1xAHIU",
        "outputId": "3170e785-7d81-4827-da22-5cb9e7a0f1fe"
      },
      "execution_count": null,
      "outputs": [
        {
          "output_type": "stream",
          "name": "stdout",
          "text": [
            "1.8584244143582396e-09\n"
          ]
        }
      ]
    },
    {
      "cell_type": "code",
      "source": [
        "for name,i in model.named_parameters():\n",
        "  print(name, i)"
      ],
      "metadata": {
        "colab": {
          "base_uri": "https://localhost:8080/"
        },
        "id": "Fcnqxj7XBWzW",
        "outputId": "3e4e164a-af1c-41bb-b362-a35b3d8f6f31"
      },
      "execution_count": null,
      "outputs": [
        {
          "output_type": "stream",
          "name": "stdout",
          "text": [
            "out.weight Parameter containing:\n",
            "tensor([[1.0000, 2.0000, 4.0000, 1.0000]], requires_grad=True)\n",
            "out.bias Parameter containing:\n",
            "tensor([1.0000], requires_grad=True)\n"
          ]
        }
      ]
    },
    {
      "cell_type": "code",
      "source": [
        "# same problem logistic regression\n",
        "Y[Y>0] = 1\n",
        "Y[Y<=0] = 0"
      ],
      "metadata": {
        "id": "dW7YmAXaELxt"
      },
      "execution_count": null,
      "outputs": []
    },
    {
      "cell_type": "code",
      "source": [
        "criterion = nn.BCELoss()\n",
        "\n",
        "class Logistic_Regression(nn.Module):\n",
        "   def __init__(self, in_feat):\n",
        "    super().__init__() # call\n",
        "    self.out = nn.Linear(in_feat,1) # this is going to be the name\n",
        "   def forward(self,x,y=None):\n",
        "      x = self.out(x)\n",
        "      x = torch.sigmoid(x)\n",
        "\n",
        "      if y is None:\n",
        "        return x\n",
        "      y = y.view(-1,1)\n",
        "      return criterion(x,y)\n"
      ],
      "metadata": {
        "id": "Kidca58VEYHC"
      },
      "execution_count": null,
      "outputs": []
    },
    {
      "cell_type": "code",
      "source": [
        "model = Logistic_Regression(4)\n",
        "optimizer = torch.optim.Adam(model.parameters(),lr = learning_rate)\n",
        "\n"
      ],
      "metadata": {
        "id": "REQSl8A2JVXo"
      },
      "execution_count": null,
      "outputs": []
    },
    {
      "cell_type": "code",
      "source": [
        "for steps in range(10000):\n",
        "  optimizer.zero_grad()\n",
        "  loss = model(X,Y)\n",
        "  loss.backward()\n",
        "  optimizer.step()  # Y_pred = 100\n",
        "print(loss.item())\n",
        "\n",
        "\n",
        "for name,i in model.named_parameters():\n",
        "  print(name, i)"
      ],
      "metadata": {
        "colab": {
          "base_uri": "https://localhost:8080/"
        },
        "id": "lC_fOmUBMnG7",
        "outputId": "3108290d-f505-483f-be00-8e53a80d7bfc"
      },
      "execution_count": null,
      "outputs": [
        {
          "output_type": "stream",
          "name": "stdout",
          "text": [
            "0.04107170179486275\n",
            "out.weight Parameter containing:\n",
            "tensor([[0.8806, 2.0733, 3.8179, 1.2942]], requires_grad=True)\n",
            "out.bias Parameter containing:\n",
            "tensor([1.8413], requires_grad=True)\n"
          ]
        }
      ]
    },
    {
      "cell_type": "markdown",
      "source": [
        "# Notes on gradient decsent"
      ],
      "metadata": {
        "id": "qBRMykI2HwaQ"
      }
    },
    {
      "cell_type": "code",
      "source": [
        "a = torch.tensor([1.0,2,3],requires_grad=True)\n",
        "y = torch.dot(a,a)\n",
        "print(y)\n",
        "# y is part of the computational graph\n",
        "y.backward()\n",
        "a.grad"
      ],
      "metadata": {
        "id": "z5Cz_N0L_fGF",
        "colab": {
          "base_uri": "https://localhost:8080/"
        },
        "outputId": "abd1b3d8-3ac8-492e-a112-9caf97634c75"
      },
      "execution_count": null,
      "outputs": [
        {
          "output_type": "stream",
          "name": "stdout",
          "text": [
            "tensor(14., grad_fn=<DotBackward0>)\n"
          ]
        },
        {
          "output_type": "execute_result",
          "data": {
            "text/plain": [
              "tensor([2., 4., 6.])"
            ]
          },
          "metadata": {},
          "execution_count": 21
        }
      ]
    },
    {
      "cell_type": "markdown",
      "source": [
        "Note : cant use the same y tensor, once backwards is called."
      ],
      "metadata": {
        "id": "1TWIdhCBGBAG"
      }
    },
    {
      "cell_type": "code",
      "source": [
        "# grad descent\n",
        "a = torch.tensor([0.3,0.2,3],requires_grad=True)\n",
        "\n",
        "def f(a):\n",
        "  return torch.matmul(a,a)\n",
        "\n",
        "for i in range(100):\n",
        "  f(a).backward() # calculate gradient\n",
        "  with torch.no_grad():\n",
        "      a -=  0.1*a.grad  # (some leaf variable error o.w)\n",
        "  print(a)\n",
        "  a.grad.zero_() # resets the gradient\n",
        "\n"
      ],
      "metadata": {
        "colab": {
          "base_uri": "https://localhost:8080/"
        },
        "id": "W01vatPrAWO0",
        "outputId": "e9603122-ba32-4aa2-ac3b-6f35374a68d4"
      },
      "execution_count": null,
      "outputs": [
        {
          "output_type": "stream",
          "name": "stdout",
          "text": [
            "tensor([0.2400, 0.1600, 2.4000], requires_grad=True)\n",
            "tensor([0.1920, 0.1280, 1.9200], requires_grad=True)\n",
            "tensor([0.1536, 0.1024, 1.5360], requires_grad=True)\n",
            "tensor([0.1229, 0.0819, 1.2288], requires_grad=True)\n",
            "tensor([0.0983, 0.0655, 0.9830], requires_grad=True)\n",
            "tensor([0.0786, 0.0524, 0.7864], requires_grad=True)\n",
            "tensor([0.0629, 0.0419, 0.6291], requires_grad=True)\n",
            "tensor([0.0503, 0.0336, 0.5033], requires_grad=True)\n",
            "tensor([0.0403, 0.0268, 0.4027], requires_grad=True)\n",
            "tensor([0.0322, 0.0215, 0.3221], requires_grad=True)\n",
            "tensor([0.0258, 0.0172, 0.2577], requires_grad=True)\n",
            "tensor([0.0206, 0.0137, 0.2062], requires_grad=True)\n",
            "tensor([0.0165, 0.0110, 0.1649], requires_grad=True)\n",
            "tensor([0.0132, 0.0088, 0.1319], requires_grad=True)\n",
            "tensor([0.0106, 0.0070, 0.1056], requires_grad=True)\n",
            "tensor([0.0084, 0.0056, 0.0844], requires_grad=True)\n",
            "tensor([0.0068, 0.0045, 0.0676], requires_grad=True)\n",
            "tensor([0.0054, 0.0036, 0.0540], requires_grad=True)\n",
            "tensor([0.0043, 0.0029, 0.0432], requires_grad=True)\n",
            "tensor([0.0035, 0.0023, 0.0346], requires_grad=True)\n",
            "tensor([0.0028, 0.0018, 0.0277], requires_grad=True)\n",
            "tensor([0.0022, 0.0015, 0.0221], requires_grad=True)\n",
            "tensor([0.0018, 0.0012, 0.0177], requires_grad=True)\n",
            "tensor([0.0014, 0.0009, 0.0142], requires_grad=True)\n",
            "tensor([0.0011, 0.0008, 0.0113], requires_grad=True)\n",
            "tensor([0.0009, 0.0006, 0.0091], requires_grad=True)\n",
            "tensor([0.0007, 0.0005, 0.0073], requires_grad=True)\n",
            "tensor([0.0006, 0.0004, 0.0058], requires_grad=True)\n",
            "tensor([0.0005, 0.0003, 0.0046], requires_grad=True)\n",
            "tensor([0.0004, 0.0002, 0.0037], requires_grad=True)\n",
            "tensor([0.0003, 0.0002, 0.0030], requires_grad=True)\n",
            "tensor([0.0002, 0.0002, 0.0024], requires_grad=True)\n",
            "tensor([0.0002, 0.0001, 0.0019], requires_grad=True)\n",
            "tensor([0.0002, 0.0001, 0.0015], requires_grad=True)\n",
            "tensor([1.2169e-04, 8.1130e-05, 1.2169e-03], requires_grad=True)\n",
            "tensor([9.7356e-05, 6.4904e-05, 9.7356e-04], requires_grad=True)\n",
            "tensor([7.7884e-05, 5.1923e-05, 7.7884e-04], requires_grad=True)\n",
            "tensor([6.2308e-05, 4.1538e-05, 6.2308e-04], requires_grad=True)\n",
            "tensor([4.9846e-05, 3.3231e-05, 4.9846e-04], requires_grad=True)\n",
            "tensor([3.9877e-05, 2.6585e-05, 3.9877e-04], requires_grad=True)\n",
            "tensor([3.1901e-05, 2.1268e-05, 3.1901e-04], requires_grad=True)\n",
            "tensor([2.5521e-05, 1.7014e-05, 2.5521e-04], requires_grad=True)\n",
            "tensor([2.0417e-05, 1.3611e-05, 2.0417e-04], requires_grad=True)\n",
            "tensor([1.6334e-05, 1.0889e-05, 1.6334e-04], requires_grad=True)\n",
            "tensor([1.3067e-05, 8.7112e-06, 1.3067e-04], requires_grad=True)\n",
            "tensor([1.0453e-05, 6.9690e-06, 1.0453e-04], requires_grad=True)\n",
            "tensor([8.3628e-06, 5.5752e-06, 8.3628e-05], requires_grad=True)\n",
            "tensor([6.6902e-06, 4.4601e-06, 6.6902e-05], requires_grad=True)\n",
            "tensor([5.3522e-06, 3.5681e-06, 5.3522e-05], requires_grad=True)\n",
            "tensor([4.2817e-06, 2.8545e-06, 4.2817e-05], requires_grad=True)\n",
            "tensor([3.4254e-06, 2.2836e-06, 3.4254e-05], requires_grad=True)\n",
            "tensor([2.7403e-06, 1.8269e-06, 2.7403e-05], requires_grad=True)\n",
            "tensor([2.1923e-06, 1.4615e-06, 2.1923e-05], requires_grad=True)\n",
            "tensor([1.7538e-06, 1.1692e-06, 1.7538e-05], requires_grad=True)\n",
            "tensor([1.4030e-06, 9.3536e-07, 1.4030e-05], requires_grad=True)\n",
            "tensor([1.1224e-06, 7.4829e-07, 1.1224e-05], requires_grad=True)\n",
            "tensor([8.9795e-07, 5.9863e-07, 8.9795e-06], requires_grad=True)\n",
            "tensor([7.1836e-07, 4.7891e-07, 7.1836e-06], requires_grad=True)\n",
            "tensor([5.7469e-07, 3.8312e-07, 5.7469e-06], requires_grad=True)\n",
            "tensor([4.5975e-07, 3.0650e-07, 4.5975e-06], requires_grad=True)\n",
            "tensor([3.6780e-07, 2.4520e-07, 3.6780e-06], requires_grad=True)\n",
            "tensor([2.9424e-07, 1.9616e-07, 2.9424e-06], requires_grad=True)\n",
            "tensor([2.3539e-07, 1.5693e-07, 2.3539e-06], requires_grad=True)\n",
            "tensor([1.8831e-07, 1.2554e-07, 1.8831e-06], requires_grad=True)\n",
            "tensor([1.5065e-07, 1.0043e-07, 1.5065e-06], requires_grad=True)\n",
            "tensor([1.2052e-07, 8.0347e-08, 1.2052e-06], requires_grad=True)\n",
            "tensor([9.6416e-08, 6.4278e-08, 9.6416e-07], requires_grad=True)\n",
            "tensor([7.7133e-08, 5.1422e-08, 7.7133e-07], requires_grad=True)\n",
            "tensor([6.1706e-08, 4.1138e-08, 6.1706e-07], requires_grad=True)\n",
            "tensor([4.9365e-08, 3.2910e-08, 4.9365e-07], requires_grad=True)\n",
            "tensor([3.9492e-08, 2.6328e-08, 3.9492e-07], requires_grad=True)\n",
            "tensor([3.1594e-08, 2.1062e-08, 3.1594e-07], requires_grad=True)\n",
            "tensor([2.5275e-08, 1.6850e-08, 2.5275e-07], requires_grad=True)\n",
            "tensor([2.0220e-08, 1.3480e-08, 2.0220e-07], requires_grad=True)\n",
            "tensor([1.6176e-08, 1.0784e-08, 1.6176e-07], requires_grad=True)\n",
            "tensor([1.2941e-08, 8.6272e-09, 1.2941e-07], requires_grad=True)\n",
            "tensor([1.0353e-08, 6.9017e-09, 1.0353e-07], requires_grad=True)\n",
            "tensor([8.2821e-09, 5.5214e-09, 8.2821e-08], requires_grad=True)\n",
            "tensor([6.6257e-09, 4.4171e-09, 6.6257e-08], requires_grad=True)\n",
            "tensor([5.3005e-09, 3.5337e-09, 5.3005e-08], requires_grad=True)\n",
            "tensor([4.2404e-09, 2.8270e-09, 4.2404e-08], requires_grad=True)\n",
            "tensor([3.3923e-09, 2.2616e-09, 3.3923e-08], requires_grad=True)\n",
            "tensor([2.7139e-09, 1.8093e-09, 2.7139e-08], requires_grad=True)\n",
            "tensor([2.1711e-09, 1.4474e-09, 2.1711e-08], requires_grad=True)\n",
            "tensor([1.7369e-09, 1.1579e-09, 1.7369e-08], requires_grad=True)\n",
            "tensor([1.3895e-09, 9.2634e-10, 1.3895e-08], requires_grad=True)\n",
            "tensor([1.1116e-09, 7.4107e-10, 1.1116e-08], requires_grad=True)\n",
            "tensor([8.8928e-10, 5.9286e-10, 8.8928e-09], requires_grad=True)\n",
            "tensor([7.1143e-10, 4.7428e-10, 7.1143e-09], requires_grad=True)\n",
            "tensor([5.6914e-10, 3.7943e-10, 5.6914e-09], requires_grad=True)\n",
            "tensor([4.5531e-10, 3.0354e-10, 4.5531e-09], requires_grad=True)\n",
            "tensor([3.6425e-10, 2.4283e-10, 3.6425e-09], requires_grad=True)\n",
            "tensor([2.9140e-10, 1.9427e-10, 2.9140e-09], requires_grad=True)\n",
            "tensor([2.3312e-10, 1.5541e-10, 2.3312e-09], requires_grad=True)\n",
            "tensor([1.8650e-10, 1.2433e-10, 1.8650e-09], requires_grad=True)\n",
            "tensor([1.4920e-10, 9.9465e-11, 1.4920e-09], requires_grad=True)\n",
            "tensor([1.1936e-10, 7.9572e-11, 1.1936e-09], requires_grad=True)\n",
            "tensor([9.5486e-11, 6.3657e-11, 9.5486e-10], requires_grad=True)\n",
            "tensor([7.6389e-11, 5.0926e-11, 7.6389e-10], requires_grad=True)\n",
            "tensor([6.1111e-11, 4.0741e-11, 6.1111e-10], requires_grad=True)\n"
          ]
        }
      ]
    },
    {
      "cell_type": "markdown",
      "source": [
        "Using optimizer instead"
      ],
      "metadata": {
        "id": "MYDaHkvzHLTN"
      }
    },
    {
      "cell_type": "code",
      "source": [
        "from torch.optim import SGD\n",
        "# grad descent\n",
        "a = torch.tensor([0.3,0.2,3],requires_grad=True)\n",
        "\n",
        "def f(a):\n",
        "  return torch.matmul(a,a)\n",
        "\n",
        "optimizer = SGD([a],0.1)\n",
        "for i in range(100):\n",
        "  f(a).backward() # calculate gradient\n",
        "  \"\"\"with torch.no_grad():\n",
        "      a -=  0.1*a.grad\n",
        "  \"\"\"\n",
        "  optimizer.step()\n",
        "  optimizer.zero_grad() # resets the gradients of tensors involved\n",
        "  print(a)\n",
        "\n"
      ],
      "metadata": {
        "colab": {
          "base_uri": "https://localhost:8080/"
        },
        "id": "n9448eUpHN9x",
        "outputId": "8781141f-3306-4a25-bb8d-9672c20fa43a"
      },
      "execution_count": null,
      "outputs": [
        {
          "output_type": "stream",
          "name": "stdout",
          "text": [
            "tensor([0.2400, 0.1600, 2.4000], requires_grad=True)\n",
            "tensor([0.1920, 0.1280, 1.9200], requires_grad=True)\n",
            "tensor([0.1536, 0.1024, 1.5360], requires_grad=True)\n",
            "tensor([0.1229, 0.0819, 1.2288], requires_grad=True)\n",
            "tensor([0.0983, 0.0655, 0.9830], requires_grad=True)\n",
            "tensor([0.0786, 0.0524, 0.7864], requires_grad=True)\n",
            "tensor([0.0629, 0.0419, 0.6291], requires_grad=True)\n",
            "tensor([0.0503, 0.0336, 0.5033], requires_grad=True)\n",
            "tensor([0.0403, 0.0268, 0.4027], requires_grad=True)\n",
            "tensor([0.0322, 0.0215, 0.3221], requires_grad=True)\n",
            "tensor([0.0258, 0.0172, 0.2577], requires_grad=True)\n",
            "tensor([0.0206, 0.0137, 0.2062], requires_grad=True)\n",
            "tensor([0.0165, 0.0110, 0.1649], requires_grad=True)\n",
            "tensor([0.0132, 0.0088, 0.1319], requires_grad=True)\n",
            "tensor([0.0106, 0.0070, 0.1056], requires_grad=True)\n",
            "tensor([0.0084, 0.0056, 0.0844], requires_grad=True)\n",
            "tensor([0.0068, 0.0045, 0.0676], requires_grad=True)\n",
            "tensor([0.0054, 0.0036, 0.0540], requires_grad=True)\n",
            "tensor([0.0043, 0.0029, 0.0432], requires_grad=True)\n",
            "tensor([0.0035, 0.0023, 0.0346], requires_grad=True)\n",
            "tensor([0.0028, 0.0018, 0.0277], requires_grad=True)\n",
            "tensor([0.0022, 0.0015, 0.0221], requires_grad=True)\n",
            "tensor([0.0018, 0.0012, 0.0177], requires_grad=True)\n",
            "tensor([0.0014, 0.0009, 0.0142], requires_grad=True)\n",
            "tensor([0.0011, 0.0008, 0.0113], requires_grad=True)\n",
            "tensor([0.0009, 0.0006, 0.0091], requires_grad=True)\n",
            "tensor([0.0007, 0.0005, 0.0073], requires_grad=True)\n",
            "tensor([0.0006, 0.0004, 0.0058], requires_grad=True)\n",
            "tensor([0.0005, 0.0003, 0.0046], requires_grad=True)\n",
            "tensor([0.0004, 0.0002, 0.0037], requires_grad=True)\n",
            "tensor([0.0003, 0.0002, 0.0030], requires_grad=True)\n",
            "tensor([0.0002, 0.0002, 0.0024], requires_grad=True)\n",
            "tensor([0.0002, 0.0001, 0.0019], requires_grad=True)\n",
            "tensor([0.0002, 0.0001, 0.0015], requires_grad=True)\n",
            "tensor([1.2169e-04, 8.1130e-05, 1.2169e-03], requires_grad=True)\n",
            "tensor([9.7356e-05, 6.4904e-05, 9.7356e-04], requires_grad=True)\n",
            "tensor([7.7884e-05, 5.1923e-05, 7.7884e-04], requires_grad=True)\n",
            "tensor([6.2308e-05, 4.1538e-05, 6.2308e-04], requires_grad=True)\n",
            "tensor([4.9846e-05, 3.3231e-05, 4.9846e-04], requires_grad=True)\n",
            "tensor([3.9877e-05, 2.6585e-05, 3.9877e-04], requires_grad=True)\n",
            "tensor([3.1901e-05, 2.1268e-05, 3.1901e-04], requires_grad=True)\n",
            "tensor([2.5521e-05, 1.7014e-05, 2.5521e-04], requires_grad=True)\n",
            "tensor([2.0417e-05, 1.3611e-05, 2.0417e-04], requires_grad=True)\n",
            "tensor([1.6334e-05, 1.0889e-05, 1.6334e-04], requires_grad=True)\n",
            "tensor([1.3067e-05, 8.7112e-06, 1.3067e-04], requires_grad=True)\n",
            "tensor([1.0453e-05, 6.9690e-06, 1.0453e-04], requires_grad=True)\n",
            "tensor([8.3628e-06, 5.5752e-06, 8.3628e-05], requires_grad=True)\n",
            "tensor([6.6902e-06, 4.4601e-06, 6.6902e-05], requires_grad=True)\n",
            "tensor([5.3522e-06, 3.5681e-06, 5.3522e-05], requires_grad=True)\n",
            "tensor([4.2817e-06, 2.8545e-06, 4.2817e-05], requires_grad=True)\n",
            "tensor([3.4254e-06, 2.2836e-06, 3.4254e-05], requires_grad=True)\n",
            "tensor([2.7403e-06, 1.8269e-06, 2.7403e-05], requires_grad=True)\n",
            "tensor([2.1923e-06, 1.4615e-06, 2.1923e-05], requires_grad=True)\n",
            "tensor([1.7538e-06, 1.1692e-06, 1.7538e-05], requires_grad=True)\n",
            "tensor([1.4030e-06, 9.3536e-07, 1.4030e-05], requires_grad=True)\n",
            "tensor([1.1224e-06, 7.4829e-07, 1.1224e-05], requires_grad=True)\n",
            "tensor([8.9795e-07, 5.9863e-07, 8.9795e-06], requires_grad=True)\n",
            "tensor([7.1836e-07, 4.7891e-07, 7.1836e-06], requires_grad=True)\n",
            "tensor([5.7469e-07, 3.8312e-07, 5.7469e-06], requires_grad=True)\n",
            "tensor([4.5975e-07, 3.0650e-07, 4.5975e-06], requires_grad=True)\n",
            "tensor([3.6780e-07, 2.4520e-07, 3.6780e-06], requires_grad=True)\n",
            "tensor([2.9424e-07, 1.9616e-07, 2.9424e-06], requires_grad=True)\n",
            "tensor([2.3539e-07, 1.5693e-07, 2.3539e-06], requires_grad=True)\n",
            "tensor([1.8831e-07, 1.2554e-07, 1.8831e-06], requires_grad=True)\n",
            "tensor([1.5065e-07, 1.0043e-07, 1.5065e-06], requires_grad=True)\n",
            "tensor([1.2052e-07, 8.0347e-08, 1.2052e-06], requires_grad=True)\n",
            "tensor([9.6416e-08, 6.4278e-08, 9.6416e-07], requires_grad=True)\n",
            "tensor([7.7133e-08, 5.1422e-08, 7.7133e-07], requires_grad=True)\n",
            "tensor([6.1706e-08, 4.1138e-08, 6.1706e-07], requires_grad=True)\n",
            "tensor([4.9365e-08, 3.2910e-08, 4.9365e-07], requires_grad=True)\n",
            "tensor([3.9492e-08, 2.6328e-08, 3.9492e-07], requires_grad=True)\n",
            "tensor([3.1594e-08, 2.1062e-08, 3.1594e-07], requires_grad=True)\n",
            "tensor([2.5275e-08, 1.6850e-08, 2.5275e-07], requires_grad=True)\n",
            "tensor([2.0220e-08, 1.3480e-08, 2.0220e-07], requires_grad=True)\n",
            "tensor([1.6176e-08, 1.0784e-08, 1.6176e-07], requires_grad=True)\n",
            "tensor([1.2941e-08, 8.6272e-09, 1.2941e-07], requires_grad=True)\n",
            "tensor([1.0353e-08, 6.9017e-09, 1.0353e-07], requires_grad=True)\n",
            "tensor([8.2821e-09, 5.5214e-09, 8.2821e-08], requires_grad=True)\n",
            "tensor([6.6257e-09, 4.4171e-09, 6.6257e-08], requires_grad=True)\n",
            "tensor([5.3005e-09, 3.5337e-09, 5.3005e-08], requires_grad=True)\n",
            "tensor([4.2404e-09, 2.8270e-09, 4.2404e-08], requires_grad=True)\n",
            "tensor([3.3923e-09, 2.2616e-09, 3.3923e-08], requires_grad=True)\n",
            "tensor([2.7139e-09, 1.8093e-09, 2.7139e-08], requires_grad=True)\n",
            "tensor([2.1711e-09, 1.4474e-09, 2.1711e-08], requires_grad=True)\n",
            "tensor([1.7369e-09, 1.1579e-09, 1.7369e-08], requires_grad=True)\n",
            "tensor([1.3895e-09, 9.2634e-10, 1.3895e-08], requires_grad=True)\n",
            "tensor([1.1116e-09, 7.4107e-10, 1.1116e-08], requires_grad=True)\n",
            "tensor([8.8928e-10, 5.9286e-10, 8.8928e-09], requires_grad=True)\n",
            "tensor([7.1143e-10, 4.7428e-10, 7.1143e-09], requires_grad=True)\n",
            "tensor([5.6914e-10, 3.7943e-10, 5.6914e-09], requires_grad=True)\n",
            "tensor([4.5531e-10, 3.0354e-10, 4.5531e-09], requires_grad=True)\n",
            "tensor([3.6425e-10, 2.4283e-10, 3.6425e-09], requires_grad=True)\n",
            "tensor([2.9140e-10, 1.9427e-10, 2.9140e-09], requires_grad=True)\n",
            "tensor([2.3312e-10, 1.5541e-10, 2.3312e-09], requires_grad=True)\n",
            "tensor([1.8650e-10, 1.2433e-10, 1.8650e-09], requires_grad=True)\n",
            "tensor([1.4920e-10, 9.9465e-11, 1.4920e-09], requires_grad=True)\n",
            "tensor([1.1936e-10, 7.9572e-11, 1.1936e-09], requires_grad=True)\n",
            "tensor([9.5486e-11, 6.3657e-11, 9.5486e-10], requires_grad=True)\n",
            "tensor([7.6389e-11, 5.0926e-11, 7.6389e-10], requires_grad=True)\n",
            "tensor([6.1111e-11, 4.0741e-11, 6.1111e-10], requires_grad=True)\n"
          ]
        }
      ]
    },
    {
      "cell_type": "code",
      "source": [
        "# use autograd instead if you want the gradient of intermidiate node (not the leaf node)\n",
        "x = torch.tensor([2,2.0],requires_grad=True)\n",
        "y = 3*x\n",
        "z = torch.dot(y,y)\n",
        "torch.autograd.grad(z, y)"
      ],
      "metadata": {
        "colab": {
          "base_uri": "https://localhost:8080/"
        },
        "id": "jv2cJ9x_JwIN",
        "outputId": "997cd9cd-e4a7-46b0-94f1-af0e2c79c084"
      },
      "execution_count": null,
      "outputs": [
        {
          "output_type": "execute_result",
          "data": {
            "text/plain": [
              "(tensor([12., 12.]),)"
            ]
          },
          "metadata": {},
          "execution_count": 49
        }
      ]
    },
    {
      "cell_type": "code",
      "source": [
        "# Another example\n",
        "x = torch.tensor([2,2.0],requires_grad=True)\n",
        "y = 3*x\n",
        "u = y + x\n",
        "z = torch.dot(u,y)\n",
        "torch.autograd.grad(z, y)\n"
      ],
      "metadata": {
        "colab": {
          "base_uri": "https://localhost:8080/"
        },
        "id": "OeJeeQGJNaek",
        "outputId": "adf5b29d-75bd-4b92-85ae-86d4bf03b85a"
      },
      "execution_count": null,
      "outputs": [
        {
          "output_type": "execute_result",
          "data": {
            "text/plain": [
              "(tensor([14., 14.]),)"
            ]
          },
          "metadata": {},
          "execution_count": 51
        }
      ]
    },
    {
      "cell_type": "markdown",
      "source": [
        "Basic neural networks in pytorch ..."
      ],
      "metadata": {
        "id": "J186LQopOtmQ"
      }
    },
    {
      "cell_type": "code",
      "source": [
        "# Dataset\n",
        "import numpy as np\n",
        "X = np.random.normal(0,2,1000)\n",
        "Y = X**2  + 2"
      ],
      "metadata": {
        "id": "nPo_2jCHOF7T"
      },
      "execution_count": null,
      "outputs": []
    },
    {
      "cell_type": "code",
      "source": [
        "import matplotlib.pyplot as plt\n",
        "plt.plot(X,Y,\"ro\")"
      ],
      "metadata": {
        "colab": {
          "base_uri": "https://localhost:8080/",
          "height": 448
        },
        "id": "7_yVlj2BPPcZ",
        "outputId": "8fb3f225-692d-4ad4-86f7-df2d4eae544b"
      },
      "execution_count": null,
      "outputs": [
        {
          "output_type": "execute_result",
          "data": {
            "text/plain": [
              "[<matplotlib.lines.Line2D at 0x7d1d47d46ec0>]"
            ]
          },
          "metadata": {},
          "execution_count": 54
        },
        {
          "output_type": "display_data",
          "data": {
            "text/plain": [
              "<Figure size 640x480 with 1 Axes>"
            ],
            "image/png": "[encoded data removed]"
          },
          "metadata": {}
        }
      ]
    },
    {
      "cell_type": "code",
      "source": [
        "import torch.nn as nn\n",
        "import torch.nn.functional as F\n",
        "\n",
        "class MyNet(nn.Module):\n",
        "    def __init__(self):\n",
        "        super(MyNet, self).__init__()\n",
        "        self.fc1 = nn.Linear(1, 64)\n",
        "        self.fc2 = nn.Linear(64, 32)\n",
        "        self.fc3 = nn.Linear(32,1)\n",
        "\n",
        "    def forward(self, x):\n",
        "        x = self.fc1(x)\n",
        "        x = F.relu(x)\n",
        "        x = self.fc2(x)\n",
        "        x = F.relu(x)\n",
        "        x = self.fc3(x)\n",
        "        return x\n",
        "\n",
        "model = MyNet()\n",
        "optimizer = torch.optim.Adam(model.parameters(), lr=0.1)\n",
        "loss = nn.MSELoss()\n",
        "num_epochs = 500\n",
        "\n"
      ],
      "metadata": {
        "id": "E4zv80E_PUjm"
      },
      "execution_count": null,
      "outputs": []
    },
    {
      "cell_type": "code",
      "source": [
        "X_train = torch.tensor(X,dtype=torch.float).view(-1,1)\n",
        "Y_train = torch.tensor(Y,dtype=torch.float).view(-1,1)"
      ],
      "metadata": {
        "id": "NCKAsgDFSlgh"
      },
      "execution_count": null,
      "outputs": []
    },
    {
      "cell_type": "code",
      "source": [
        "for epoch in range(num_epochs):\n",
        "        # Zero the gradients\n",
        "        optimizer.zero_grad()\n",
        "\n",
        "        # Forward pass\n",
        "        outputs = model(X_train)\n",
        "\n",
        "        # Compute the loss\n",
        "        l = loss(outputs, Y_train)\n",
        "\n",
        "        # Backward pass\n",
        "        l.backward()\n",
        "\n",
        "        # Update the parameters\n",
        "        optimizer.step()\n",
        "        print(f\"epoch: {epoch}\", l)"
      ],
      "metadata": {
        "colab": {
          "base_uri": "https://localhost:8080/"
        },
        "id": "A9jKpf9PRlz-",
        "outputId": "f9ddf9cc-273d-4eb8-98a5-c90630d05c01"
      },
      "execution_count": null,
      "outputs": [
        {
          "output_type": "stream",
          "name": "stdout",
          "text": [
            "epoch: 0 tensor(64.8419, grad_fn=<MseLossBackward0>)\n",
            "epoch: 1 tensor(7.2806, grad_fn=<MseLossBackward0>)\n",
            "epoch: 2 tensor(90.2206, grad_fn=<MseLossBackward0>)\n",
            "epoch: 3 tensor(5.1715, grad_fn=<MseLossBackward0>)\n",
            "epoch: 4 tensor(20.1646, grad_fn=<MseLossBackward0>)\n",
            "epoch: 5 tensor(35.7113, grad_fn=<MseLossBackward0>)\n",
            "epoch: 6 tensor(39.7810, grad_fn=<MseLossBackward0>)\n",
            "epoch: 7 tensor(35.5771, grad_fn=<MseLossBackward0>)\n",
            "epoch: 8 tensor(26.1852, grad_fn=<MseLossBackward0>)\n",
            "epoch: 9 tensor(15.5533, grad_fn=<MseLossBackward0>)\n",
            "epoch: 10 tensor(11.7443, grad_fn=<MseLossBackward0>)\n",
            "epoch: 11 tensor(12.9120, grad_fn=<MseLossBackward0>)\n",
            "epoch: 12 tensor(9.3258, grad_fn=<MseLossBackward0>)\n",
            "epoch: 13 tensor(5.9229, grad_fn=<MseLossBackward0>)\n",
            "epoch: 14 tensor(4.9384, grad_fn=<MseLossBackward0>)\n",
            "epoch: 15 tensor(6.2239, grad_fn=<MseLossBackward0>)\n",
            "epoch: 16 tensor(8.2057, grad_fn=<MseLossBackward0>)\n",
            "epoch: 17 tensor(9.0937, grad_fn=<MseLossBackward0>)\n",
            "epoch: 18 tensor(7.9009, grad_fn=<MseLossBackward0>)\n",
            "epoch: 19 tensor(4.8712, grad_fn=<MseLossBackward0>)\n",
            "epoch: 20 tensor(1.6366, grad_fn=<MseLossBackward0>)\n",
            "epoch: 21 tensor(1.0053, grad_fn=<MseLossBackward0>)\n",
            "epoch: 22 tensor(3.7652, grad_fn=<MseLossBackward0>)\n",
            "epoch: 23 tensor(4.7204, grad_fn=<MseLossBackward0>)\n",
            "epoch: 24 tensor(2.4902, grad_fn=<MseLossBackward0>)\n",
            "epoch: 25 tensor(0.8304, grad_fn=<MseLossBackward0>)\n",
            "epoch: 26 tensor(1.1468, grad_fn=<MseLossBackward0>)\n",
            "epoch: 27 tensor(2.0478, grad_fn=<MseLossBackward0>)\n",
            "epoch: 28 tensor(2.2900, grad_fn=<MseLossBackward0>)\n",
            "epoch: 29 tensor(1.8414, grad_fn=<MseLossBackward0>)\n",
            "epoch: 30 tensor(1.4319, grad_fn=<MseLossBackward0>)\n",
            "epoch: 31 tensor(1.3251, grad_fn=<MseLossBackward0>)\n",
            "epoch: 32 tensor(0.9755, grad_fn=<MseLossBackward0>)\n",
            "epoch: 33 tensor(0.6159, grad_fn=<MseLossBackward0>)\n",
            "epoch: 34 tensor(0.7418, grad_fn=<MseLossBackward0>)\n",
            "epoch: 35 tensor(1.0732, grad_fn=<MseLossBackward0>)\n",
            "epoch: 36 tensor(1.1470, grad_fn=<MseLossBackward0>)\n",
            "epoch: 37 tensor(0.8872, grad_fn=<MseLossBackward0>)\n",
            "epoch: 38 tensor(0.4977, grad_fn=<MseLossBackward0>)\n",
            "epoch: 39 tensor(0.2735, grad_fn=<MseLossBackward0>)\n",
            "epoch: 40 tensor(0.3970, grad_fn=<MseLossBackward0>)\n",
            "epoch: 41 tensor(0.6556, grad_fn=<MseLossBackward0>)\n",
            "epoch: 42 tensor(0.6222, grad_fn=<MseLossBackward0>)\n",
            "epoch: 43 tensor(0.3438, grad_fn=<MseLossBackward0>)\n",
            "epoch: 44 tensor(0.2178, grad_fn=<MseLossBackward0>)\n",
            "epoch: 45 tensor(0.2962, grad_fn=<MseLossBackward0>)\n",
            "epoch: 46 tensor(0.4334, grad_fn=<MseLossBackward0>)\n",
            "epoch: 47 tensor(0.4268, grad_fn=<MseLossBackward0>)\n",
            "epoch: 48 tensor(0.2494, grad_fn=<MseLossBackward0>)\n",
            "epoch: 49 tensor(0.1224, grad_fn=<MseLossBackward0>)\n",
            "epoch: 50 tensor(0.2010, grad_fn=<MseLossBackward0>)\n",
            "epoch: 51 tensor(0.3037, grad_fn=<MseLossBackward0>)\n",
            "epoch: 52 tensor(0.2387, grad_fn=<MseLossBackward0>)\n",
            "epoch: 53 tensor(0.1268, grad_fn=<MseLossBackward0>)\n",
            "epoch: 54 tensor(0.1165, grad_fn=<MseLossBackward0>)\n",
            "epoch: 55 tensor(0.1675, grad_fn=<MseLossBackward0>)\n",
            "epoch: 56 tensor(0.1911, grad_fn=<MseLossBackward0>)\n",
            "epoch: 57 tensor(0.1524, grad_fn=<MseLossBackward0>)\n",
            "epoch: 58 tensor(0.0877, grad_fn=<MseLossBackward0>)\n",
            "epoch: 59 tensor(0.0888, grad_fn=<MseLossBackward0>)\n",
            "epoch: 60 tensor(0.1372, grad_fn=<MseLossBackward0>)\n",
            "epoch: 61 tensor(0.1331, grad_fn=<MseLossBackward0>)\n",
            "epoch: 62 tensor(0.0791, grad_fn=<MseLossBackward0>)\n",
            "epoch: 63 tensor(0.0586, grad_fn=<MseLossBackward0>)\n",
            "epoch: 64 tensor(0.0890, grad_fn=<MseLossBackward0>)\n",
            "epoch: 65 tensor(0.1018, grad_fn=<MseLossBackward0>)\n",
            "epoch: 66 tensor(0.0714, grad_fn=<MseLossBackward0>)\n",
            "epoch: 67 tensor(0.0493, grad_fn=<MseLossBackward0>)\n",
            "epoch: 68 tensor(0.0619, grad_fn=<MseLossBackward0>)\n",
            "epoch: 69 tensor(0.0768, grad_fn=<MseLossBackward0>)\n",
            "epoch: 70 tensor(0.0652, grad_fn=<MseLossBackward0>)\n",
            "epoch: 71 tensor(0.0460, grad_fn=<MseLossBackward0>)\n",
            "epoch: 72 tensor(0.0456, grad_fn=<MseLossBackward0>)\n",
            "epoch: 73 tensor(0.0552, grad_fn=<MseLossBackward0>)\n",
            "epoch: 74 tensor(0.0537, grad_fn=<MseLossBackward0>)\n",
            "epoch: 75 tensor(0.0406, grad_fn=<MseLossBackward0>)\n",
            "epoch: 76 tensor(0.0339, grad_fn=<MseLossBackward0>)\n",
            "epoch: 77 tensor(0.0409, grad_fn=<MseLossBackward0>)\n",
            "epoch: 78 tensor(0.0441, grad_fn=<MseLossBackward0>)\n",
            "epoch: 79 tensor(0.0343, grad_fn=<MseLossBackward0>)\n",
            "epoch: 80 tensor(0.0284, grad_fn=<MseLossBackward0>)\n",
            "epoch: 81 tensor(0.0336, grad_fn=<MseLossBackward0>)\n",
            "epoch: 82 tensor(0.0357, grad_fn=<MseLossBackward0>)\n",
            "epoch: 83 tensor(0.0289, grad_fn=<MseLossBackward0>)\n",
            "epoch: 84 tensor(0.0247, grad_fn=<MseLossBackward0>)\n",
            "epoch: 85 tensor(0.0278, grad_fn=<MseLossBackward0>)\n",
            "epoch: 86 tensor(0.0289, grad_fn=<MseLossBackward0>)\n",
            "epoch: 87 tensor(0.0248, grad_fn=<MseLossBackward0>)\n",
            "epoch: 88 tensor(0.0222, grad_fn=<MseLossBackward0>)\n",
            "epoch: 89 tensor(0.0238, grad_fn=<MseLossBackward0>)\n",
            "epoch: 90 tensor(0.0246, grad_fn=<MseLossBackward0>)\n",
            "epoch: 91 tensor(0.0219, grad_fn=<MseLossBackward0>)\n",
            "epoch: 92 tensor(0.0197, grad_fn=<MseLossBackward0>)\n",
            "epoch: 93 tensor(0.0208, grad_fn=<MseLossBackward0>)\n",
            "epoch: 94 tensor(0.0213, grad_fn=<MseLossBackward0>)\n",
            "epoch: 95 tensor(0.0190, grad_fn=<MseLossBackward0>)\n",
            "epoch: 96 tensor(0.0176, grad_fn=<MseLossBackward0>)\n",
            "epoch: 97 tensor(0.0186, grad_fn=<MseLossBackward0>)\n",
            "epoch: 98 tensor(0.0184, grad_fn=<MseLossBackward0>)\n",
            "epoch: 99 tensor(0.0167, grad_fn=<MseLossBackward0>)\n",
            "epoch: 100 tensor(0.0161, grad_fn=<MseLossBackward0>)\n",
            "epoch: 101 tensor(0.0165, grad_fn=<MseLossBackward0>)\n",
            "epoch: 102 tensor(0.0161, grad_fn=<MseLossBackward0>)\n",
            "epoch: 103 tensor(0.0150, grad_fn=<MseLossBackward0>)\n",
            "epoch: 104 tensor(0.0147, grad_fn=<MseLossBackward0>)\n",
            "epoch: 105 tensor(0.0149, grad_fn=<MseLossBackward0>)\n",
            "epoch: 106 tensor(0.0145, grad_fn=<MseLossBackward0>)\n",
            "epoch: 107 tensor(0.0136, grad_fn=<MseLossBackward0>)\n",
            "epoch: 108 tensor(0.0135, grad_fn=<MseLossBackward0>)\n",
            "epoch: 109 tensor(0.0136, grad_fn=<MseLossBackward0>)\n",
            "epoch: 110 tensor(0.0130, grad_fn=<MseLossBackward0>)\n",
            "epoch: 111 tensor(0.0124, grad_fn=<MseLossBackward0>)\n",
            "epoch: 112 tensor(0.0124, grad_fn=<MseLossBackward0>)\n",
            "epoch: 113 tensor(0.0123, grad_fn=<MseLossBackward0>)\n",
            "epoch: 114 tensor(0.0118, grad_fn=<MseLossBackward0>)\n",
            "epoch: 115 tensor(0.0115, grad_fn=<MseLossBackward0>)\n",
            "epoch: 116 tensor(0.0114, grad_fn=<MseLossBackward0>)\n",
            "epoch: 117 tensor(0.0112, grad_fn=<MseLossBackward0>)\n",
            "epoch: 118 tensor(0.0108, grad_fn=<MseLossBackward0>)\n",
            "epoch: 119 tensor(0.0106, grad_fn=<MseLossBackward0>)\n",
            "epoch: 120 tensor(0.0105, grad_fn=<MseLossBackward0>)\n",
            "epoch: 121 tensor(0.0102, grad_fn=<MseLossBackward0>)\n",
            "epoch: 122 tensor(0.0099, grad_fn=<MseLossBackward0>)\n",
            "epoch: 123 tensor(0.0098, grad_fn=<MseLossBackward0>)\n",
            "epoch: 124 tensor(0.0097, grad_fn=<MseLossBackward0>)\n",
            "epoch: 125 tensor(0.0094, grad_fn=<MseLossBackward0>)\n",
            "epoch: 126 tensor(0.0092, grad_fn=<MseLossBackward0>)\n",
            "epoch: 127 tensor(0.0091, grad_fn=<MseLossBackward0>)\n",
            "epoch: 128 tensor(0.0089, grad_fn=<MseLossBackward0>)\n",
            "epoch: 129 tensor(0.0087, grad_fn=<MseLossBackward0>)\n",
            "epoch: 130 tensor(0.0085, grad_fn=<MseLossBackward0>)\n",
            "epoch: 131 tensor(0.0084, grad_fn=<MseLossBackward0>)\n",
            "epoch: 132 tensor(0.0082, grad_fn=<MseLossBackward0>)\n",
            "epoch: 133 tensor(0.0081, grad_fn=<MseLossBackward0>)\n",
            "epoch: 134 tensor(0.0079, grad_fn=<MseLossBackward0>)\n",
            "epoch: 135 tensor(0.0078, grad_fn=<MseLossBackward0>)\n",
            "epoch: 136 tensor(0.0076, grad_fn=<MseLossBackward0>)\n",
            "epoch: 137 tensor(0.0075, grad_fn=<MseLossBackward0>)\n",
            "epoch: 138 tensor(0.0074, grad_fn=<MseLossBackward0>)\n",
            "epoch: 139 tensor(0.0072, grad_fn=<MseLossBackward0>)\n",
            "epoch: 140 tensor(0.0071, grad_fn=<MseLossBackward0>)\n",
            "epoch: 141 tensor(0.0070, grad_fn=<MseLossBackward0>)\n",
            "epoch: 142 tensor(0.0069, grad_fn=<MseLossBackward0>)\n",
            "epoch: 143 tensor(0.0068, grad_fn=<MseLossBackward0>)\n",
            "epoch: 144 tensor(0.0067, grad_fn=<MseLossBackward0>)\n",
            "epoch: 145 tensor(0.0065, grad_fn=<MseLossBackward0>)\n",
            "epoch: 146 tensor(0.0064, grad_fn=<MseLossBackward0>)\n",
            "epoch: 147 tensor(0.0063, grad_fn=<MseLossBackward0>)\n",
            "epoch: 148 tensor(0.0062, grad_fn=<MseLossBackward0>)\n",
            "epoch: 149 tensor(0.0061, grad_fn=<MseLossBackward0>)\n",
            "epoch: 150 tensor(0.0060, grad_fn=<MseLossBackward0>)\n",
            "epoch: 151 tensor(0.0059, grad_fn=<MseLossBackward0>)\n",
            "epoch: 152 tensor(0.0058, grad_fn=<MseLossBackward0>)\n",
            "epoch: 153 tensor(0.0057, grad_fn=<MseLossBackward0>)\n",
            "epoch: 154 tensor(0.0056, grad_fn=<MseLossBackward0>)\n",
            "epoch: 155 tensor(0.0055, grad_fn=<MseLossBackward0>)\n",
            "epoch: 156 tensor(0.0054, grad_fn=<MseLossBackward0>)\n",
            "epoch: 157 tensor(0.0054, grad_fn=<MseLossBackward0>)\n",
            "epoch: 158 tensor(0.0053, grad_fn=<MseLossBackward0>)\n",
            "epoch: 159 tensor(0.0052, grad_fn=<MseLossBackward0>)\n",
            "epoch: 160 tensor(0.0051, grad_fn=<MseLossBackward0>)\n",
            "epoch: 161 tensor(0.0050, grad_fn=<MseLossBackward0>)\n",
            "epoch: 162 tensor(0.0049, grad_fn=<MseLossBackward0>)\n",
            "epoch: 163 tensor(0.0048, grad_fn=<MseLossBackward0>)\n",
            "epoch: 164 tensor(0.0047, grad_fn=<MseLossBackward0>)\n",
            "epoch: 165 tensor(0.0047, grad_fn=<MseLossBackward0>)\n",
            "epoch: 166 tensor(0.0046, grad_fn=<MseLossBackward0>)\n",
            "epoch: 167 tensor(0.0045, grad_fn=<MseLossBackward0>)\n",
            "epoch: 168 tensor(0.0044, grad_fn=<MseLossBackward0>)\n",
            "epoch: 169 tensor(0.0044, grad_fn=<MseLossBackward0>)\n",
            "epoch: 170 tensor(0.0043, grad_fn=<MseLossBackward0>)\n",
            "epoch: 171 tensor(0.0042, grad_fn=<MseLossBackward0>)\n",
            "epoch: 172 tensor(0.0041, grad_fn=<MseLossBackward0>)\n",
            "epoch: 173 tensor(0.0040, grad_fn=<MseLossBackward0>)\n",
            "epoch: 174 tensor(0.0040, grad_fn=<MseLossBackward0>)\n",
            "epoch: 175 tensor(0.0039, grad_fn=<MseLossBackward0>)\n",
            "epoch: 176 tensor(0.0038, grad_fn=<MseLossBackward0>)\n",
            "epoch: 177 tensor(0.0038, grad_fn=<MseLossBackward0>)\n",
            "epoch: 178 tensor(0.0037, grad_fn=<MseLossBackward0>)\n",
            "epoch: 179 tensor(0.0036, grad_fn=<MseLossBackward0>)\n",
            "epoch: 180 tensor(0.0035, grad_fn=<MseLossBackward0>)\n",
            "epoch: 181 tensor(0.0035, grad_fn=<MseLossBackward0>)\n",
            "epoch: 182 tensor(0.0034, grad_fn=<MseLossBackward0>)\n",
            "epoch: 183 tensor(0.0034, grad_fn=<MseLossBackward0>)\n",
            "epoch: 184 tensor(0.0033, grad_fn=<MseLossBackward0>)\n",
            "epoch: 185 tensor(0.0032, grad_fn=<MseLossBackward0>)\n",
            "epoch: 186 tensor(0.0032, grad_fn=<MseLossBackward0>)\n",
            "epoch: 187 tensor(0.0031, grad_fn=<MseLossBackward0>)\n",
            "epoch: 188 tensor(0.0030, grad_fn=<MseLossBackward0>)\n",
            "epoch: 189 tensor(0.0030, grad_fn=<MseLossBackward0>)\n",
            "epoch: 190 tensor(0.0029, grad_fn=<MseLossBackward0>)\n",
            "epoch: 191 tensor(0.0029, grad_fn=<MseLossBackward0>)\n",
            "epoch: 192 tensor(0.0028, grad_fn=<MseLossBackward0>)\n",
            "epoch: 193 tensor(0.0028, grad_fn=<MseLossBackward0>)\n",
            "epoch: 194 tensor(0.0027, grad_fn=<MseLossBackward0>)\n",
            "epoch: 195 tensor(0.0027, grad_fn=<MseLossBackward0>)\n",
            "epoch: 196 tensor(0.0026, grad_fn=<MseLossBackward0>)\n",
            "epoch: 197 tensor(0.0026, grad_fn=<MseLossBackward0>)\n",
            "epoch: 198 tensor(0.0025, grad_fn=<MseLossBackward0>)\n",
            "epoch: 199 tensor(0.0025, grad_fn=<MseLossBackward0>)\n",
            "epoch: 200 tensor(0.0024, grad_fn=<MseLossBackward0>)\n",
            "epoch: 201 tensor(0.0024, grad_fn=<MseLossBackward0>)\n",
            "epoch: 202 tensor(0.0023, grad_fn=<MseLossBackward0>)\n",
            "epoch: 203 tensor(0.0023, grad_fn=<MseLossBackward0>)\n",
            "epoch: 204 tensor(0.0023, grad_fn=<MseLossBackward0>)\n",
            "epoch: 205 tensor(0.0022, grad_fn=<MseLossBackward0>)\n",
            "epoch: 206 tensor(0.0022, grad_fn=<MseLossBackward0>)\n",
            "epoch: 207 tensor(0.0021, grad_fn=<MseLossBackward0>)\n",
            "epoch: 208 tensor(0.0021, grad_fn=<MseLossBackward0>)\n",
            "epoch: 209 tensor(0.0021, grad_fn=<MseLossBackward0>)\n",
            "epoch: 210 tensor(0.0020, grad_fn=<MseLossBackward0>)\n",
            "epoch: 211 tensor(0.0020, grad_fn=<MseLossBackward0>)\n",
            "epoch: 212 tensor(0.0020, grad_fn=<MseLossBackward0>)\n",
            "epoch: 213 tensor(0.0019, grad_fn=<MseLossBackward0>)\n",
            "epoch: 214 tensor(0.0019, grad_fn=<MseLossBackward0>)\n",
            "epoch: 215 tensor(0.0019, grad_fn=<MseLossBackward0>)\n",
            "epoch: 216 tensor(0.0019, grad_fn=<MseLossBackward0>)\n",
            "epoch: 217 tensor(0.0018, grad_fn=<MseLossBackward0>)\n",
            "epoch: 218 tensor(0.0018, grad_fn=<MseLossBackward0>)\n",
            "epoch: 219 tensor(0.0018, grad_fn=<MseLossBackward0>)\n",
            "epoch: 220 tensor(0.0017, grad_fn=<MseLossBackward0>)\n",
            "epoch: 221 tensor(0.0017, grad_fn=<MseLossBackward0>)\n",
            "epoch: 222 tensor(0.0017, grad_fn=<MseLossBackward0>)\n",
            "epoch: 223 tensor(0.0017, grad_fn=<MseLossBackward0>)\n",
            "epoch: 224 tensor(0.0016, grad_fn=<MseLossBackward0>)\n",
            "epoch: 225 tensor(0.0016, grad_fn=<MseLossBackward0>)\n",
            "epoch: 226 tensor(0.0016, grad_fn=<MseLossBackward0>)\n",
            "epoch: 227 tensor(0.0016, grad_fn=<MseLossBackward0>)\n",
            "epoch: 228 tensor(0.0016, grad_fn=<MseLossBackward0>)\n",
            "epoch: 229 tensor(0.0015, grad_fn=<MseLossBackward0>)\n",
            "epoch: 230 tensor(0.0015, grad_fn=<MseLossBackward0>)\n",
            "epoch: 231 tensor(0.0015, grad_fn=<MseLossBackward0>)\n",
            "epoch: 232 tensor(0.0015, grad_fn=<MseLossBackward0>)\n",
            "epoch: 233 tensor(0.0015, grad_fn=<MseLossBackward0>)\n",
            "epoch: 234 tensor(0.0014, grad_fn=<MseLossBackward0>)\n",
            "epoch: 235 tensor(0.0014, grad_fn=<MseLossBackward0>)\n",
            "epoch: 236 tensor(0.0014, grad_fn=<MseLossBackward0>)\n",
            "epoch: 237 tensor(0.0014, grad_fn=<MseLossBackward0>)\n",
            "epoch: 238 tensor(0.0014, grad_fn=<MseLossBackward0>)\n",
            "epoch: 239 tensor(0.0014, grad_fn=<MseLossBackward0>)\n",
            "epoch: 240 tensor(0.0013, grad_fn=<MseLossBackward0>)\n",
            "epoch: 241 tensor(0.0013, grad_fn=<MseLossBackward0>)\n",
            "epoch: 242 tensor(0.0013, grad_fn=<MseLossBackward0>)\n",
            "epoch: 243 tensor(0.0013, grad_fn=<MseLossBackward0>)\n",
            "epoch: 244 tensor(0.0013, grad_fn=<MseLossBackward0>)\n",
            "epoch: 245 tensor(0.0013, grad_fn=<MseLossBackward0>)\n",
            "epoch: 246 tensor(0.0013, grad_fn=<MseLossBackward0>)\n",
            "epoch: 247 tensor(0.0012, grad_fn=<MseLossBackward0>)\n",
            "epoch: 248 tensor(0.0012, grad_fn=<MseLossBackward0>)\n",
            "epoch: 249 tensor(0.0012, grad_fn=<MseLossBackward0>)\n",
            "epoch: 250 tensor(0.0012, grad_fn=<MseLossBackward0>)\n",
            "epoch: 251 tensor(0.0012, grad_fn=<MseLossBackward0>)\n",
            "epoch: 252 tensor(0.0012, grad_fn=<MseLossBackward0>)\n",
            "epoch: 253 tensor(0.0012, grad_fn=<MseLossBackward0>)\n",
            "epoch: 254 tensor(0.0012, grad_fn=<MseLossBackward0>)\n",
            "epoch: 255 tensor(0.0011, grad_fn=<MseLossBackward0>)\n",
            "epoch: 256 tensor(0.0011, grad_fn=<MseLossBackward0>)\n",
            "epoch: 257 tensor(0.0011, grad_fn=<MseLossBackward0>)\n",
            "epoch: 258 tensor(0.0011, grad_fn=<MseLossBackward0>)\n",
            "epoch: 259 tensor(0.0011, grad_fn=<MseLossBackward0>)\n",
            "epoch: 260 tensor(0.0011, grad_fn=<MseLossBackward0>)\n",
            "epoch: 261 tensor(0.0011, grad_fn=<MseLossBackward0>)\n",
            "epoch: 262 tensor(0.0011, grad_fn=<MseLossBackward0>)\n",
            "epoch: 263 tensor(0.0011, grad_fn=<MseLossBackward0>)\n",
            "epoch: 264 tensor(0.0010, grad_fn=<MseLossBackward0>)\n",
            "epoch: 265 tensor(0.0010, grad_fn=<MseLossBackward0>)\n",
            "epoch: 266 tensor(0.0010, grad_fn=<MseLossBackward0>)\n",
            "epoch: 267 tensor(0.0010, grad_fn=<MseLossBackward0>)\n",
            "epoch: 268 tensor(0.0010, grad_fn=<MseLossBackward0>)\n",
            "epoch: 269 tensor(0.0010, grad_fn=<MseLossBackward0>)\n",
            "epoch: 270 tensor(0.0010, grad_fn=<MseLossBackward0>)\n",
            "epoch: 271 tensor(0.0010, grad_fn=<MseLossBackward0>)\n",
            "epoch: 272 tensor(0.0010, grad_fn=<MseLossBackward0>)\n",
            "epoch: 273 tensor(0.0010, grad_fn=<MseLossBackward0>)\n",
            "epoch: 274 tensor(0.0009, grad_fn=<MseLossBackward0>)\n",
            "epoch: 275 tensor(0.0009, grad_fn=<MseLossBackward0>)\n",
            "epoch: 276 tensor(0.0009, grad_fn=<MseLossBackward0>)\n",
            "epoch: 277 tensor(0.0009, grad_fn=<MseLossBackward0>)\n",
            "epoch: 278 tensor(0.0009, grad_fn=<MseLossBackward0>)\n",
            "epoch: 279 tensor(0.0009, grad_fn=<MseLossBackward0>)\n",
            "epoch: 280 tensor(0.0009, grad_fn=<MseLossBackward0>)\n",
            "epoch: 281 tensor(0.0009, grad_fn=<MseLossBackward0>)\n",
            "epoch: 282 tensor(0.0009, grad_fn=<MseLossBackward0>)\n",
            "epoch: 283 tensor(0.0009, grad_fn=<MseLossBackward0>)\n",
            "epoch: 284 tensor(0.0009, grad_fn=<MseLossBackward0>)\n",
            "epoch: 285 tensor(0.0009, grad_fn=<MseLossBackward0>)\n",
            "epoch: 286 tensor(0.0009, grad_fn=<MseLossBackward0>)\n",
            "epoch: 287 tensor(0.0008, grad_fn=<MseLossBackward0>)\n",
            "epoch: 288 tensor(0.0008, grad_fn=<MseLossBackward0>)\n",
            "epoch: 289 tensor(0.0008, grad_fn=<MseLossBackward0>)\n",
            "epoch: 290 tensor(0.0008, grad_fn=<MseLossBackward0>)\n",
            "epoch: 291 tensor(0.0008, grad_fn=<MseLossBackward0>)\n",
            "epoch: 292 tensor(0.0008, grad_fn=<MseLossBackward0>)\n",
            "epoch: 293 tensor(0.0008, grad_fn=<MseLossBackward0>)\n",
            "epoch: 294 tensor(0.0008, grad_fn=<MseLossBackward0>)\n",
            "epoch: 295 tensor(0.0008, grad_fn=<MseLossBackward0>)\n",
            "epoch: 296 tensor(0.0008, grad_fn=<MseLossBackward0>)\n",
            "epoch: 297 tensor(0.0008, grad_fn=<MseLossBackward0>)\n",
            "epoch: 298 tensor(0.0008, grad_fn=<MseLossBackward0>)\n",
            "epoch: 299 tensor(0.0008, grad_fn=<MseLossBackward0>)\n",
            "epoch: 300 tensor(0.0008, grad_fn=<MseLossBackward0>)\n",
            "epoch: 301 tensor(0.0008, grad_fn=<MseLossBackward0>)\n",
            "epoch: 302 tensor(0.0007, grad_fn=<MseLossBackward0>)\n",
            "epoch: 303 tensor(0.0007, grad_fn=<MseLossBackward0>)\n",
            "epoch: 304 tensor(0.0007, grad_fn=<MseLossBackward0>)\n",
            "epoch: 305 tensor(0.0007, grad_fn=<MseLossBackward0>)\n",
            "epoch: 306 tensor(0.0007, grad_fn=<MseLossBackward0>)\n",
            "epoch: 307 tensor(0.0007, grad_fn=<MseLossBackward0>)\n",
            "epoch: 308 tensor(0.0007, grad_fn=<MseLossBackward0>)\n",
            "epoch: 309 tensor(0.0007, grad_fn=<MseLossBackward0>)\n",
            "epoch: 310 tensor(0.0007, grad_fn=<MseLossBackward0>)\n",
            "epoch: 311 tensor(0.0007, grad_fn=<MseLossBackward0>)\n",
            "epoch: 312 tensor(0.0007, grad_fn=<MseLossBackward0>)\n",
            "epoch: 313 tensor(0.0007, grad_fn=<MseLossBackward0>)\n",
            "epoch: 314 tensor(0.0007, grad_fn=<MseLossBackward0>)\n",
            "epoch: 315 tensor(0.0007, grad_fn=<MseLossBackward0>)\n",
            "epoch: 316 tensor(0.0007, grad_fn=<MseLossBackward0>)\n",
            "epoch: 317 tensor(0.0007, grad_fn=<MseLossBackward0>)\n",
            "epoch: 318 tensor(0.0007, grad_fn=<MseLossBackward0>)\n",
            "epoch: 319 tensor(0.0007, grad_fn=<MseLossBackward0>)\n",
            "epoch: 320 tensor(0.0007, grad_fn=<MseLossBackward0>)\n",
            "epoch: 321 tensor(0.0007, grad_fn=<MseLossBackward0>)\n",
            "epoch: 322 tensor(0.0006, grad_fn=<MseLossBackward0>)\n",
            "epoch: 323 tensor(0.0006, grad_fn=<MseLossBackward0>)\n",
            "epoch: 324 tensor(0.0006, grad_fn=<MseLossBackward0>)\n",
            "epoch: 325 tensor(0.0006, grad_fn=<MseLossBackward0>)\n",
            "epoch: 326 tensor(0.0006, grad_fn=<MseLossBackward0>)\n",
            "epoch: 327 tensor(0.0006, grad_fn=<MseLossBackward0>)\n",
            "epoch: 328 tensor(0.0006, grad_fn=<MseLossBackward0>)\n",
            "epoch: 329 tensor(0.0006, grad_fn=<MseLossBackward0>)\n",
            "epoch: 330 tensor(0.0006, grad_fn=<MseLossBackward0>)\n",
            "epoch: 331 tensor(0.0006, grad_fn=<MseLossBackward0>)\n",
            "epoch: 332 tensor(0.0006, grad_fn=<MseLossBackward0>)\n",
            "epoch: 333 tensor(0.0006, grad_fn=<MseLossBackward0>)\n",
            "epoch: 334 tensor(0.0006, grad_fn=<MseLossBackward0>)\n",
            "epoch: 335 tensor(0.0006, grad_fn=<MseLossBackward0>)\n",
            "epoch: 336 tensor(0.0006, grad_fn=<MseLossBackward0>)\n",
            "epoch: 337 tensor(0.0006, grad_fn=<MseLossBackward0>)\n",
            "epoch: 338 tensor(0.0006, grad_fn=<MseLossBackward0>)\n",
            "epoch: 339 tensor(0.0006, grad_fn=<MseLossBackward0>)\n",
            "epoch: 340 tensor(0.0006, grad_fn=<MseLossBackward0>)\n",
            "epoch: 341 tensor(0.0006, grad_fn=<MseLossBackward0>)\n",
            "epoch: 342 tensor(0.0006, grad_fn=<MseLossBackward0>)\n",
            "epoch: 343 tensor(0.0006, grad_fn=<MseLossBackward0>)\n",
            "epoch: 344 tensor(0.0006, grad_fn=<MseLossBackward0>)\n",
            "epoch: 345 tensor(0.0006, grad_fn=<MseLossBackward0>)\n",
            "epoch: 346 tensor(0.0006, grad_fn=<MseLossBackward0>)\n",
            "epoch: 347 tensor(0.0006, grad_fn=<MseLossBackward0>)\n",
            "epoch: 348 tensor(0.0006, grad_fn=<MseLossBackward0>)\n",
            "epoch: 349 tensor(0.0005, grad_fn=<MseLossBackward0>)\n",
            "epoch: 350 tensor(0.0005, grad_fn=<MseLossBackward0>)\n",
            "epoch: 351 tensor(0.0005, grad_fn=<MseLossBackward0>)\n",
            "epoch: 352 tensor(0.0005, grad_fn=<MseLossBackward0>)\n",
            "epoch: 353 tensor(0.0005, grad_fn=<MseLossBackward0>)\n",
            "epoch: 354 tensor(0.0005, grad_fn=<MseLossBackward0>)\n",
            "epoch: 355 tensor(0.0005, grad_fn=<MseLossBackward0>)\n",
            "epoch: 356 tensor(0.0005, grad_fn=<MseLossBackward0>)\n",
            "epoch: 357 tensor(0.0005, grad_fn=<MseLossBackward0>)\n",
            "epoch: 358 tensor(0.0005, grad_fn=<MseLossBackward0>)\n",
            "epoch: 359 tensor(0.0005, grad_fn=<MseLossBackward0>)\n",
            "epoch: 360 tensor(0.0005, grad_fn=<MseLossBackward0>)\n",
            "epoch: 361 tensor(0.0005, grad_fn=<MseLossBackward0>)\n",
            "epoch: 362 tensor(0.0005, grad_fn=<MseLossBackward0>)\n",
            "epoch: 363 tensor(0.0005, grad_fn=<MseLossBackward0>)\n",
            "epoch: 364 tensor(0.0005, grad_fn=<MseLossBackward0>)\n",
            "epoch: 365 tensor(0.0005, grad_fn=<MseLossBackward0>)\n",
            "epoch: 366 tensor(0.0005, grad_fn=<MseLossBackward0>)\n",
            "epoch: 367 tensor(0.0005, grad_fn=<MseLossBackward0>)\n",
            "epoch: 368 tensor(0.0005, grad_fn=<MseLossBackward0>)\n",
            "epoch: 369 tensor(0.0005, grad_fn=<MseLossBackward0>)\n",
            "epoch: 370 tensor(0.0005, grad_fn=<MseLossBackward0>)\n",
            "epoch: 371 tensor(0.0005, grad_fn=<MseLossBackward0>)\n",
            "epoch: 372 tensor(0.0005, grad_fn=<MseLossBackward0>)\n",
            "epoch: 373 tensor(0.0005, grad_fn=<MseLossBackward0>)\n",
            "epoch: 374 tensor(0.0005, grad_fn=<MseLossBackward0>)\n",
            "epoch: 375 tensor(0.0005, grad_fn=<MseLossBackward0>)\n",
            "epoch: 376 tensor(0.0005, grad_fn=<MseLossBackward0>)\n",
            "epoch: 377 tensor(0.0005, grad_fn=<MseLossBackward0>)\n",
            "epoch: 378 tensor(0.0005, grad_fn=<MseLossBackward0>)\n",
            "epoch: 379 tensor(0.0005, grad_fn=<MseLossBackward0>)\n",
            "epoch: 380 tensor(0.0005, grad_fn=<MseLossBackward0>)\n",
            "epoch: 381 tensor(0.0005, grad_fn=<MseLossBackward0>)\n",
            "epoch: 382 tensor(0.0005, grad_fn=<MseLossBackward0>)\n",
            "epoch: 383 tensor(0.0005, grad_fn=<MseLossBackward0>)\n",
            "epoch: 384 tensor(0.0005, grad_fn=<MseLossBackward0>)\n",
            "epoch: 385 tensor(0.0005, grad_fn=<MseLossBackward0>)\n",
            "epoch: 386 tensor(0.0005, grad_fn=<MseLossBackward0>)\n",
            "epoch: 387 tensor(0.0004, grad_fn=<MseLossBackward0>)\n",
            "epoch: 388 tensor(0.0004, grad_fn=<MseLossBackward0>)\n",
            "epoch: 389 tensor(0.0004, grad_fn=<MseLossBackward0>)\n",
            "epoch: 390 tensor(0.0004, grad_fn=<MseLossBackward0>)\n",
            "epoch: 391 tensor(0.0004, grad_fn=<MseLossBackward0>)\n",
            "epoch: 392 tensor(0.0004, grad_fn=<MseLossBackward0>)\n",
            "epoch: 393 tensor(0.0004, grad_fn=<MseLossBackward0>)\n",
            "epoch: 394 tensor(0.0004, grad_fn=<MseLossBackward0>)\n",
            "epoch: 395 tensor(0.0004, grad_fn=<MseLossBackward0>)\n",
            "epoch: 396 tensor(0.0004, grad_fn=<MseLossBackward0>)\n",
            "epoch: 397 tensor(0.0004, grad_fn=<MseLossBackward0>)\n",
            "epoch: 398 tensor(0.0004, grad_fn=<MseLossBackward0>)\n",
            "epoch: 399 tensor(0.0004, grad_fn=<MseLossBackward0>)\n",
            "epoch: 400 tensor(0.0004, grad_fn=<MseLossBackward0>)\n",
            "epoch: 401 tensor(0.0004, grad_fn=<MseLossBackward0>)\n",
            "epoch: 402 tensor(0.0004, grad_fn=<MseLossBackward0>)\n",
            "epoch: 403 tensor(0.0004, grad_fn=<MseLossBackward0>)\n",
            "epoch: 404 tensor(0.0004, grad_fn=<MseLossBackward0>)\n",
            "epoch: 405 tensor(0.0004, grad_fn=<MseLossBackward0>)\n",
            "epoch: 406 tensor(0.0004, grad_fn=<MseLossBackward0>)\n",
            "epoch: 407 tensor(0.0004, grad_fn=<MseLossBackward0>)\n",
            "epoch: 408 tensor(0.0004, grad_fn=<MseLossBackward0>)\n",
            "epoch: 409 tensor(0.0004, grad_fn=<MseLossBackward0>)\n",
            "epoch: 410 tensor(0.0004, grad_fn=<MseLossBackward0>)\n",
            "epoch: 411 tensor(0.0004, grad_fn=<MseLossBackward0>)\n",
            "epoch: 412 tensor(0.0004, grad_fn=<MseLossBackward0>)\n",
            "epoch: 413 tensor(0.0004, grad_fn=<MseLossBackward0>)\n",
            "epoch: 414 tensor(0.0004, grad_fn=<MseLossBackward0>)\n",
            "epoch: 415 tensor(0.0004, grad_fn=<MseLossBackward0>)\n",
            "epoch: 416 tensor(0.0004, grad_fn=<MseLossBackward0>)\n",
            "epoch: 417 tensor(0.0004, grad_fn=<MseLossBackward0>)\n",
            "epoch: 418 tensor(0.0004, grad_fn=<MseLossBackward0>)\n",
            "epoch: 419 tensor(0.0004, grad_fn=<MseLossBackward0>)\n",
            "epoch: 420 tensor(0.0004, grad_fn=<MseLossBackward0>)\n",
            "epoch: 421 tensor(0.0004, grad_fn=<MseLossBackward0>)\n",
            "epoch: 422 tensor(0.0004, grad_fn=<MseLossBackward0>)\n",
            "epoch: 423 tensor(0.0004, grad_fn=<MseLossBackward0>)\n",
            "epoch: 424 tensor(0.0004, grad_fn=<MseLossBackward0>)\n",
            "epoch: 425 tensor(0.0004, grad_fn=<MseLossBackward0>)\n",
            "epoch: 426 tensor(0.0004, grad_fn=<MseLossBackward0>)\n",
            "epoch: 427 tensor(0.0004, grad_fn=<MseLossBackward0>)\n",
            "epoch: 428 tensor(0.0004, grad_fn=<MseLossBackward0>)\n",
            "epoch: 429 tensor(0.0004, grad_fn=<MseLossBackward0>)\n",
            "epoch: 430 tensor(0.0004, grad_fn=<MseLossBackward0>)\n",
            "epoch: 431 tensor(0.0004, grad_fn=<MseLossBackward0>)\n",
            "epoch: 432 tensor(0.0004, grad_fn=<MseLossBackward0>)\n",
            "epoch: 433 tensor(0.0004, grad_fn=<MseLossBackward0>)\n",
            "epoch: 434 tensor(0.0004, grad_fn=<MseLossBackward0>)\n",
            "epoch: 435 tensor(0.0004, grad_fn=<MseLossBackward0>)\n",
            "epoch: 436 tensor(0.0004, grad_fn=<MseLossBackward0>)\n",
            "epoch: 437 tensor(0.0004, grad_fn=<MseLossBackward0>)\n",
            "epoch: 438 tensor(0.0004, grad_fn=<MseLossBackward0>)\n",
            "epoch: 439 tensor(0.0004, grad_fn=<MseLossBackward0>)\n",
            "epoch: 440 tensor(0.0004, grad_fn=<MseLossBackward0>)\n",
            "epoch: 441 tensor(0.0004, grad_fn=<MseLossBackward0>)\n",
            "epoch: 442 tensor(0.0004, grad_fn=<MseLossBackward0>)\n",
            "epoch: 443 tensor(0.0004, grad_fn=<MseLossBackward0>)\n",
            "epoch: 444 tensor(0.0004, grad_fn=<MseLossBackward0>)\n",
            "epoch: 445 tensor(0.0004, grad_fn=<MseLossBackward0>)\n",
            "epoch: 446 tensor(0.0004, grad_fn=<MseLossBackward0>)\n",
            "epoch: 447 tensor(0.0004, grad_fn=<MseLossBackward0>)\n",
            "epoch: 448 tensor(0.0004, grad_fn=<MseLossBackward0>)\n",
            "epoch: 449 tensor(0.0004, grad_fn=<MseLossBackward0>)\n",
            "epoch: 450 tensor(0.0003, grad_fn=<MseLossBackward0>)\n",
            "epoch: 451 tensor(0.0003, grad_fn=<MseLossBackward0>)\n",
            "epoch: 452 tensor(0.0003, grad_fn=<MseLossBackward0>)\n",
            "epoch: 453 tensor(0.0003, grad_fn=<MseLossBackward0>)\n",
            "epoch: 454 tensor(0.0003, grad_fn=<MseLossBackward0>)\n",
            "epoch: 455 tensor(0.0003, grad_fn=<MseLossBackward0>)\n",
            "epoch: 456 tensor(0.0003, grad_fn=<MseLossBackward0>)\n",
            "epoch: 457 tensor(0.0003, grad_fn=<MseLossBackward0>)\n",
            "epoch: 458 tensor(0.0003, grad_fn=<MseLossBackward0>)\n",
            "epoch: 459 tensor(0.0003, grad_fn=<MseLossBackward0>)\n",
            "epoch: 460 tensor(0.0003, grad_fn=<MseLossBackward0>)\n",
            "epoch: 461 tensor(0.0003, grad_fn=<MseLossBackward0>)\n",
            "epoch: 462 tensor(0.0003, grad_fn=<MseLossBackward0>)\n",
            "epoch: 463 tensor(0.0003, grad_fn=<MseLossBackward0>)\n",
            "epoch: 464 tensor(0.0003, grad_fn=<MseLossBackward0>)\n",
            "epoch: 465 tensor(0.0003, grad_fn=<MseLossBackward0>)\n",
            "epoch: 466 tensor(0.0003, grad_fn=<MseLossBackward0>)\n",
            "epoch: 467 tensor(0.0003, grad_fn=<MseLossBackward0>)\n",
            "epoch: 468 tensor(0.0003, grad_fn=<MseLossBackward0>)\n",
            "epoch: 469 tensor(0.0003, grad_fn=<MseLossBackward0>)\n",
            "epoch: 470 tensor(0.0003, grad_fn=<MseLossBackward0>)\n",
            "epoch: 471 tensor(0.0003, grad_fn=<MseLossBackward0>)\n",
            "epoch: 472 tensor(0.0003, grad_fn=<MseLossBackward0>)\n",
            "epoch: 473 tensor(0.0003, grad_fn=<MseLossBackward0>)\n",
            "epoch: 474 tensor(0.0003, grad_fn=<MseLossBackward0>)\n",
            "epoch: 475 tensor(0.0003, grad_fn=<MseLossBackward0>)\n",
            "epoch: 476 tensor(0.0003, grad_fn=<MseLossBackward0>)\n",
            "epoch: 477 tensor(0.0003, grad_fn=<MseLossBackward0>)\n",
            "epoch: 478 tensor(0.0003, grad_fn=<MseLossBackward0>)\n",
            "epoch: 479 tensor(0.0003, grad_fn=<MseLossBackward0>)\n",
            "epoch: 480 tensor(0.0003, grad_fn=<MseLossBackward0>)\n",
            "epoch: 481 tensor(0.0003, grad_fn=<MseLossBackward0>)\n",
            "epoch: 482 tensor(0.0003, grad_fn=<MseLossBackward0>)\n",
            "epoch: 483 tensor(0.0003, grad_fn=<MseLossBackward0>)\n",
            "epoch: 484 tensor(0.0003, grad_fn=<MseLossBackward0>)\n",
            "epoch: 485 tensor(0.0003, grad_fn=<MseLossBackward0>)\n",
            "epoch: 486 tensor(0.0003, grad_fn=<MseLossBackward0>)\n",
            "epoch: 487 tensor(0.0003, grad_fn=<MseLossBackward0>)\n",
            "epoch: 488 tensor(0.0003, grad_fn=<MseLossBackward0>)\n",
            "epoch: 489 tensor(0.0003, grad_fn=<MseLossBackward0>)\n",
            "epoch: 490 tensor(0.0003, grad_fn=<MseLossBackward0>)\n",
            "epoch: 491 tensor(0.0003, grad_fn=<MseLossBackward0>)\n",
            "epoch: 492 tensor(0.0003, grad_fn=<MseLossBackward0>)\n",
            "epoch: 493 tensor(0.0003, grad_fn=<MseLossBackward0>)\n",
            "epoch: 494 tensor(0.0003, grad_fn=<MseLossBackward0>)\n",
            "epoch: 495 tensor(0.0003, grad_fn=<MseLossBackward0>)\n",
            "epoch: 496 tensor(0.0003, grad_fn=<MseLossBackward0>)\n",
            "epoch: 497 tensor(0.0003, grad_fn=<MseLossBackward0>)\n",
            "epoch: 498 tensor(0.0003, grad_fn=<MseLossBackward0>)\n",
            "epoch: 499 tensor(0.0003, grad_fn=<MseLossBackward0>)\n"
          ]
        }
      ]
    },
    {
      "cell_type": "code",
      "source": [
        "pred = model(X_train).detach().numpy()\n",
        "plt.plot(X,pred,\"ro\")"
      ],
      "metadata": {
        "colab": {
          "base_uri": "https://localhost:8080/",
          "height": 448
        },
        "id": "5wEkigogTGJl",
        "outputId": "50157c6f-4f44-4e3c-a7ed-c35fd186c5b0"
      },
      "execution_count": null,
      "outputs": [
        {
          "output_type": "execute_result",
          "data": {
            "text/plain": [
              "[<matplotlib.lines.Line2D at 0x7d1d47ae12a0>]"
            ]
          },
          "metadata": {},
          "execution_count": 58
        },
        {
          "output_type": "display_data",
          "data": {
            "text/plain": [
              "<Figure size 640x480 with 1 Axes>"
            ],
            "image/png": "[encoded data removed]"
          },
          "metadata": {}
        }
      ]
    },
    {
      "cell_type": "code",
      "source": [
        "# can I do gradient descent on the model itself, i.e update input based on model output?\n",
        "\n",
        "x = torch.tensor([-10.0],requires_grad = True)\n",
        "\n",
        "optimizer = torch.optim.Adam([x], lr=0.1)\n",
        "\n",
        "for i in range(1000):\n",
        "  out = model(x)\n",
        "  out.backward()\n",
        "  optimizer.step()\n",
        "  optimizer.zero_grad()\n",
        "\n",
        "print(x,model(x))  # close enough"
      ],
      "metadata": {
        "colab": {
          "base_uri": "https://localhost:8080/"
        },
        "id": "KIY7SPvaVr8h",
        "outputId": "a28ec432-3a3a-4ca4-968f-7ac250ebe663"
      },
      "execution_count": null,
      "outputs": [
        {
          "output_type": "stream",
          "name": "stdout",
          "text": [
            "tensor([0.1154], requires_grad=True) tensor([2.0005], grad_fn=<AddBackward0>)\n"
          ]
        }
      ]
    },
    {
      "cell_type": "code",
      "source": [],
      "metadata": {
        "id": "Qx7-4_nSH8HD"
      },
      "execution_count": null,
      "outputs": []
    },
    {
      "cell_type": "markdown",
      "source": [
        "# Rnns: The pytorch way"
      ],
      "metadata": {
        "id": "1OzsMaU5ghSV"
      }
    },
    {
      "cell_type": "code",
      "source": [
        "!wget https://raw.githubusercontent.com/jbrownlee/Datasets/master/airline-passengers.csv\n",
        "import pandas as pd\n",
        "data = pd.read_csv(\"airline-passengers.csv\")"
      ],
      "metadata": {
        "colab": {
          "base_uri": "https://localhost:8080/"
        },
        "id": "oUakZj20Opq0",
        "outputId": "ac09bf00-b529-4f39-ee34-9811058db2bc"
      },
      "execution_count": null,
      "outputs": [
        {
          "output_type": "stream",
          "name": "stdout",
          "text": [
            "--2023-06-29 21:49:29--  https://raw.githubusercontent.com/jbrownlee/Datasets/master/airline-passengers.csv\n",
            "Resolving raw.githubusercontent.com (raw.githubusercontent.com)... 185.199.108.133, 185.199.109.133, 185.199.110.133, ...\n",
            "Connecting to raw.githubusercontent.com (raw.githubusercontent.com)|185.199.108.133|:443... connected.\n",
            "HTTP request sent, awaiting response... 200 OK\n",
            "Length: 2180 (2.1K) [text/plain]\n",
            "Saving to: ‘airline-passengers.csv.1’\n",
            "\n",
            "\rairline-passengers.   0%[                    ]       0  --.-KB/s               \rairline-passengers. 100%[===================>]   2.13K  --.-KB/s    in 0s      \n",
            "\n",
            "2023-06-29 21:49:29 (31.8 MB/s) - ‘airline-passengers.csv.1’ saved [2180/2180]\n",
            "\n"
          ]
        }
      ]
    },
    {
      "cell_type": "code",
      "source": [
        "import matplotlib.pyplot as plt\n",
        "plt.plot(data[\"Passengers\"])\n",
        "split = int(len(data)*0.7)\n",
        "timeseries = data[\"Passengers\"]\n",
        "train,test = data[\"Passengers\"][:split], data[\"Passengers\"][split:]\n",
        "train.shape,test.shape"
      ],
      "metadata": {
        "colab": {
          "base_uri": "https://localhost:8080/",
          "height": 448
        },
        "id": "VjKY8svIqJ_h",
        "outputId": "77cd288d-4a8d-4d2d-de66-f83f86336c90"
      },
      "execution_count": null,
      "outputs": [
        {
          "output_type": "execute_result",
          "data": {
            "text/plain": [
              "((100,), (44,))"
            ]
          },
          "metadata": {},
          "execution_count": 66
        },
        {
          "output_type": "display_data",
          "data": {
            "text/plain": [
              "<Figure size 640x480 with 1 Axes>"
            ],
            "image/png": "[encoded data removed]"
          },
          "metadata": {}
        }
      ]
    },
    {
      "cell_type": "code",
      "source": [
        "def create_seq(data,stepsize=5,type=\"train\",m=0,s=1):\n",
        "  X,y = [],[]\n",
        "\n",
        "  if type==\"train\":\n",
        "    m = data.mean()\n",
        "    s = data.std()\n",
        "\n",
        "  data = (data - m)/s\n",
        "\n",
        "  data = list(data)\n",
        "  for i in range(len(data)-stepsize): # [0,1,2,3,4]\n",
        "    feature = data[i:i+stepsize]\n",
        "    target = data[i+stepsize]\n",
        "    X.append(feature)\n",
        "    y.append(target)\n",
        "  return torch.tensor(X).float().view(-1,5,1), torch.tensor(y).float().view(-1,1),m,s"
      ],
      "metadata": {
        "id": "f6ooSwfbyXbW"
      },
      "execution_count": null,
      "outputs": []
    },
    {
      "cell_type": "code",
      "source": [
        "X_train,Y_train,m,s = create_seq(train)\n",
        "X_test,Y_test,m_,s_ = create_seq(test,m=m,s=s,type=\"test\")"
      ],
      "metadata": {
        "id": "NBnVo-X44kTm"
      },
      "execution_count": null,
      "outputs": []
    },
    {
      "cell_type": "code",
      "source": [
        "X_train = X_train.view(-1,5,1)\n",
        "Y_train = Y_train.view(-1,1)\n",
        "X_train.shape, X_test.shape"
      ],
      "metadata": {
        "colab": {
          "base_uri": "https://localhost:8080/"
        },
        "id": "oz_x99yZ5KCO",
        "outputId": "8e8f55bd-bad1-4d24-c3c1-830ce23966a8"
      },
      "execution_count": null,
      "outputs": [
        {
          "output_type": "execute_result",
          "data": {
            "text/plain": [
              "(torch.Size([95, 5, 1]), torch.Size([39, 5, 1]))"
            ]
          },
          "metadata": {},
          "execution_count": 82
        }
      ]
    },
    {
      "cell_type": "code",
      "source": [
        "class Airmodel(nn.Module):\n",
        "  def __init__(self):\n",
        "    super().__init__()\n",
        "    self.lstm = nn.LSTM(input_size =1,hidden_size =50,num_layers=1,batch_first=True)\n",
        "    self.linear = nn.Linear(50,1)\n",
        "  def forward(self,x):\n",
        "    x,_ = self.lstm(x)\n",
        "    x = x[:,-1,:] # only the last\n",
        "    x = self.linear(x)\n",
        "    return x"
      ],
      "metadata": {
        "id": "RYh-1-tP5ltt"
      },
      "execution_count": null,
      "outputs": []
    },
    {
      "cell_type": "code",
      "source": [
        "import numpy as np\n",
        "import torch.utils.data as data\n",
        "model = Airmodel()\n",
        "optimizer = torch.optim.Adam(model.parameters())\n",
        "loss_fn = nn.MSELoss()\n",
        "loader = data.DataLoader(data.TensorDataset(X_train, Y_train), shuffle=True, batch_size=32)\n",
        "\n"
      ],
      "metadata": {
        "id": "c_J4Ve1u6Bm1"
      },
      "execution_count": null,
      "outputs": []
    },
    {
      "cell_type": "code",
      "source": [
        "n_epochs = 2000\n",
        "for epoch in range(n_epochs):\n",
        "    model.train()\n",
        "    for X_batch, y_batch in loader:\n",
        "        y_pred = model(X_batch)\n",
        "        loss = loss_fn(y_pred, y_batch)\n",
        "        optimizer.zero_grad()\n",
        "        loss.backward()\n",
        "        optimizer.step()\n",
        "    # Validation\n",
        "    if epoch % 100 != 0:\n",
        "        continue\n",
        "    model.eval()\n",
        "    with torch.no_grad():\n",
        "        y_pred = model(X_train)\n",
        "        train_rmse = np.sqrt(loss_fn(y_pred, Y_train))\n",
        "        y_pred = model(X_test)\n",
        "        test_rmse = np.sqrt(loss_fn(y_pred, Y_test))\n",
        "    print(\"Epoch %d: train RMSE %.4f, test RMSE %.4f\" % (epoch, train_rmse, test_rmse))"
      ],
      "metadata": {
        "colab": {
          "base_uri": "https://localhost:8080/"
        },
        "id": "4JoOm_MtJVb5",
        "outputId": "6af34441-afa1-4fe2-e770-098f1d517d21"
      },
      "execution_count": null,
      "outputs": [
        {
          "output_type": "stream",
          "name": "stdout",
          "text": [
            "Epoch 0: train RMSE 0.0256, test RMSE 0.9445\n",
            "Epoch 100: train RMSE 0.0211, test RMSE 0.9505\n",
            "Epoch 200: train RMSE 0.0133, test RMSE 0.9478\n",
            "Epoch 300: train RMSE 0.0105, test RMSE 0.9502\n",
            "Epoch 400: train RMSE 0.0183, test RMSE 0.9496\n",
            "Epoch 500: train RMSE 0.0106, test RMSE 0.9481\n",
            "Epoch 600: train RMSE 0.0370, test RMSE 0.9610\n",
            "Epoch 700: train RMSE 0.0019, test RMSE 0.9445\n",
            "Epoch 800: train RMSE 0.0153, test RMSE 0.9402\n",
            "Epoch 900: train RMSE 0.0142, test RMSE 0.9456\n",
            "Epoch 1000: train RMSE 0.0109, test RMSE 0.9466\n",
            "Epoch 1100: train RMSE 0.0045, test RMSE 0.9445\n",
            "Epoch 1200: train RMSE 0.0089, test RMSE 0.9444\n",
            "Epoch 1300: train RMSE 0.0115, test RMSE 0.9379\n",
            "Epoch 1400: train RMSE 0.0082, test RMSE 0.9373\n",
            "Epoch 1500: train RMSE 0.0017, test RMSE 0.9386\n",
            "Epoch 1600: train RMSE 0.0012, test RMSE 0.9386\n",
            "Epoch 1700: train RMSE 0.0173, test RMSE 0.9320\n",
            "Epoch 1800: train RMSE 0.0024, test RMSE 0.9430\n",
            "Epoch 1900: train RMSE 0.0007, test RMSE 0.9426\n"
          ]
        }
      ]
    },
    {
      "cell_type": "code",
      "source": [
        "train_size = len(train)\n",
        "lookback = 5\n",
        "with torch.no_grad():\n",
        "    # shift train predictions for plotting\n",
        "    train_plot = np.ones_like(timeseries) * np.nan\n",
        "    y_pred = model(X_train)\n",
        "\n",
        "    train_plot[lookback:train_size] = model(X_train).view(-1)*s +m\n",
        "    # shift test predictions for plotting\n",
        "    test_plot = np.ones_like(timeseries) * np.nan\n",
        "    test_plot[train_size+lookback:len(timeseries)] = model(X_test).view(-1)*s +m\n",
        "# plot\n",
        "plt.plot(timeseries, c='b')\n",
        "plt.plot(train_plot, c='r')\n",
        "plt.plot(test_plot, c='g')\n",
        "plt.show()"
      ],
      "metadata": {
        "colab": {
          "base_uri": "https://localhost:8080/",
          "height": 430
        },
        "id": "Q5f7slcs8lqA",
        "outputId": "be27f950-2535-4a18-9b10-c2af35f7ef79"
      },
      "execution_count": null,
      "outputs": [
        {
          "output_type": "display_data",
          "data": {
            "text/plain": [
              "<Figure size 640x480 with 1 Axes>"
            ],
            "image/png": "[encoded data removed]"
          },
          "metadata": {}
        }
      ]
    }
  ]
}
